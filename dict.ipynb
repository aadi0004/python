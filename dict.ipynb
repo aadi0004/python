{
 "cells": [
  {
   "cell_type": "code",
   "execution_count": 1,
   "id": "2e475c97-93bf-4734-9888-588e7ed9a26e",
   "metadata": {},
   "outputs": [],
   "source": [
    "# Dict\n",
    "# key value pair\n",
    " # key:unique"
   ]
  },
  {
   "cell_type": "code",
   "execution_count": 6,
   "id": "ee0724bb-5640-4d3d-a6c8-8792fdef44a4",
   "metadata": {},
   "outputs": [
    {
     "data": {
      "text/plain": [
       "{'userid': 200, 'name': 'aman', 23: 'as'}"
      ]
     },
     "execution_count": 6,
     "metadata": {},
     "output_type": "execute_result"
    }
   ],
   "source": [
    "mydict={'userid':23,'name':'aman'}\n",
    "mydict.update({'userid':200,23:'as'})\n",
    "mydict"
   ]
  },
  {
   "cell_type": "code",
   "execution_count": 7,
   "id": "ee0b5547-41b1-405b-a77c-a9057a431fdf",
   "metadata": {},
   "outputs": [
    {
     "data": {
      "text/plain": [
       "dict_keys(['userid', 'name', 23])"
      ]
     },
     "execution_count": 7,
     "metadata": {},
     "output_type": "execute_result"
    }
   ],
   "source": [
    "mydict.keys()"
   ]
  },
  {
   "cell_type": "code",
   "execution_count": 8,
   "id": "a7c4661b-be84-47b6-8371-adddb3fa9a16",
   "metadata": {},
   "outputs": [
    {
     "data": {
      "text/plain": [
       "dict_items([('userid', 200), ('name', 'aman'), (23, 'as')])"
      ]
     },
     "execution_count": 8,
     "metadata": {},
     "output_type": "execute_result"
    }
   ],
   "source": [
    "mydict.items()"
   ]
  },
  {
   "cell_type": "code",
   "execution_count": 9,
   "id": "ca21740d-0d34-4ccc-96ad-5e4e7becd556",
   "metadata": {},
   "outputs": [
    {
     "name": "stdout",
     "output_type": "stream",
     "text": [
      "('userid', 200)\n",
      "('name', 'aman')\n",
      "(23, 'as')\n"
     ]
    }
   ],
   "source": [
    "asd=[('userid', 200), ('name', 'aman'), (23, 'as')]\n",
    "for i in asd:\n",
    "    print(i)"
   ]
  },
  {
   "cell_type": "code",
   "execution_count": 11,
   "id": "9f8842f3-d63c-49d7-a558-530bb6ee1a1e",
   "metadata": {},
   "outputs": [
    {
     "name": "stdout",
     "output_type": "stream",
     "text": [
      "{1: 1, 2: 1, 3: 1, 4: 1, 5: 1, 6: 1, 7: 1, 8: 1, 9: 1, 10: 1, 11: 1, 12: 1, 13: 1, 14: 1, 15: 1, 16: 1, 17: 1, 18: 1, 19: 1, 20: 1, 21: 1, 22: 1, 23: 1, 24: 1, 25: 1, 26: 1, 27: 1, 28: 1, 29: 1, 30: 1, 31: 1, 32: 1, 33: 1, 34: 1, 35: 1, 36: 1, 37: 1, 38: 1, 39: 1, 40: 1, 41: 1, 42: 1, 43: 1, 44: 1, 45: 1, 46: 1, 47: 1, 48: 1, 49: 1, 50: 1, 51: 1, 52: 1, 53: 1, 54: 1, 55: 1, 56: 1, 57: 1, 58: 1, 59: 1, 60: 1, 61: 1, 62: 1, 63: 1, 64: 1, 65: 1, 66: 1, 67: 1, 68: 1, 69: 1, 70: 1, 71: 1, 72: 1, 73: 1, 74: 1, 75: 1, 76: 1, 77: 1, 78: 1, 79: 1, 80: 1, 81: 1, 82: 1, 83: 1, 84: 1, 85: 1, 86: 1, 87: 1, 88: 1, 89: 1, 90: 1, 91: 1, 92: 1, 93: 1, 94: 1, 95: 1, 96: 1, 97: 1, 98: 1, 99: 1, 100: 1}\n"
     ]
    }
   ],
   "source": [
    "mydict={}\n",
    "for i in range(1,101):\n",
    "    mydict[i]=1\n",
    "print(mydict)"
   ]
  },
  {
   "cell_type": "code",
   "execution_count": 12,
   "id": "941ef894-8853-4e17-ac37-19381a5c7e70",
   "metadata": {},
   "outputs": [
    {
     "name": "stdout",
     "output_type": "stream",
     "text": [
      "{2: 'asd', 1: 1, 3: 1, 4: 1, 5: 1, 6: 1, 7: 1, 8: 1, 9: 1, 10: 1, 11: 1, 12: 1, 13: 1, 14: 1, 15: 1, 16: 1, 17: 1, 18: 1, 19: 1, 20: 1, 21: 1, 22: 1, 23: 1, 24: 1, 25: 1, 26: 1, 27: 1, 28: 1, 29: 1, 30: 1, 31: 1, 32: 1, 33: 1, 34: 1, 35: 1, 36: 1, 37: 1, 38: 1, 39: 1, 40: 1, 41: 1, 42: 1, 43: 1, 44: 1, 45: 1, 46: 1, 47: 1, 48: 1, 49: 1, 50: 1, 51: 1, 52: 1, 53: 1, 54: 1, 55: 1, 56: 1, 57: 1, 58: 1, 59: 1, 60: 1, 61: 1, 62: 1, 63: 1, 64: 1, 65: 1, 66: 1, 67: 1, 68: 1, 69: 1, 70: 1, 71: 1, 72: 1, 73: 1, 74: 1, 75: 1, 76: 1, 77: 1, 78: 1, 79: 1, 80: 1, 81: 1, 82: 1, 83: 1, 84: 1, 85: 1, 86: 1, 87: 1, 88: 1, 89: 1, 90: 1, 91: 1, 92: 1, 93: 1, 94: 1, 95: 1, 96: 1, 97: 1, 98: 1, 99: 1, 100: 1}\n"
     ]
    }
   ],
   "source": [
    "mydict={2:'asd'}\n",
    "for i in range(1,101):\n",
    "    if i not in mydict:\n",
    "        mydict[i]=1\n",
    "print(mydict)"
   ]
  },
  {
   "cell_type": "code",
   "execution_count": 14,
   "id": "c8c2ab7a-d43d-4b9b-acc0-83f737052923",
   "metadata": {},
   "outputs": [
    {
     "name": "stdout",
     "output_type": "stream",
     "text": [
      "{'salary': 305}\n"
     ]
    }
   ],
   "source": [
    "mydict={'salary':300}\n",
    "mydict['salary']= mydict['salary']+5\n",
    "\n",
    "print(mydict)\n"
   ]
  },
  {
   "cell_type": "code",
   "execution_count": 16,
   "id": "8d7c80f6-c38b-41ef-b861-9d29afa3c469",
   "metadata": {},
   "outputs": [
    {
     "name": "stdout",
     "output_type": "stream",
     "text": [
      "{'count': 9}\n"
     ]
    }
   ],
   "source": [
    "mydict={'count':0}\n",
    "for i in range(1,10):\n",
    "    mydict['count'] =mydict['count'] +1\n",
    "print(mydict)"
   ]
  },
  {
   "cell_type": "code",
   "execution_count": 20,
   "id": "90b7c2e4-f2d6-4239-86f6-4efa2fc2600f",
   "metadata": {},
   "outputs": [
    {
     "name": "stdout",
     "output_type": "stream",
     "text": [
      "{'h': 4, 't': 1, 'u': 1, 's': 1, 'a': 1, 'r': 1}\n"
     ]
    }
   ],
   "source": [
    "s='tushar'\n",
    "mydict={}\n",
    "for i in s:\n",
    "    if i not in mydict:\n",
    "        mydict[i]=mydict[i]=1\n",
    "    else:\n",
    "        mydict[i]=mydict[i]+1\n",
    "\n",
    "print(mydict)"
   ]
  },
  {
   "cell_type": "code",
   "execution_count": 21,
   "id": "ac0b0806-3a07-45e6-8e66-165e3d0b1a10",
   "metadata": {},
   "outputs": [
    {
     "name": "stdout",
     "output_type": "stream",
     "text": [
      "{'t': 1, 'u': 1, 's': 1, 'h': 1, 'a': 1, 'r': 1}\n"
     ]
    }
   ],
   "source": [
    "s='tushar'\n",
    "mydict={}\n",
    "for i in range(0,len(s)):\n",
    "    if i not in mydict:\n",
    "        mydict[s[i]]=mydict[s[i]]=1\n",
    "    else:\n",
    "        mydict[s[i]]=mydict[s[i]]+1\n",
    "\n",
    "print(mydict)"
   ]
  },
  {
   "cell_type": "code",
   "execution_count": 22,
   "id": "265519f4-66d3-4664-8f7e-94af53a36993",
   "metadata": {},
   "outputs": [
    {
     "name": "stdout",
     "output_type": "stream",
     "text": [
      "{'hey': 3, 'hello': 5, 'tushar': 6}\n"
     ]
    }
   ],
   "source": [
    "s='hey hello tushar'\n",
    "b={}\n",
    "\n",
    "a=s.split(' ')\n",
    "for i in a :\n",
    "    b[i] = b[i]=len(i)\n",
    "\n",
    "print(b)\n",
    "    "
   ]
  },
  {
   "cell_type": "code",
   "execution_count": 24,
   "id": "852144ba-4714-4d6a-a62d-8f70d1a339f8",
   "metadata": {},
   "outputs": [
    {
     "name": "stdout",
     "output_type": "stream",
     "text": [
      "{'hey': 1, 'hello': 1, 'tushar': 1}\n"
     ]
    }
   ],
   "source": [
    "s='hey hello tushar'\n",
    "mydict={}\n",
    "\n",
    "a=s.split(' ')\n",
    "for i in a :\n",
    "    if i not in mydict:\n",
    "        mydict[i]=mydict[i]=1\n",
    "    else:\n",
    "        mydict[i]=mydict[i]+1\n",
    "\n",
    "print(mydict)\n",
    "    "
   ]
  },
  {
   "cell_type": "code",
   "execution_count": 25,
   "id": "c18cd416-6f46-4974-821a-2b641ccf8b99",
   "metadata": {},
   "outputs": [
    {
     "name": "stdout",
     "output_type": "stream",
     "text": [
      "('hey', 1) <class 'tuple'> hey\n",
      "('hello', 1) <class 'tuple'> hello\n",
      "('tushar', 1) <class 'tuple'> tushar\n"
     ]
    }
   ],
   "source": [
    "mydict={'hey': 1, 'hello': 1, 'tushar': 1}\n",
    "for i in mydict.items():\n",
    "    print(i, type(i),  i[0])"
   ]
  },
  {
   "cell_type": "code",
   "execution_count": 26,
   "id": "d2ab06c3-7c86-4bd1-9b09-3f7d29eb78df",
   "metadata": {},
   "outputs": [],
   "source": [
    "lst =[10,20,30,10,10,20] \n",
    "# frequency of each number "
   ]
  },
  {
   "cell_type": "code",
   "execution_count": 28,
   "id": "38476759-1ac5-4e9f-b297-ae949b5e687c",
   "metadata": {},
   "outputs": [
    {
     "name": "stdout",
     "output_type": "stream",
     "text": [
      "{10: 3, 20: 2, 30: 1}\n"
     ]
    }
   ],
   "source": [
    "s =[10,20,30,10,10,20]\n",
    "mydict={}\n",
    "\n",
    "for i in s:\n",
    "    if i not in mydict:\n",
    "        mydict[i]=mydict[i]=1\n",
    "    else:\n",
    "        mydict[i]=mydict[i]+1\n",
    "\n",
    "print(mydict)"
   ]
  },
  {
   "cell_type": "markdown",
   "id": "f0e23c5e-cef7-4b57-9946-9e23e67f55d4",
   "metadata": {},
   "source": [
    "## Set"
   ]
  },
  {
   "cell_type": "code",
   "execution_count": 45,
   "id": "7ab51d42-a999-470a-a1ee-7feb75882707",
   "metadata": {},
   "outputs": [],
   "source": [
    "# Unique values only\n",
    "# Set contain only immutable element\n",
    "# Set is mutable\n",
    "# No index position"
   ]
  },
  {
   "cell_type": "code",
   "execution_count": 53,
   "id": "a93c399d-75ea-4652-9c34-7f1886cddfca",
   "metadata": {},
   "outputs": [
    {
     "data": {
      "text/plain": [
       "{1, 2, 4, 5, 34}"
      ]
     },
     "execution_count": 53,
     "metadata": {},
     "output_type": "execute_result"
    }
   ],
   "source": [
    "myset= {1,2,34,4,5,4}\n",
    "myset"
   ]
  },
  {
   "cell_type": "code",
   "execution_count": 47,
   "id": "085bf689-aded-4b25-8975-ca0dbc6aa145",
   "metadata": {},
   "outputs": [
    {
     "data": {
      "text/plain": [
       "{20, 3, 34, 4, 5, 'hey'}"
      ]
     },
     "execution_count": 47,
     "metadata": {},
     "output_type": "execute_result"
    }
   ],
   "source": [
    "myset.add('hey')\n",
    "myset.remove(2)  # error if element is not abilable\n",
    "myset.discard(0)\n",
    "myset.pop()\n",
    "myset.update([20,3,5,4])  \n",
    "myset"
   ]
  },
  {
   "cell_type": "code",
   "execution_count": 55,
   "id": "9be9b3b7-31a8-4cb3-a4c8-4de8968920cd",
   "metadata": {},
   "outputs": [
    {
     "data": {
      "text/plain": [
       "{10, 20, 30, 40, 50}"
      ]
     },
     "execution_count": 55,
     "metadata": {},
     "output_type": "execute_result"
    }
   ],
   "source": [
    "myset={10,20,30}\n",
    "myset2={30,40,50}\n",
    "myset.union(myset2)"
   ]
  },
  {
   "cell_type": "code",
   "execution_count": 56,
   "id": "bf973c62-11d5-41f6-accb-1b48e5cbe6a3",
   "metadata": {},
   "outputs": [
    {
     "data": {
      "text/plain": [
       "{30}"
      ]
     },
     "execution_count": 56,
     "metadata": {},
     "output_type": "execute_result"
    }
   ],
   "source": [
    "myset.intersection(myset2)"
   ]
  },
  {
   "cell_type": "markdown",
   "id": "a7108ca1-85c7-4dbb-9d7b-10ada495a79e",
   "metadata": {},
   "source": [
    "## Assignment"
   ]
  },
  {
   "cell_type": "code",
   "execution_count": 57,
   "id": "a1e8dda4-6506-4987-8ce1-83869ed9205e",
   "metadata": {},
   "outputs": [],
   "source": [
    "# myset.difference\n",
    "# myset.intersection\n",
    "# myset.intersection_update\n",
    "# myset.issubset\n",
    "# myset.symmetric_difference"
   ]
  },
  {
   "cell_type": "code",
   "execution_count": null,
   "id": "97022c79-b053-481b-8b6f-34cac6ec2174",
   "metadata": {},
   "outputs": [],
   "source": [
    "list/dict/set comprehension "
   ]
  }
 ],
 "metadata": {
  "kernelspec": {
   "display_name": "Python 3 (ipykernel)",
   "language": "python",
   "name": "python3"
  },
  "language_info": {
   "codemirror_mode": {
    "name": "ipython",
    "version": 3
   },
   "file_extension": ".py",
   "mimetype": "text/x-python",
   "name": "python",
   "nbconvert_exporter": "python",
   "pygments_lexer": "ipython3",
   "version": "3.12.7"
  }
 },
 "nbformat": 4,
 "nbformat_minor": 5
}
