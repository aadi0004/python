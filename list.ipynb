{  
 "cells": [
  {
   "cell_type": "code",
   "execution_count": 11,
   "id": "d7c194dc-f1ca-4822-a1ad-7d5b88ee4aaf",
   "metadata": {},
   "outputs": [
    {
     "name": "stdout",
     "output_type": "stream",
     "text": [
      "['yash', 10, 20, 100, '', 300]\n"
     ]
    }
   ],
   "source": [
    "lst=[10,20,23,\"\"]\n",
    "lst[2]=100  #Update the value\n",
    "lst.append(300)\n",
    "lst.insert(0,\"yash\")  #No use\n",
    "print(lst)"
   ]
  },
  {
   "cell_type": "code",
   "execution_count": 13,
   "id": "2018911e-08ce-49fa-9b2a-174e30e6958f",
   "metadata": {},
   "outputs": [
    {
     "name": "stdout",
     "output_type": "stream",
     "text": [
      "[10, 23]\n"
     ]
    }
   ],
   "source": [
    "mylist=[10,20,23,\"asd\"]\n",
    "x=mylist.pop()\n",
    "mylist.remove(20)\n",
    "print(mylist)"
   ]
  },
  {
   "cell_type": "code",
   "execution_count": 15,
   "id": "ebbfd8bb-116e-4a0d-9f56-354e570eb3bc",
   "metadata": {},
   "outputs": [
    {
     "name": "stdout",
     "output_type": "stream",
     "text": [
      "[10, 20, 23, 'asd', 23, 67, 89, 'i', 's', 'h', 'a', [12, 23]]\n"
     ]
    }
   ],
   "source": [
    "mylist=[10,20,23,\"asd\"]\n",
    "mylist.extend([23,67,89])\n",
    "mylist.extend(\"isha\")\n",
    "mylist.append([12,23])\n",
    "print(mylist)"
   ]
  },
  {
   "cell_type": "code",
   "execution_count": 17,
   "id": "1c86e668-72fa-49f1-b565-b621bb572cdc",
   "metadata": {},
   "outputs": [
    {
     "name": "stdout",
     "output_type": "stream",
     "text": [
      "0 20\n",
      "1 30\n",
      "2 40\n",
      "3 50\n"
     ]
    }
   ],
   "source": [
    "mylist=[20,30,40,50]\n",
    "for i in range(0,len(mylist)):\n",
    "    print(i,mylist[i])"
   ]
  },
  {
   "cell_type": "code",
   "execution_count": 22,
   "id": "3b028cf3-7282-443b-94b2-779c19f6983e",
   "metadata": {},
   "outputs": [
    {
     "name": "stdout",
     "output_type": "stream",
     "text": [
      "3\n"
     ]
    }
   ],
   "source": [
    "mylist=[20,30,40,50,3]\n",
    "for i in range(0,len(mylist)):\n",
    "    if(mylist[i]%2 ==0):\n",
    "        # print(mylist[i], \"even\")\n",
    "        pass\n",
    "    else:\n",
    "        print(mylist[i])"
   ]
  },
  {
   "cell_type": "code",
   "execution_count": 28,
   "id": "c2c1c192-2a9b-4f61-aa4e-dec3c3b6945d",
   "metadata": {},
   "outputs": [
    {
     "name": "stdout",
     "output_type": "stream",
     "text": [
      "50\n"
     ]
    }
   ],
   "source": [
    "mylist=[20,30,40,50,3]\n",
    "maxx=mylist[0]\n",
    "for i in range(0,len(mylist)):\n",
    "    if(mylist[i]>maxx):\n",
    "        maxx=mylist[i]\n",
    "\n",
    "print(maxx)\n",
    "        "
   ]
  },
  {
   "cell_type": "code",
   "execution_count": 31,
   "id": "446abd07-b6de-4779-b70e-a15e5b11240f",
   "metadata": {},
   "outputs": [
    {
     "name": "stdout",
     "output_type": "stream",
     "text": [
      "1\n"
     ]
    }
   ],
   "source": [
    "mylist=[20,30,1,40,50,3]\n",
    "minn=mylist[0]\n",
    "for i in range(0,len(mylist)):\n",
    "    if(mylist[i]<minn):\n",
    "        minn=mylist[i]\n",
    "\n",
    "print(minn)\n",
    "        "
   ]
  },
  {
   "cell_type": "code",
   "execution_count": 34,
   "id": "7612ccf6-d449-46dc-bd32-dee68c935b91",
   "metadata": {},
   "outputs": [
    {
     "name": "stdout",
     "output_type": "stream",
     "text": [
      "20\n",
      "nested 20 30\n",
      "nested 20 1\n",
      "nested 20 40\n",
      "nested 20 50\n",
      "nested 20 3\n",
      "30\n",
      "nested 30 1\n",
      "nested 30 40\n",
      "nested 30 50\n",
      "nested 30 3\n",
      "1\n",
      "nested 1 40\n",
      "nested 1 50\n",
      "nested 1 3\n",
      "40\n",
      "nested 40 50\n",
      "nested 40 3\n",
      "50\n",
      "nested 50 3\n",
      "3\n"
     ]
    }
   ],
   "source": [
    "mylist=[20,30,1,40,50,3]\n",
    "for i in range(0,len(mylist)):\n",
    "    print(mylist[i])\n",
    "    for j in range(i+1, len(mylist)):\n",
    "        print(\"nested\",mylist[i], mylist[j])"
   ]
  },
  {
   "cell_type": "code",
   "execution_count": 37,
   "id": "b91e1fde-782b-459f-8369-453c86a03a77",
   "metadata": {},
   "outputs": [
    {
     "name": "stdout",
     "output_type": "stream",
     "text": [
      "30 50\n"
     ]
    }
   ],
   "source": [
    "mylist=[20,30,1,40,50,3]\n",
    "for i in range(0,len(mylist)):\n",
    "    for j in range(i+1, len(mylist)):\n",
    "        if(mylist[i]+mylist[j]==80):\n",
    "            print(mylist[i],mylist[j])"
   ]
  },
  {
   "cell_type": "code",
   "execution_count": null,
   "id": "c1a963b9-4464-4315-b503-25665833f2ff",
   "metadata": {},
   "outputs": [],
   "source": []
  }
 ],
 "metadata": {
  "kernelspec": {
   "display_name": "Python 3 (ipykernel)",
   "language": "python",
   "name": "python3"
  },
  "language_info": {
   "codemirror_mode": {
    "name": "ipython",
    "version": 3
   },
   "file_extension": ".py",
   "mimetype": "text/x-python",
   "name": "python",
   "nbconvert_exporter": "python",
   "pygments_lexer": "ipython3",
   "version": "3.12.7"
  }
 },
 "nbformat": 4,
 "nbformat_minor": 5
}
