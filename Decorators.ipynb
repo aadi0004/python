{
 "cells": [
  {
   "cell_type": "code",
   "execution_count": 1,
   "id": "d7e886fa-3f5b-42a3-add0-51ba2ed0992a",
   "metadata": {},
   "outputs": [],
   "source": [
    "# Decorator\n",
    "# Design pattern => func working change without making any change in the exact code"
   ]
  },
  {
   "cell_type": "code",
   "execution_count": 2,
   "id": "4fdd9b48-51e7-41b1-b188-2504f50e7ff4",
   "metadata": {},
   "outputs": [],
   "source": [
    "# if we write self in method than its called instence method \n",
    "# takes first parameter self\n",
    "# instance method can access instance variable"
   ]
  },
  {
   "cell_type": "code",
   "execution_count": 3,
   "id": "196f654f-9628-48f0-8458-f184aaca8eca",
   "metadata": {},
   "outputs": [],
   "source": [
    "class ABC:\n",
    "    company='regex'\n",
    "    @property\n",
    "    def info(self):\n",
    "        print(\"this is info function\")\n",
    "\n",
    "    @staticmethod\n",
    "    def adding(x,y):\n",
    "        print(x+y, ABC.company)\n",
    "\n",
    "# when we use static method then we does not need to use self parameter\n",
    "# static method are method which is bounded to class"
   ]
  },
  {
   "cell_type": "code",
   "execution_count": 4,
   "id": "79a83ad9-f084-4f17-a23f-e544c48ca544",
   "metadata": {},
   "outputs": [
    {
     "name": "stdout",
     "output_type": "stream",
     "text": [
      "this is info function\n"
     ]
    }
   ],
   "source": [
    "a1=ABC()\n",
    "a1.info"
   ]
  },
  {
   "cell_type": "code",
   "execution_count": 6,
   "id": "66538377-014b-4c33-b8c6-06ba74896def",
   "metadata": {},
   "outputs": [
    {
     "name": "stdout",
     "output_type": "stream",
     "text": [
      "57 regex\n"
     ]
    }
   ],
   "source": [
    "a1.adding(23,34)"
   ]
  },
  {
   "cell_type": "markdown",
   "id": "44fd36c5-6716-4aab-a40f-692ced29c9ec",
   "metadata": {},
   "source": [
    "## diff b/w class method , static method, instance method"
   ]
  },
  {
   "cell_type": "code",
   "execution_count": 23,
   "id": "3e48010c-a082-4978-8119-271d6b1054c5",
   "metadata": {},
   "outputs": [
    {
     "name": "stdout",
     "output_type": "stream",
     "text": [
      "f value :  <function out_func.<locals>.inner_func at 0x0000016E9C7A5120>\n"
     ]
    },
    {
     "data": {
      "text/plain": [
       "'THIS IS TEST FUNC'"
      ]
     },
     "execution_count": 23,
     "metadata": {},
     "output_type": "execute_result"
    }
   ],
   "source": [
    "def out_func(x):\n",
    "    def inner_func():\n",
    "        # print(\"this is inner func\",x())\n",
    "        s=x()  # x => calling test function and return the string\n",
    "        return s.upper()   # s.upper make it to upper case and return it to f keyword\n",
    "\n",
    "    \n",
    "    return inner_func\n",
    "\n",
    "def test():\n",
    "    return (\"this is test func\")\n",
    "\n",
    "f=out_func(test)\n",
    "print(\"f value : \",f)\n",
    "f()"
   ]
  },
  {
   "cell_type": "code",
   "execution_count": 12,
   "id": "232825e6-9a27-4902-9cd0-bd8a5eccd649",
   "metadata": {},
   "outputs": [],
   "source": [
    "# closure :=>> is a feature of python where we can access outer fun variable through inner functio"
   ]
  },
  {
   "cell_type": "code",
   "execution_count": 24,
   "id": "54d0c9d9-853d-4b82-8862-df67f3c257b3",
   "metadata": {},
   "outputs": [
    {
     "data": {
      "text/plain": [
       "'THIAS IS TEST FUNC'"
      ]
     },
     "execution_count": 24,
     "metadata": {},
     "output_type": "execute_result"
    }
   ],
   "source": [
    "def out_func(x):\n",
    "    def inner_func():\n",
    "        # print(\"this is inner func\",x())\n",
    "        s=x()  # x => calling test function and return the string\n",
    "        return s.upper()   # s.upper make it to upper case and return it to f keyword\n",
    "\n",
    "    \n",
    "    return inner_func\n",
    "def test():\n",
    "    return (\"thias is test func\")\n",
    "\n",
    "test=out_func(test)\n",
    "test()"
   ]
  },
  {
   "cell_type": "code",
   "execution_count": 1,
   "id": "d2ef17bc-d6d6-48e1-a49f-cbbb775f4ee9",
   "metadata": {},
   "outputs": [
    {
     "data": {
      "text/plain": [
       "'THIS IS TEST FUNC'"
      ]
     },
     "execution_count": 1,
     "metadata": {},
     "output_type": "execute_result"
    }
   ],
   "source": [
    "def out_func(x):\n",
    "    def inner_func():\n",
    "        # print(\"this is inner func\",x())\n",
    "        s=x()  # x => calling test function and return the string\n",
    "        return s.upper()   # s.upper make it to upper case and return it to f keyword\n",
    "\n",
    "    \n",
    "    return inner_func\n",
    "# now this is decorator direct change functionality \n",
    "@out_func\n",
    "def test():\n",
    "    return (\"this is test func\")\n",
    "\n",
    "test()"
   ]
  },
  {
   "cell_type": "code",
   "execution_count": 2,
   "id": "c8a888f7-4db1-4dd3-ae19-1027ed81af8b",
   "metadata": {},
   "outputs": [],
   "source": [
    "# when get all value from generator and again try to get value then show error ' stop iteration error '"
   ]
  },
  {
   "cell_type": "code",
   "execution_count": 3,
   "id": "db148edd-f537-453b-a88d-f0ae2b468096",
   "metadata": {},
   "outputs": [
    {
     "name": "stdout",
     "output_type": "stream",
     "text": [
      "this is func\n",
      "234\n"
     ]
    }
   ],
   "source": [
    "def func():\n",
    "    print(\"this is func\")\n",
    "    yield 234\n",
    "    print(\"secound time\")\n",
    "    yield 432\n",
    "\n",
    "gen=func()\n",
    "print( next(gen))"
   ]
  },
  {
   "cell_type": "code",
   "execution_count": 4,
   "id": "fbbba705-8cd0-46e6-88a1-133ff64991ca",
   "metadata": {},
   "outputs": [
    {
     "name": "stdout",
     "output_type": "stream",
     "text": [
      "secound time\n",
      "432\n"
     ]
    }
   ],
   "source": [
    "print( next(gen))\n"
   ]
  },
  {
   "cell_type": "code",
   "execution_count": 6,
   "id": "6815e244-6cdd-4c82-87f9-048965f0a4fd",
   "metadata": {},
   "outputs": [],
   "source": [
    "# print( next(gen))    # StopIteration  \n"
   ]
  },
  {
   "cell_type": "code",
   "execution_count": 9,
   "id": "7f8ce457-0f79-4fae-928b-6aa29fbf52ce",
   "metadata": {},
   "outputs": [],
   "source": [
    "# operator overloading\n",
    "class regex:\n",
    "    x=3\n",
    "    def __gt__(self,z):   # changing operator \n",
    "        return \"adding\"\n",
    "        "
   ]
  },
  {
   "cell_type": "code",
   "execution_count": 11,
   "id": "f1ddbefa-b5cf-4a53-a350-a6689d3b76da",
   "metadata": {},
   "outputs": [
    {
     "data": {
      "text/plain": [
       "'adding'"
      ]
     },
     "execution_count": 11,
     "metadata": {},
     "output_type": "execute_result"
    }
   ],
   "source": [
    "r1=regex()\n",
    "r2=regex()\n",
    "r1>r2   # __dunder__ function >=> __gt__(z)"
   ]
  },
  {
   "cell_type": "markdown",
   "id": "c09a5932-b368-4aa2-ab57-95d8f8da748f",
   "metadata": {},
   "source": [
    "# what is Recursive , why diff from for and while loop"
   ]
  },
  {
   "cell_type": "code",
   "execution_count": null,
   "id": "b9346fe5-c61f-4554-857f-43925f92f3aa",
   "metadata": {},
   "outputs": [],
   "source": []
  }
 ],
 "metadata": {
  "kernelspec": {
   "display_name": "Python 3 (ipykernel)",
   "language": "python",
   "name": "python3"
  },
  "language_info": {
   "codemirror_mode": {
    "name": "ipython",
    "version": 3
   },
   "file_extension": ".py",
   "mimetype": "text/x-python",
   "name": "python",
   "nbconvert_exporter": "python",
   "pygments_lexer": "ipython3",
   "version": "3.12.7"
  }
 },
 "nbformat": 4,
 "nbformat_minor": 5
}
