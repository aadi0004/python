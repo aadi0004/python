{
 "cells": [
  {
   "cell_type": "markdown",
   "id": "c5820dbd",
   "metadata": {},
   "source": [
    "## day 01"
   ]
  },
  {
   "cell_type": "raw",
   "id": "f8bfbd17",
   "metadata": {},
   "source": [
    "print()\n",
    "int           2,4,6,4\n",
    "float         12.34,34.3\n",
    "string        'age','ram'\n",
    "boolean       True,False\n",
    "list          12,34.2,'shiv']\n",
    "tuple         12.34,2,'raju')\n",
    "dictionary    {'Name':'Aaditya','age':19}\n",
    "set           {12,23,223}\n"
   ]
  },
  {
   "cell_type": "raw",
   "id": "f33c3dca",
   "metadata": {},
   "source": [
    "operators\n",
    "#arithmatic operator\n",
    "+,-,*,/,%,**,//\n",
    "\n",
    "#comaprision operator\n",
    "<,>,==,<=,>=,!=\n",
    "\n",
    "#logical operator\n",
    "and ,or,not "
   ]
  },
  {
   "cell_type": "markdown",
   "id": "04fa030f",
   "metadata": {},
   "source": [
    "## day 02"
   ]
  },
  {
   "cell_type": "code",
   "execution_count": 2,
   "id": "3dd74578",
   "metadata": {},
   "outputs": [
    {
     "name": "stdout",
     "output_type": "stream",
     "text": [
      "17\n",
      "7\n",
      "60\n",
      "2.4\n",
      "248832\n",
      "2\n",
      "2\n"
     ]
    }
   ],
   "source": [
    "#arithmatic operator\n",
    "a,b=12,5\n",
    "print(a+b)\n",
    "print(a-b)\n",
    "print(a*b)\n",
    "print(a/b)\n",
    "print(a**b)\n",
    "print(a%b)\n",
    "print(a//b)"
   ]
  },
  {
   "cell_type": "code",
   "execution_count": 4,
   "id": "3997660f",
   "metadata": {},
   "outputs": [
    {
     "name": "stdout",
     "output_type": "stream",
     "text": [
      "True\n",
      "False\n",
      "False\n",
      "False\n",
      "True\n",
      "True\n"
     ]
    }
   ],
   "source": [
    "#comaprision operator\n",
    "print(a>b)\n",
    "print(a<b)\n",
    "print(a==b)\n",
    "print(a<=b)\n",
    "print(a>=b)\n",
    "print(a!=b)"
   ]
  },
  {
   "cell_type": "code",
   "execution_count": 9,
   "id": "1a159d4f",
   "metadata": {},
   "outputs": [
    {
     "name": "stdout",
     "output_type": "stream",
     "text": [
      "False\n",
      "True\n",
      "False\n"
     ]
    }
   ],
   "source": [
    "#logical operator\n",
    "c=23\n",
    "print(a>b and b>c)\n",
    "print(a>b or b>c)\n",
    "print(not(a>b))\n",
    "\n"
   ]
  },
  {
   "cell_type": "code",
   "execution_count": 10,
   "id": "30792952",
   "metadata": {},
   "outputs": [
    {
     "data": {
      "text/plain": [
       "False"
      ]
     },
     "execution_count": 10,
     "metadata": {},
     "output_type": "execute_result"
    }
   ],
   "source": [
    "a=[1,2,3]\n",
    "b=[1,2,3]\n",
    "a is b"
   ]
  },
  {
   "cell_type": "code",
   "execution_count": 21,
   "id": "7cc83d89",
   "metadata": {},
   "outputs": [
    {
     "name": "stdout",
     "output_type": "stream",
     "text": [
      "1964561336080\n",
      "1964561336080\n"
     ]
    },
    {
     "data": {
      "text/plain": [
       "True"
      ]
     },
     "execution_count": 21,
     "metadata": {},
     "output_type": "execute_result"
    }
   ],
   "source": [
    "a=50\n",
    "b=50\n",
    "print(id(a))\n",
    "print(id((b)))\n",
    "a is b"
   ]
  },
  {
   "cell_type": "markdown",
   "id": "8a45df01",
   "metadata": {},
   "source": [
    "### membership operator"
   ]
  },
  {
   "cell_type": "code",
   "execution_count": 12,
   "id": "924c1fd1",
   "metadata": {},
   "outputs": [
    {
     "data": {
      "text/plain": [
       "True"
      ]
     },
     "execution_count": 12,
     "metadata": {},
     "output_type": "execute_result"
    }
   ],
   "source": [
    "'str' in 'string'"
   ]
  },
  {
   "cell_type": "code",
   "execution_count": 13,
   "id": "3f49bda1",
   "metadata": {},
   "outputs": [
    {
     "data": {
      "text/plain": [
       "True"
      ]
     },
     "execution_count": 13,
     "metadata": {},
     "output_type": "execute_result"
    }
   ],
   "source": [
    "'ab as' in 'ab ashish'"
   ]
  },
  {
   "cell_type": "code",
   "execution_count": 14,
   "id": "70556c2a",
   "metadata": {},
   "outputs": [
    {
     "data": {
      "text/plain": [
       "False"
      ]
     },
     "execution_count": 14,
     "metadata": {},
     "output_type": "execute_result"
    }
   ],
   "source": [
    "'shiv' in 'shyam'"
   ]
  },
  {
   "cell_type": "code",
   "execution_count": 15,
   "id": "cd4dde74",
   "metadata": {},
   "outputs": [
    {
     "data": {
      "text/plain": [
       "True"
      ]
     },
     "execution_count": 15,
     "metadata": {},
     "output_type": "execute_result"
    }
   ],
   "source": [
    "'shiv' not in 'shyam'"
   ]
  },
  {
   "cell_type": "markdown",
   "id": "4cdf505a",
   "metadata": {},
   "source": [
    "### indentity operator"
   ]
  },
  {
   "cell_type": "code",
   "execution_count": 27,
   "id": "4c08af71",
   "metadata": {},
   "outputs": [
    {
     "data": {
      "text/plain": [
       "False"
      ]
     },
     "execution_count": 27,
     "metadata": {},
     "output_type": "execute_result"
    }
   ],
   "source": [
    "a=[2,3,4]\n",
    "b=[2,3,4]\n",
    "\n",
    "a is b"
   ]
  },
  {
   "cell_type": "code",
   "execution_count": 25,
   "id": "4b70d748",
   "metadata": {},
   "outputs": [
    {
     "data": {
      "text/plain": [
       "True"
      ]
     },
     "execution_count": 25,
     "metadata": {},
     "output_type": "execute_result"
    }
   ],
   "source": [
    "a=[2,3,4]\n",
    "b=a\n",
    "a is b"
   ]
  },
  {
   "cell_type": "markdown",
   "id": "68dc7558",
   "metadata": {},
   "source": [
    "### bitwise operator"
   ]
  },
  {
   "cell_type": "code",
   "execution_count": 1,
   "id": "41f3ecec",
   "metadata": {},
   "outputs": [
    {
     "name": "stdout",
     "output_type": "stream",
     "text": [
      "4\n",
      "15\n",
      "11\n",
      "28\n",
      "1\n",
      "-8\n"
     ]
    }
   ],
   "source": [
    "a=7\n",
    "b=12\n",
    "print(a&b)\n",
    "print(a|b)\n",
    "print(a^b)\n",
    "print(a<<2)\n",
    "print(a>>2)\n",
    "print(~a)"
   ]
  },
  {
   "cell_type": "code",
   "execution_count": null,
   "id": "8af72d90",
   "metadata": {},
   "outputs": [],
   "source": []
  }
 ],
 "metadata": {
  "kernelspec": {
   "display_name": "Python 3 (ipykernel)",
   "language": "python",
   "name": "python3"
  },
  "language_info": {
   "codemirror_mode": {
    "name": "ipython",
    "version": 3
   },
   "file_extension": ".py",
   "mimetype": "text/x-python",
   "name": "python",
   "nbconvert_exporter": "python",
   "pygments_lexer": "ipython3",
   "version": "3.10.9"
  }
 },
 "nbformat": 4,
 "nbformat_minor": 5
}
