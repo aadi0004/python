{
 "cells": [
  {
   "cell_type": "raw",
   "id": "a4b16717",
   "metadata": {},
   "source": [
    "Case Study 4: Office Employee Management\n",
    "Scenario: You need to create a system for managing employees:\n",
    "\n",
    "Person class (general details like name and age).\n",
    "\n",
    "Employee class (inherits Person and adds employee ID and designation).\n",
    "\n",
    "Manager class (inherits Employee and adds team management responsibilities).\n",
    "\n",
    "Requirements:\n",
    "\n",
    "Person should have methods to display basic details.\n",
    "\n",
    "Employee should add methods to display job details.\n",
    "\n",
    "Manager should add a method to list team members."
   ]
  },
  {
   "cell_type": "code",
   "execution_count": 16,
   "id": "acd76bf6",
   "metadata": {},
   "outputs": [
    {
     "name": "stdout",
     "output_type": "stream",
     "text": [
      "Name of employee is ram and his/her age is 34\n",
      "ram's emp_id is 23 and designation is teacher\n",
      "None\n",
      "['ram', 'shyam'] and work is teaching\n"
     ]
    }
   ],
   "source": [
    "class person:\n",
    "    \n",
    "    def details(self,pname,page):\n",
    "        self.pname=pname\n",
    "        self.page=page\n",
    "        return f\"Name of employee is {self.pname} and his/her age is {page}\"\n",
    "    \n",
    "class employee(person):\n",
    "    \n",
    "    def jobdetails(self,emp_id,designation):\n",
    "        self.emp_id=emp_id\n",
    "        self.designation=designation\n",
    "        return f\"{self.pname}'s emp_id is {self.emp_id} and designation is {self.designation}\"\n",
    "    \n",
    "class manager(employee):\n",
    "    \n",
    "    def team(self,work):\n",
    "        self.work=work\n",
    "        self.team_member=[self.pname]\n",
    "\n",
    "    \n",
    "    def add_member(self,aname):\n",
    "        self.aname=aname\n",
    "        self.team_member.append(aname)\n",
    "\n",
    "        return f\"{self.team_member} and work is {self.work}\"\n",
    "    \n",
    "    \n",
    "    \n",
    "p=manager()\n",
    "print(p.details('ram',34))\n",
    "\n",
    "print(p.jobdetails(23,'teacher'))\n",
    "print(p.team('teaching'))\n",
    "print(p.add_member('shyam'))"
   ]
  },
  {
   "cell_type": "code",
   "execution_count": 17,
   "id": "e2272da4",
   "metadata": {},
   "outputs": [
    {
     "name": "stdout",
     "output_type": "stream",
     "text": [
      "Tech solutions\n",
      "Future tech\n"
     ]
    }
   ],
   "source": [
    "class employee:\n",
    "    \n",
    "    company_name=\"Tech solutions\"\n",
    "    \n",
    "    def __init__(self,name,salary):\n",
    "        self.name=name\n",
    "        self.salary=salary\n",
    "        \n",
    "    @classmethod\n",
    "    def change_company_name(cls,new_name):\n",
    "        cls.company_name=new_name\n",
    "        \n",
    "emp1=employee('asd',2122)\n",
    "emp2=employee('asqw',342)\n",
    "\n",
    "# access class attribute\n",
    "print(employee.company_name)\n",
    "\n",
    "# change class attribute\n",
    "employee.change_company_name(\"Future tech\")\n",
    "print(employee.company_name)"
   ]
  },
  {
   "cell_type": "code",
   "execution_count": 18,
   "id": "6d254df1",
   "metadata": {},
   "outputs": [
    {
     "name": "stdout",
     "output_type": "stream",
     "text": [
      "6\n",
      "3\n"
     ]
    }
   ],
   "source": [
    "class mathoperations:\n",
    "    @staticmethod\n",
    "    def add(a,b):\n",
    "        return a+b\n",
    "    def sub(a,b):\n",
    "        return a-b\n",
    "    \n",
    "print(mathoperations.add(2,4))\n",
    "print(mathoperations.sub(4,1))"
   ]
  },
  {
   "cell_type": "code",
   "execution_count": 19,
   "id": "229329ab",
   "metadata": {},
   "outputs": [
    {
     "name": "stdout",
     "output_type": "stream",
     "text": [
      "hello i am sam from parent class\n",
      "I am 12 years old from child class\n"
     ]
    }
   ],
   "source": [
    " class parent:\n",
    "        def __init__(self,name):\n",
    "            self.name=name\n",
    "            \n",
    "        def great(self):\n",
    "            print(f\"hello i am {self.name} from parent class\")\n",
    "            \n",
    "class child(parent):\n",
    "    def __init__(self,name,age):\n",
    "        super().__init__(name)  # call the parent __init__ method\n",
    "        self.age=age\n",
    "        \n",
    "    def great(self):\n",
    "        super().great()  # call the parent great method\n",
    "        print(f\"I am {self.age} years old from child class\")\n",
    "        \n",
    "child=child('sam',12)\n",
    "child.great()"
   ]
  },
  {
   "cell_type": "code",
   "execution_count": 20,
   "id": "b78401cf",
   "metadata": {},
   "outputs": [
    {
     "name": "stdout",
     "output_type": "stream",
     "text": [
      "credit card payment of 100 processed\n",
      "paypal payment of 200 processed\n"
     ]
    }
   ],
   "source": [
    "from abc import ABC, abstractmethod\n",
    "\n",
    "class payment(ABC):\n",
    "    @abstractmethod\n",
    "    def make_payment(self,amount):\n",
    "        pass\n",
    "    \n",
    "class creditcardpayment(payment):\n",
    "    def make_payment(self,amount):\n",
    "        return f\"credit card payment of {amount} processed\"\n",
    "    \n",
    "class paypalpayment(payment):\n",
    "    def make_payment(self,amount):\n",
    "        return f\"paypal payment of {amount} processed\"\n",
    "    \n",
    "payment1=creditcardpayment()\n",
    "print(payment1.make_payment(100))\n",
    "\n",
    "payment2=paypalpayment()\n",
    "print(payment2.make_payment(200))"
   ]
  },
  {
   "cell_type": "code",
   "execution_count": 23,
   "id": "6388446d",
   "metadata": {},
   "outputs": [
    {
     "name": "stdout",
     "output_type": "stream",
     "text": [
      "woof\n",
      "meow\n",
      "moo\n"
     ]
    }
   ],
   "source": [
    "class animal:\n",
    "    def speek(self):\n",
    "        pass\n",
    "    \n",
    "class dog(animal):\n",
    "    def speek(self):\n",
    "        return \"woof\"\n",
    "    \n",
    "class cat(animal):\n",
    "    def speek(self):\n",
    "        return \"meow\"\n",
    "\n",
    "class cow(animal):\n",
    "    def speek(self):\n",
    "        return \"moo\"\n",
    "    \n",
    "def make_animal_speek(animal):\n",
    "    print(animal.speek())\n",
    "    \n",
    "animals=[dog(),cat(),cow()]\n",
    "\n",
    "for animal in animals:\n",
    "    make_animal_speek(animal)"
   ]
  },
  {
   "cell_type": "markdown",
   "id": "b0f583ad",
   "metadata": {},
   "source": [
    "## key points about overloading"
   ]
  },
  {
   "cell_type": "code",
   "execution_count": 24,
   "id": "367b80f2",
   "metadata": {},
   "outputs": [
    {
     "name": "stdout",
     "output_type": "stream",
     "text": [
      "Hello Guest\n",
      "Hello raj\n"
     ]
    }
   ],
   "source": [
    "def greet(name='Guest'):\n",
    "    print(f\"Hello {name}\")\n",
    "    \n",
    "greet()\n",
    "greet(\"raj\")"
   ]
  },
  {
   "cell_type": "code",
   "execution_count": 26,
   "id": "9128c80e",
   "metadata": {},
   "outputs": [
    {
     "name": "stdout",
     "output_type": "stream",
     "text": [
      "Function 'greet' is called\n",
      "hello saurabh\n",
      "function 'greet' finished execution\n"
     ]
    }
   ],
   "source": [
    "# Decorators\n",
    "\n",
    "def log_decorator(func):\n",
    "    def wrapper(*args,**kwargs):\n",
    "        print(f\"Function '{func.__name__}' is called\")\n",
    "        result = func(*args,**kwargs)\n",
    "        print(f\"function '{func.__name__}' finished execution\")\n",
    "        return result\n",
    "    return wrapper\n",
    "            \n",
    "              \n",
    "@log_decorator\n",
    "def greet(name):\n",
    "              print(f\"hello {name}\")\n",
    "              \n",
    "greet(\"saurabh\")\n",
    "                  "
   ]
  },
  {
   "cell_type": "code",
   "execution_count": null,
   "id": "c3671155",
   "metadata": {},
   "outputs": [],
   "source": []
  }
 ],
 "metadata": {
  "kernelspec": {
   "display_name": "Python 3 (ipykernel)",
   "language": "python",
   "name": "python3"
  },
  "language_info": {
   "codemirror_mode": {
    "name": "ipython",
    "version": 3
   },
   "file_extension": ".py",
   "mimetype": "text/x-python",
   "name": "python",
   "nbconvert_exporter": "python",
   "pygments_lexer": "ipython3",
   "version": "3.10.9"
  }
 },
 "nbformat": 4,
 "nbformat_minor": 5
}
