{
 "cells": [
  {
   "cell_type": "code",
   "execution_count": 1,
   "id": "443d5075-0247-4aec-ba37-6f9b1fd0e97f",
   "metadata": {},
   "outputs": [],
   "source": [
    "# encapculation\n",
    "# variable , method, ==> binding\n",
    "# class\n",
    "# to define the acccesibility\n",
    "# access modifier => public , private, protected, default"
   ]
  },
  {
   "cell_type": "code",
   "execution_count": 3,
   "id": "be06fbb2-749f-4d61-b305-c32d796e8570",
   "metadata": {},
   "outputs": [],
   "source": [
    "# public => public to all , can be access everywhere\n",
    "# private => only use in same class\n",
    "# protected => only inherited class can use it , Suggests internal use or by subclasses\n",
    "# default => within the package ,Hidden from outside, name mangled"
   ]
  },
  {
   "cell_type": "code",
   "execution_count": 15,
   "id": "5023784d-3603-41b4-b509-e4ae713bb310",
   "metadata": {},
   "outputs": [],
   "source": [
    "class ABC:\n",
    "    x=10\n",
    "    "
   ]
  },
  {
   "cell_type": "code",
   "execution_count": 14,
   "id": "0bfef8e5-014e-4064-a674-9ad08ef95107",
   "metadata": {},
   "outputs": [
    {
     "name": "stdout",
     "output_type": "stream",
     "text": [
      "10\n"
     ]
    }
   ],
   "source": [
    "class regex1:\n",
    "    print(ABC.x)"
   ]
  },
  {
   "cell_type": "code",
   "execution_count": 16,
   "id": "f47dc415-4e0c-4b75-aecd-ce3666294848",
   "metadata": {},
   "outputs": [],
   "source": [
    "class ABC:\n",
    "    _y=20\n",
    "    __salary=300"
   ]
  },
  {
   "cell_type": "code",
   "execution_count": 23,
   "id": "012530f7-198f-438e-95d6-80279afe6332",
   "metadata": {},
   "outputs": [],
   "source": [
    "a1=ABC()\n",
    "# a1.__salary show error can not access"
   ]
  },
  {
   "cell_type": "code",
   "execution_count": 21,
   "id": "cc3699f8-4285-4c1d-a87b-c0007699304d",
   "metadata": {},
   "outputs": [
    {
     "data": {
      "text/plain": [
       "300"
      ]
     },
     "execution_count": 21,
     "metadata": {},
     "output_type": "execute_result"
    }
   ],
   "source": [
    "a1._ABC__salary"
   ]
  },
  {
   "cell_type": "code",
   "execution_count": 24,
   "id": "4df158ab-f96b-4615-b2f9-7688e837d474",
   "metadata": {},
   "outputs": [
    {
     "name": "stdout",
     "output_type": "stream",
     "text": [
      "300\n"
     ]
    }
   ],
   "source": [
    "class regex1:\n",
    "    print(a1._ABC__salary)"
   ]
  },
  {
   "cell_type": "code",
   "execution_count": 25,
   "id": "fa2ffa26-68f2-42df-b203-997207541ac7",
   "metadata": {},
   "outputs": [],
   "source": [
    "class company:\n",
    "    name='regex'\n",
    "    def salary(self):\n",
    "        print(\"salary is 10000\")"
   ]
  },
  {
   "cell_type": "code",
   "execution_count": 30,
   "id": "1192724d-f6a0-48e8-8233-736edb2c802b",
   "metadata": {},
   "outputs": [],
   "source": [
    "class employee(company):\n",
    "    def info(self):\n",
    "        print(\"employee name is aman\")"
   ]
  },
  {
   "cell_type": "code",
   "execution_count": 34,
   "id": "3957ad7a-da13-421c-97b1-edb593cac070",
   "metadata": {},
   "outputs": [
    {
     "name": "stdout",
     "output_type": "stream",
     "text": [
      "employee name is aman\n"
     ]
    },
    {
     "data": {
      "text/plain": [
       "'regex'"
      ]
     },
     "execution_count": 34,
     "metadata": {},
     "output_type": "execute_result"
    }
   ],
   "source": [
    "e1=employee()\n",
    "e1.info()\n",
    "e1.name"
   ]
  },
  {
   "cell_type": "code",
   "execution_count": 35,
   "id": "cc6ec360-8b8d-47f9-b69b-da1ea50cb665",
   "metadata": {},
   "outputs": [],
   "source": [
    "# ABC => abstract base class\n",
    "from abc impoer ABC, abstractmethod\n",
    "class company(ABC):\n",
    "    name='regex'\n",
    "\n",
    "    @abstractmethod\n",
    "    def salary(self):\n",
    "        pass"
   ]
  },
  {
   "cell_type": "code",
   "execution_count": 39,
   "id": "810981a1-299d-47f7-8b9b-c04ba68d4cd0",
   "metadata": {},
   "outputs": [],
   "source": [
    "class employee(company):\n",
    "    def info(self):\n",
    "        print(\"employee name is aman\")\n",
    "\n",
    "    def salary(self):\n",
    "        print(\"salary for employee is 20000\")\n",
    "\n"
   ]
  },
  {
   "cell_type": "code",
   "execution_count": 40,
   "id": "eee88380-d5f5-4e7c-9a60-4ce3329a7852",
   "metadata": {},
   "outputs": [
    {
     "name": "stdout",
     "output_type": "stream",
     "text": [
      "salary for employee is 20000\n"
     ]
    }
   ],
   "source": [
    "e1=employee()\n",
    "e1.salary()"
   ]
  },
  {
   "cell_type": "code",
   "execution_count": null,
   "id": "a5cc593e-9585-4af0-8370-3bcc1b8d15d9",
   "metadata": {},
   "outputs": [],
   "source": []
  }
 ],
 "metadata": {
  "kernelspec": {
   "display_name": "Python 3 (ipykernel)",
   "language": "python",
   "name": "python3"
  },
  "language_info": {
   "codemirror_mode": {
    "name": "ipython",
    "version": 3
   },
   "file_extension": ".py",
   "mimetype": "text/x-python",
   "name": "python",
   "nbconvert_exporter": "python",
   "pygments_lexer": "ipython3",
   "version": "3.12.7"
  }
 },
 "nbformat": 4,
 "nbformat_minor": 5
}
