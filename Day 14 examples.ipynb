{
 "cells": [
  {
   "cell_type": "raw",
   "id": "83091865",
   "metadata": {},
   "source": [
    "1. write a python function that takes a list of lists and flattern it into a single list\n",
    " input=[[1,2,3],[4,5],[6,7,8]]\n",
    " output=[1,2,3,4,5,6,7,8]"
   ]
  },
  {
   "cell_type": "code",
   "execution_count": 1,
   "id": "77c396f4",
   "metadata": {},
   "outputs": [
    {
     "name": "stdout",
     "output_type": "stream",
     "text": [
      "[1, 2, 3, 4, 5, 6, 7, 8]\n"
     ]
    }
   ],
   "source": [
    "def flattern(nested_list):\n",
    "    flat_list=[item for sublist in nested_list for item in sublist]\n",
    "    return flat_list\n",
    "print(flattern([[1,2,3],[4,5],[6,7,8]]))"
   ]
  },
  {
   "cell_type": "raw",
   "id": "2d246596",
   "metadata": {},
   "source": [
    "2. write a python function to find the secound largest element in a list"
   ]
  },
  {
   "cell_type": "code",
   "execution_count": 4,
   "id": "42714bb0",
   "metadata": {},
   "outputs": [
    {
     "name": "stdout",
     "output_type": "stream",
     "text": [
      "56\n"
     ]
    }
   ],
   "source": [
    "def secound_largest(numbers):\n",
    "    unique=list(set(numbers))     #remove duplicates\n",
    "    unique.sort()\n",
    "    return unique[-2]\n",
    "print(secound_largest([1,2,3,445,56,34,56]))"
   ]
  },
  {
   "cell_type": "raw",
   "id": "e9214bd4",
   "metadata": {},
   "source": [
    "3. write a python function that rotetes a list to the right by a given number of steps\n",
    "input=[1,2,3,4,5], step =2\n",
    "output=[4,5,1,2,3]"
   ]
  },
  {
   "cell_type": "code",
   "execution_count": 9,
   "id": "6c9d1a94",
   "metadata": {},
   "outputs": [
    {
     "name": "stdout",
     "output_type": "stream",
     "text": [
      "[5, 1, 2, 3, 4]\n"
     ]
    }
   ],
   "source": [
    "def reroted_list(lst,steps):\n",
    "    steps=steps%len(lst)     # In case steps > len(lst)\n",
    "    return lst[-steps:]+ lst[:-steps]\n",
    "print(reroted_list([1,2,3,4,5],6))"
   ]
  },
  {
   "cell_type": "raw",
   "id": "364416e0",
   "metadata": {},
   "source": [
    "4. write a python function to find all pairs of numbers in a list that sum up to a target value\n",
    "input=[1,2,3,4,5], target =2\n",
    "output=[4,5,1,2,3]"
   ]
  },
  {
   "cell_type": "code",
   "execution_count": 10,
   "id": "9aa52c42",
   "metadata": {},
   "outputs": [
    {
     "name": "stdout",
     "output_type": "stream",
     "text": [
      "[(1, 4), (2, 3)]\n"
     ]
    }
   ],
   "source": [
    "def find_pair_with_sum(lst,target):\n",
    "    pairs=[]\n",
    "    for i in range(len(lst)):\n",
    "        for j in range(i+1,len(lst)):\n",
    "            if lst[i]+lst[j]==target:\n",
    "                pairs.append((lst[i],lst[j]))\n",
    "    return pairs\n",
    "print(find_pair_with_sum([1,2,3,4,5,6],5))"
   ]
  },
  {
   "cell_type": "raw",
   "id": "27a4a882",
   "metadata": {},
   "source": [
    "5. write a python function to find the common element between two lists without duplicates.\n",
    "list1=[1,2,3,4,5]\n",
    "list2=[4,5,6,7,8]\n",
    "output=[4,5]"
   ]
  },
  {
   "cell_type": "code",
   "execution_count": 16,
   "id": "c4195487",
   "metadata": {},
   "outputs": [],
   "source": [
    "def find_common(lst1,lst2):\n",
    "    return list(set(lst1) & set(lst2))"
   ]
  },
  {
   "cell_type": "code",
   "execution_count": 17,
   "id": "4a3725c6",
   "metadata": {},
   "outputs": [
    {
     "name": "stdout",
     "output_type": "stream",
     "text": [
      "[2, 4, 6]\n"
     ]
    }
   ],
   "source": [
    "print(find_common([1,2,3,4,5,6],[2,4,6,7]))"
   ]
  },
  {
   "cell_type": "code",
   "execution_count": null,
   "id": "319486dc",
   "metadata": {},
   "outputs": [],
   "source": []
  },
  {
   "cell_type": "code",
   "execution_count": null,
   "id": "db84125b",
   "metadata": {},
   "outputs": [],
   "source": []
  },
  {
   "cell_type": "code",
   "execution_count": 18,
   "id": "c4b957c0",
   "metadata": {},
   "outputs": [],
   "source": [
    "# 6. write a python program to reverse the element of a list\n",
    "# input=[1,2,3,4,5] output=[5,4,3,2,1]\n"
   ]
  },
  {
   "cell_type": "code",
   "execution_count": 8,
   "id": "60b9955b",
   "metadata": {},
   "outputs": [
    {
     "name": "stdout",
     "output_type": "stream",
     "text": [
      "[5, 4, 3, 2, 1]\n"
     ]
    }
   ],
   "source": [
    "def rev(lst):\n",
    "    return lst[: :-1]\n",
    "print(rev([1,2,3,4,5]))"
   ]
  },
  {
   "cell_type": "code",
   "execution_count": 10,
   "id": "733c35c5",
   "metadata": {},
   "outputs": [
    {
     "name": "stdout",
     "output_type": "stream",
     "text": [
      "[1, 2, 3, 4, 5]\n"
     ]
    }
   ],
   "source": [
    "# 7. write a python program  to remove duplicate element from a list\n",
    "# input=[1,2,3,4,5,5] output=[1,2,3,4,5]\n",
    "def rem_dup(lst):\n",
    "    lst=list(set(lst))\n",
    "    return lst\n",
    "print(rem_dup([1,2,3,4,5,5]))"
   ]
  },
  {
   "cell_type": "code",
   "execution_count": 12,
   "id": "a70d5dd2",
   "metadata": {},
   "outputs": [
    {
     "name": "stdout",
     "output_type": "stream",
     "text": [
      "[2, 3, 4, 5, 12]\n"
     ]
    }
   ],
   "source": [
    "# 8. write a python program to sort a list of numbers in accending order\n",
    "# input=[12,2,3,4,5] output=[2,3,4,5,12]\n",
    "def sorting(lst):\n",
    "    sorte=sorted(lst)\n",
    "    return sorte\n",
    "print(sorting([12,2,3,4,5]))\n"
   ]
  },
  {
   "cell_type": "code",
   "execution_count": 20,
   "id": "3f6b16c9",
   "metadata": {},
   "outputs": [
    {
     "name": "stdout",
     "output_type": "stream",
     "text": [
      "2\n"
     ]
    }
   ],
   "source": [
    "# 9. write a python program to count howmany element appers in a list\n",
    "# input=[1,2,2,3,4,5] , element=2  output=2\n",
    "def count_element(lst,element):\n",
    "    return lst.count(element)\n",
    "print(count_element([1,2,2,3,4,5],2))\n"
   ]
  },
  {
   "cell_type": "code",
   "execution_count": 19,
   "id": "c5379247",
   "metadata": {},
   "outputs": [
    {
     "name": "stdout",
     "output_type": "stream",
     "text": [
      "15\n"
     ]
    }
   ],
   "source": [
    "# 10. write a python program to find the sum of all element of a list\n",
    "# input=[1,2,3,4,5] output=15\n",
    "def sum_lst(lst):\n",
    "    sum1=0\n",
    "    for i in lst:\n",
    "        sum1=sum1+i\n",
    "    return sum1\n",
    "print(sum_lst([1,2,3,4,5]))"
   ]
  },
  {
   "cell_type": "code",
   "execution_count": null,
   "id": "de127103",
   "metadata": {},
   "outputs": [],
   "source": []
  }
 ],
 "metadata": {
  "kernelspec": {
   "display_name": "Python 3 (ipykernel)",
   "language": "python",
   "name": "python3"
  },
  "language_info": {
   "codemirror_mode": {
    "name": "ipython",
    "version": 3
   },
   "file_extension": ".py",
   "mimetype": "text/x-python",
   "name": "python",
   "nbconvert_exporter": "python",
   "pygments_lexer": "ipython3",
   "version": "3.10.9"
  }
 },
 "nbformat": 4,
 "nbformat_minor": 5
}
