{
 "cells": [
  {
   "cell_type": "code",
   "execution_count": 7,
   "id": "f16bd3ec",
   "metadata": {},
   "outputs": [
    {
     "name": "stdout",
     "output_type": "stream",
     "text": [
      "[12, 23, 45, 'asd', 'h', 'e', 'y', 24]\n"
     ]
    }
   ],
   "source": [
    "#append only can append one data\n",
    "a.append(24)\n",
    "print(a)"
   ]
  },
  {
   "cell_type": "code",
   "execution_count": 6,
   "id": "9318ad51",
   "metadata": {},
   "outputs": [
    {
     "name": "stdout",
     "output_type": "stream",
     "text": [
      "[12, 23, 45, 'asd', 'h', 'e', 'y']\n"
     ]
    }
   ],
   "source": [
    "#extend can add multiple value at a time individaually\n",
    "a=[12,23,45,'asd']\n",
    "a.extend(\"hey\")\n",
    "print(a)"
   ]
  },
  {
   "cell_type": "code",
   "execution_count": 5,
   "id": "ff8db8a3",
   "metadata": {},
   "outputs": [
    {
     "name": "stdout",
     "output_type": "stream",
     "text": [
      "[12, 23, 45, 'asd', 'hey', 'hello']\n"
     ]
    }
   ],
   "source": [
    "a=[12,23,45,'asd']\n",
    "a.extend([\"hey\",'hello'])\n",
    "print(a)\n"
   ]
  },
  {
   "cell_type": "code",
   "execution_count": 8,
   "id": "9679c509",
   "metadata": {},
   "outputs": [
    {
     "name": "stdout",
     "output_type": "stream",
     "text": [
      "[12, 23, 45]\n"
     ]
    }
   ],
   "source": [
    "a=[12,23,45,'asd']\n",
    "a.pop()\n",
    "print(a)\n",
    " "
   ]
  },
  {
   "cell_type": "code",
   "execution_count": 9,
   "id": "cb3ba2f0",
   "metadata": {},
   "outputs": [
    {
     "name": "stdout",
     "output_type": "stream",
     "text": [
      "[12, 23, 'asd']\n"
     ]
    }
   ],
   "source": [
    "#can give index value\n",
    "a=[12,23,45,'asd']\n",
    "a.pop(2)\n",
    "print(a)\n"
   ]
  },
  {
   "cell_type": "code",
   "execution_count": 14,
   "id": "433a80ca",
   "metadata": {},
   "outputs": [
    {
     "name": "stdout",
     "output_type": "stream",
     "text": [
      "[12, 23, 'asd']\n",
      "0 12\n",
      "1 23\n",
      "2 asd\n"
     ]
    }
   ],
   "source": [
    "print(a)\n",
    "for i in range(0,len(a)):\n",
    "    print(i, a[i])"
   ]
  },
  {
   "cell_type": "code",
   "execution_count": 13,
   "id": "84ad5555",
   "metadata": {},
   "outputs": [
    {
     "name": "stdout",
     "output_type": "stream",
     "text": [
      "45\n"
     ]
    }
   ],
   "source": [
    "lst=[12,23,45,56,6,677]\n",
    "for i in lst:\n",
    "    if(i%3==0 and i%5==0):\n",
    "        print(i)\n",
    "    "
   ]
  },
  {
   "cell_type": "code",
   "execution_count": null,
   "id": "9309d5a0",
   "metadata": {},
   "outputs": [],
   "source": []
  }
 ],
 "metadata": {
  "kernelspec": {
   "display_name": "Python 3 (ipykernel)",
   "language": "python",
   "name": "python3"
  },
  "language_info": {
   "codemirror_mode": {
    "name": "ipython",
    "version": 3
   },
   "file_extension": ".py",
   "mimetype": "text/x-python",
   "name": "python",
   "nbconvert_exporter": "python",
   "pygments_lexer": "ipython3",
   "version": "3.10.9"
  }
 },
 "nbformat": 4,
 "nbformat_minor": 5
}
