{
 "cells": [
  {
   "cell_type": "code",
   "execution_count": 6,
   "id": "c6972afd",
   "metadata": {},
   "outputs": [
    {
     "name": "stdout",
     "output_type": "stream",
     "text": [
      "enter number: 6\n",
      "1 2 3 4 5 6 "
     ]
    }
   ],
   "source": [
    "# 1. Write a program to print all natural numbers from 1 to n. – using while loop\n",
    "n=int(input(\"enter number: \"))\n",
    "i=1\n",
    "while(i<=n):\n",
    "    print(i,end=' ')\n",
    "    i+=1\n"
   ]
  },
  {
   "cell_type": "code",
   "execution_count": 1,
   "id": "1cd19b44",
   "metadata": {},
   "outputs": [
    {
     "name": "stdout",
     "output_type": "stream",
     "text": [
      "enter number: 5\n",
      "5 4 3 2 1 "
     ]
    }
   ],
   "source": [
    "# 2. Write a program to print all natural numbers in reverse (from n to 1). – using while loop\n",
    "n=int(input(\"enter number: \"))\n",
    "while(n>0):\n",
    "    print(n,end=' ')\n",
    "    n=n-1"
   ]
  },
  {
   "cell_type": "code",
   "execution_count": 2,
   "id": "8b23c60c",
   "metadata": {},
   "outputs": [
    {
     "name": "stdout",
     "output_type": "stream",
     "text": [
      "A B C D E F G H I J K L M N O P Q R S T U V W X Y Z "
     ]
    }
   ],
   "source": [
    "#3\n",
    "a=ord('A')\n",
    "while(a<=ord('Z')):\n",
    "    print(chr(a),end=\" \")\n",
    "    a+=1"
   ]
  },
  {
   "cell_type": "code",
   "execution_count": 2,
   "id": "fc49ec76",
   "metadata": {},
   "outputs": [
    {
     "name": "stdout",
     "output_type": "stream",
     "text": [
      "2 4 6 8 10 12 14 16 18 20 22 24 26 28 30 32 34 36 38 40 42 44 46 48 50 52 54 56 58 60 62 64 66 68 70 72 74 76 78 80 82 84 86 88 90 92 94 96 98 "
     ]
    }
   ],
   "source": [
    "# 4. Write a program to print all even numbers between 1 to 100. – using while loop\n",
    "i=1\n",
    "while(i<100):\n",
    "    if(i%2==0):\n",
    "        print(i,end=' ')\n",
    "    i+=1"
   ]
  },
  {
   "cell_type": "code",
   "execution_count": 9,
   "id": "a99518ea",
   "metadata": {},
   "outputs": [
    {
     "name": "stdout",
     "output_type": "stream",
     "text": [
      "enter number: 10\n",
      "odd sum: 25\n"
     ]
    }
   ],
   "source": [
    "# 5. Write a program to find the sum of all odd numbers between 1 to n.\n",
    "n=int(input(\"enter number: \"))\n",
    "sum1=0\n",
    "for i in range(1,n):\n",
    "    if(i%2 !=0):\n",
    "        sum1+=i\n",
    "print(\"odd sum:\",sum1)"
   ]
  },
  {
   "cell_type": "code",
   "execution_count": 17,
   "id": "6d612d93",
   "metadata": {},
   "outputs": [
    {
     "name": "stdout",
     "output_type": "stream",
     "text": [
      "enter number: 89\n",
      "Total digit: 2\n"
     ]
    }
   ],
   "source": [
    "# 6. Write a program to count the number of digits in a number.\n",
    "num=int(input(\"enter number: \"))\n",
    "rem=0\n",
    "count=0\n",
    "while(num>0):\n",
    "    rem=num%10\n",
    "    count+=1\n",
    "    num=num//10\n",
    "print(\"Total digit:\" ,count)"
   ]
  },
  {
   "cell_type": "code",
   "execution_count": 19,
   "id": "8852657b",
   "metadata": {},
   "outputs": [
    {
     "name": "stdout",
     "output_type": "stream",
     "text": [
      "enter number: 1233\n",
      "Digit sum: 9\n"
     ]
    }
   ],
   "source": [
    "# 7. Write a program to calculate the sum of digits of a number.\n",
    "num=int(input(\"enter number: \"))\n",
    "rem=0\n",
    "sum=0\n",
    "while(num>0):\n",
    "    rem=num%10\n",
    "    sum=sum+rem\n",
    "    num=num//10\n",
    "print(\"Digit sum:\" ,sum)"
   ]
  },
  {
   "cell_type": "code",
   "execution_count": 26,
   "id": "405fb5bd",
   "metadata": {},
   "outputs": [
    {
     "name": "stdout",
     "output_type": "stream",
     "text": [
      "enter number: 1234\n",
      "first digit: 1\n",
      "last digit: 4\n"
     ]
    }
   ],
   "source": [
    "# 8. Write a program to find the first and last digit of a number.\n",
    "num=int(input(\"enter number: \"))\n",
    "rem=0\n",
    "count=0\n",
    "last=num%10\n",
    "\n",
    "while(num>0):\n",
    "    rem=num%10\n",
    "    first=rem\n",
    "    num=num//10\n",
    "    \n",
    "print(\"first digit:\" ,first)\n",
    "print(\"last digit:\" ,last)"
   ]
  },
  {
   "cell_type": "code",
   "execution_count": 28,
   "id": "2200b816",
   "metadata": {},
   "outputs": [
    {
     "name": "stdout",
     "output_type": "stream",
     "text": [
      "enter number: 456789\n",
      "first digit: 4\n",
      "last digit: 9\n",
      "Sum of first and last digit: 13\n"
     ]
    }
   ],
   "source": [
    "# 9. Write a program to find the sum of first and last digit of a number.\n",
    "num=int(input(\"enter number: \"))\n",
    "rem=0\n",
    "count=0\n",
    "last=num%10\n",
    "\n",
    "while(num>0):\n",
    "    rem=num%10\n",
    "    first=rem\n",
    "    num=num//10\n",
    "    \n",
    "print(\"first digit:\" ,first)\n",
    "print(\"last digit:\" ,last)\n",
    "print(\"Sum of first and last digit:\" ,first+last)"
   ]
  },
  {
   "cell_type": "code",
   "execution_count": 32,
   "id": "01003c67",
   "metadata": {},
   "outputs": [
    {
     "name": "stdout",
     "output_type": "stream",
     "text": [
      "enter number: 456789\n",
      "reverse digit: 987654\n"
     ]
    }
   ],
   "source": [
    "# 10.Write a program to enter a number and print its reverse.\n",
    "num=int(input(\"enter number: \"))\n",
    "rem=0\n",
    "sum=0\n",
    "\n",
    "while(num>0):\n",
    "    rem=num%10\n",
    "    sum=sum*10+rem\n",
    "    num=num//10\n",
    "    \n",
    "print(\"reverse digit:\" ,sum)\n"
   ]
  },
  {
   "cell_type": "code",
   "execution_count": 42,
   "id": "bc0cda62",
   "metadata": {},
   "outputs": [
    {
     "name": "stdout",
     "output_type": "stream",
     "text": [
      "enter number: 5\n",
      "enter power 5\n",
      "3125\n"
     ]
    }
   ],
   "source": [
    "# 11.Write a program to find the power of a number using for loop.\n",
    "num=int(input('enter number: '))\n",
    "power=int(input(\"enter power \"))\n",
    "po=1\n",
    "for i in range(1,power+1):\n",
    "    po=num*po\n",
    "print(po)"
   ]
  },
  {
   "cell_type": "code",
   "execution_count": 50,
   "id": "d09e609e",
   "metadata": {},
   "outputs": [
    {
     "name": "stdout",
     "output_type": "stream",
     "text": [
      "enter num 15\n",
      "1\n",
      "3\n",
      "5\n",
      "15\n"
     ]
    }
   ],
   "source": [
    "# 12.Write a program to find all factors of a number.\n",
    "num=int(input(\"enter num \"))\n",
    "i=1\n",
    "for i in range(1,num+1):\n",
    "    if(num%i==0):\n",
    "        print(i)"
   ]
  },
  {
   "cell_type": "code",
   "execution_count": 55,
   "id": "80ec8f8d",
   "metadata": {},
   "outputs": [
    {
     "name": "stdout",
     "output_type": "stream",
     "text": [
      "enter number 5\n",
      "factorial is 120\n"
     ]
    }
   ],
   "source": [
    "# 13.Write a program to calculate the factorial of a number.\n",
    "num=int(input(\"enter number \"))\n",
    "fact=1\n",
    "while(num>0):\n",
    "    fact=fact*num\n",
    "    num=num-1\n",
    "print(f\"factorial is {fact}\")"
   ]
  },
  {
   "cell_type": "code",
   "execution_count": 1,
   "id": "afa7e275",
   "metadata": {},
   "outputs": [
    {
     "name": "stdout",
     "output_type": "stream",
     "text": [
      "enter num 24\n",
      "enter num2 36\n",
      "lcm is 72\n"
     ]
    }
   ],
   "source": [
    "# 14.Write a program to find LCM of two numbers.\n",
    "num=int(input(\"enter num \"))\n",
    "num2=int(input(\"enter num2 \"))\n",
    "a=[]\n",
    "for i in range(1,20):\n",
    "    a.append(num*i)\n",
    "# print(a)\n",
    "b=[]\n",
    "for j in range(1,20):\n",
    "    b.append(num2*j)\n",
    "# print(b)\n",
    "for i in a:\n",
    "    if(i in b):\n",
    "        print(\"lcm is\", i)\n",
    "        break"
   ]
  },
  {
   "cell_type": "code",
   "execution_count": 2,
   "id": "b0b15c99",
   "metadata": {},
   "outputs": [
    {
     "name": "stdout",
     "output_type": "stream",
     "text": [
      "enter number: 6\n",
      "not prime\n"
     ]
    }
   ],
   "source": [
    "# 15.Write a program to check whether a number is Prime number or not.\n",
    "num=int(input(\"enter number: \"))\n",
    "asd=0\n",
    "if(num>1):\n",
    "    for i in range(2,num):\n",
    "        if(num%i==0):\n",
    "            asd+=1\n",
    "#         else:\n",
    "#             print(num)\n",
    "            \n",
    "            break\n",
    "else:\n",
    "    print(\"not prime\")\n",
    "if(asd==1):\n",
    "    print(\"not prime\")\n",
    "else:\n",
    "    print(\"prime\")"
   ]
  },
  {
   "cell_type": "code",
   "execution_count": 2,
   "id": "ccf615f5",
   "metadata": {},
   "outputs": [
    {
     "name": "stdout",
     "output_type": "stream",
     "text": [
      "enter starting point: 12\n",
      "enter ending point: 23\n",
      "13\n",
      "17\n",
      "19\n",
      "23\n"
     ]
    }
   ],
   "source": [
    "#16.Write a program to print all Prime numbers between 1 to n.\n",
    "lower = int(input(\"enter starting point: \"))\n",
    "upper = int(input(\"enter ending point: \"))\n",
    "for num in range(lower, upper + 1):\n",
    "   if num > 1:\n",
    "       for i in range(2, num):\n",
    "           if (num % i) == 0:\n",
    "               break\n",
    "       else:\n",
    "           print(num)"
   ]
  },
  {
   "cell_type": "code",
   "execution_count": 68,
   "id": "6e2cf2b5",
   "metadata": {},
   "outputs": [],
   "source": []
  },
  {
   "cell_type": "code",
   "execution_count": 75,
   "id": "3bf24c57",
   "metadata": {},
   "outputs": [
    {
     "name": "stdout",
     "output_type": "stream",
     "text": [
      "enter number: 153\n",
      "number is armstrong:\n"
     ]
    }
   ],
   "source": [
    "# 18.Write a program to check whether a number is an Armstrong number or not.\n",
    "num=int(input(\"enter number: \"))\n",
    "rem=0\n",
    "sum=0\n",
    "a=num\n",
    "while(num>0):\n",
    "    rem=num%10\n",
    "    sum=sum+rem*rem*rem\n",
    "    num=num//10\n",
    "if(a==sum):\n",
    "    print(\"number is armstrong\")\n",
    "else:\n",
    "    print(\"not armstrong\")"
   ]
  },
  {
   "cell_type": "code",
   "execution_count": 26,
   "id": "128ddd9f",
   "metadata": {},
   "outputs": [
    {
     "name": "stdout",
     "output_type": "stream",
     "text": [
      "enter number: 145\n",
      "number is strong number:\n"
     ]
    }
   ],
   "source": [
    "# 19.Write a program to check whether a number is Strong number or not\n",
    "num=int(input(\"enter number: \"))\n",
    "rem=0\n",
    "fact=0\n",
    "sum1=0\n",
    "a=num\n",
    "while(num>0):\n",
    "    rem=num%10\n",
    "    fact=1\n",
    "    while(rem>0):\n",
    "        fact=fact*rem\n",
    "        rem=rem-1\n",
    "    sum1=sum1+fact\n",
    "#     print(fact)\n",
    "    num=num//10\n",
    "# print(sum1)\n",
    "if(a==sum1):\n",
    "    print(\"number is strong number:\")\n",
    "else:\n",
    "    print(\"not strong number\")"
   ]
  },
  {
   "cell_type": "code",
   "execution_count": 29,
   "id": "abc8089b",
   "metadata": {},
   "outputs": [
    {
     "name": "stdout",
     "output_type": "stream",
     "text": [
      "enter num 6\n",
      "6\n",
      "number is perfect number:\n"
     ]
    }
   ],
   "source": [
    "# 20.Write a program to check whether a number is perfect number or not\n",
    "num=int(input(\"enter num \"))\n",
    "i=1\n",
    "sum1=0\n",
    "for i in range(1,num):\n",
    "    if(num%i==0):\n",
    "#         print(i)\n",
    "        sum1=sum1+i\n",
    "print(sum1)\n",
    "if(num==sum1):\n",
    "    print(\"number is perfect number:\")\n",
    "else:\n",
    "    print(\"not perfect number\")"
   ]
  },
  {
   "cell_type": "code",
   "execution_count": 37,
   "id": "ee86e110",
   "metadata": {},
   "outputs": [
    {
     "name": "stdout",
     "output_type": "stream",
     "text": [
      "enter n terms: 6\n",
      "1 2 3 5 8 13 "
     ]
    }
   ],
   "source": [
    "# 21.Write a program to print fibonacci series upto n terms\n",
    "n=int(input(\"enter n terms: \"))\n",
    "n1=0\n",
    "n2=1\n",
    "for i in range(2,n+2):\n",
    "    n3=n1+n2\n",
    "    n1=n2\n",
    "    n2=n3\n",
    "    print(n3 ,end=' ')"
   ]
  },
  {
   "cell_type": "code",
   "execution_count": 10,
   "id": "4bae53d4",
   "metadata": {},
   "outputs": [
    {
     "name": "stdout",
     "output_type": "stream",
     "text": [
      "enter the binary number 1101010\n",
      "0010101\n"
     ]
    }
   ],
   "source": [
    "# 22.Write a program to find ones complement of a binary number\n",
    "\n",
    "number  = input(\"enter the binary number \")\n",
    "complement = \"\"\n",
    "\n",
    "for i in number:\n",
    "    if(i=='0'):\n",
    "        complement +=\"1\"\n",
    "    elif(i==\"1\"):\n",
    "        complement +=\"0\"\n",
    "    else:\n",
    "        print(\"enter the valid binary number \")\n",
    "\n",
    "print(complement)"
   ]
  },
  {
   "cell_type": "code",
   "execution_count": null,
   "id": "29ab7a13",
   "metadata": {},
   "outputs": [],
   "source": []
  }
 ],
 "metadata": {
  "kernelspec": {
   "display_name": "Python 3 (ipykernel)",
   "language": "python",
   "name": "python3"
  },
  "language_info": {
   "codemirror_mode": {
    "name": "ipython",
    "version": 3
   },
   "file_extension": ".py",
   "mimetype": "text/x-python",
   "name": "python",
   "nbconvert_exporter": "python",
   "pygments_lexer": "ipython3",
   "version": "3.10.9"
  }
 },
 "nbformat": 4,
 "nbformat_minor": 5
}
