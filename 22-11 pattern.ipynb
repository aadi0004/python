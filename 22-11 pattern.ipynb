{
 "cells": [
  {
   "cell_type": "code",
   "execution_count": 5,
   "id": "eb146ea5",
   "metadata": {},
   "outputs": [
    {
     "name": "stdout",
     "output_type": "stream",
     "text": [
      "* * * * \n",
      "* * * * \n",
      "* * * * \n",
      "* * * * \n"
     ]
    }
   ],
   "source": [
    "for row in range(1,5):\n",
    "    for col in range(1,5):\n",
    "        print(\"*\",end=\" \")\n",
    "    print(\"\")"
   ]
  },
  {
   "cell_type": "code",
   "execution_count": 9,
   "id": "c7ae50cc",
   "metadata": {},
   "outputs": [
    {
     "name": "stdout",
     "output_type": "stream",
     "text": [
      "* \n",
      "* * \n",
      "* * * \n",
      "* * * * \n"
     ]
    }
   ],
   "source": [
    "for row in range(1,5):\n",
    "    for col in range(1,row+1):\n",
    "        print(\"*\",end=\" \")\n",
    "    print(\"\")"
   ]
  },
  {
   "cell_type": "code",
   "execution_count": 11,
   "id": "0b3b98b6",
   "metadata": {},
   "outputs": [
    {
     "name": "stdout",
     "output_type": "stream",
     "text": [
      "* * * * \n",
      "* * * \n",
      "* * \n",
      "* \n"
     ]
    }
   ],
   "source": [
    "for row in range(1,5):\n",
    "    for col in range(row,5):\n",
    "        print(\"*\",end=\" \")\n",
    "    print(\"\")"
   ]
  },
  {
   "cell_type": "code",
   "execution_count": 14,
   "id": "c0724b54",
   "metadata": {},
   "outputs": [
    {
     "name": "stdout",
     "output_type": "stream",
     "text": [
      "1 \n",
      "2 3 \n",
      "4 5 6 \n",
      "7 8 9 10 \n"
     ]
    }
   ],
   "source": [
    "k=1\n",
    "for row in range(1,5):\n",
    "    for col in range(row):\n",
    "        print(k,end=\" \")\n",
    "        k+=1\n",
    "    print(\"\")"
   ]
  },
  {
   "cell_type": "code",
   "execution_count": 16,
   "id": "67329faf",
   "metadata": {},
   "outputs": [
    {
     "name": "stdout",
     "output_type": "stream",
     "text": [
      "4 \n",
      "4 5 \n",
      "4 5 6 \n",
      "4 5 6 7 \n"
     ]
    }
   ],
   "source": [
    "for row in range(1,5):\n",
    "    k=4\n",
    "    for col in range(row):\n",
    "        print(k,end=\" \")\n",
    "        k+=1\n",
    "    print(\"\")"
   ]
  },
  {
   "cell_type": "code",
   "execution_count": 18,
   "id": "91f34538",
   "metadata": {},
   "outputs": [
    {
     "name": "stdout",
     "output_type": "stream",
     "text": [
      "\n",
      "1 \n",
      "1 2 \n",
      "1 2 3 \n"
     ]
    }
   ],
   "source": [
    "for row in range(1,5):\n",
    "    for col in range(1,row):\n",
    "        print(col,end=\" \")\n",
    "    print(\"\")"
   ]
  },
  {
   "cell_type": "code",
   "execution_count": 36,
   "id": "00bcb15b",
   "metadata": {},
   "outputs": [
    {
     "name": "stdout",
     "output_type": "stream",
     "text": [
      "* * * * * \n",
      "* * * * \n",
      "* * * \n",
      "* * \n",
      "* \n"
     ]
    }
   ],
   "source": [
    "for row in range(1,6):\n",
    "    for col in range(row,6):\n",
    "        print(\"*\",end=\" \")\n",
    "    print(\"\")"
   ]
  },
  {
   "cell_type": "code",
   "execution_count": 43,
   "id": "8a466145",
   "metadata": {},
   "outputs": [
    {
     "name": "stdout",
     "output_type": "stream",
     "text": [
      "* * * * * \n",
      "* * * * \n",
      "* * * \n",
      "* * \n",
      "* \n"
     ]
    }
   ],
   "source": [
    "for row in range(5,0,-1):\n",
    "    for col in range(1,row+1):\n",
    "        print(\"*\",end=\" \")\n",
    "        \n",
    "    print(\"\")"
   ]
  },
  {
   "cell_type": "code",
   "execution_count": 53,
   "id": "96c763c0",
   "metadata": {},
   "outputs": [
    {
     "name": "stdout",
     "output_type": "stream",
     "text": [
      "1 2 3 4 \n",
      "1 2 3 \n",
      "1 2 \n",
      "1 \n"
     ]
    }
   ],
   "source": [
    "for row in range(1,5):\n",
    "    \n",
    "    for col in range(1,6-row):\n",
    "        print(col,end=' ')\n",
    "    print(\"\")"
   ]
  },
  {
   "cell_type": "code",
   "execution_count": 70,
   "id": "a3137055",
   "metadata": {},
   "outputs": [
    {
     "name": "stdout",
     "output_type": "stream",
     "text": [
      "4 3 2 1 \n",
      "4 3 2 \n",
      "4 3 \n",
      "4 \n"
     ]
    }
   ],
   "source": [
    "for row in range(1,5):\n",
    "    for col in range(4,row-1,-1):\n",
    "        print(col,end=' ')\n",
    "    print(\"\")"
   ]
  },
  {
   "cell_type": "code",
   "execution_count": 62,
   "id": "ef1648d7",
   "metadata": {},
   "outputs": [
    {
     "name": "stdout",
     "output_type": "stream",
     "text": [
      "1 2 3 4 \n",
      "5 6 7 \n",
      "8 9 \n",
      "10 \n"
     ]
    }
   ],
   "source": [
    "k=1\n",
    "for row in range(1,5):\n",
    "    \n",
    "    for col in range(1,6-row):\n",
    "        print(k,end=' ')\n",
    "        k+=1\n",
    "    print(\"\")"
   ]
  },
  {
   "cell_type": "code",
   "execution_count": 83,
   "id": "d523d6c7",
   "metadata": {},
   "outputs": [
    {
     "name": "stdout",
     "output_type": "stream",
     "text": [
      "8 7 6 5 \n",
      "7 6 5 \n",
      "6 5 \n",
      "5 \n"
     ]
    }
   ],
   "source": [
    "for row in range(9,5,-1):\n",
    "    for col in range(row-1,4,-1):\n",
    "        print(col,end=\" \")\n",
    "    print(\"\")"
   ]
  },
  {
   "cell_type": "code",
   "execution_count": 96,
   "id": "27b394fb",
   "metadata": {
    "scrolled": true
   },
   "outputs": [
    {
     "name": "stdout",
     "output_type": "stream",
     "text": [
      "* * * * * \n",
      "  * * * * \n",
      "    * * * \n",
      "      * * \n",
      "        * \n"
     ]
    }
   ],
   "source": [
    "for row in range(1,6):\n",
    "    \n",
    "    for col in range(2,row+1):\n",
    "         print(\" \",end=\" \")\n",
    "    for star in range(row,6):\n",
    "        print('*',end=' ')\n",
    "    print(\"\")"
   ]
  },
  {
   "cell_type": "code",
   "execution_count": null,
   "id": "c77c5824",
   "metadata": {},
   "outputs": [],
   "source": []
  },
  {
   "cell_type": "code",
   "execution_count": null,
   "id": "56688c28",
   "metadata": {},
   "outputs": [],
   "source": []
  }
 ],
 "metadata": {
  "kernelspec": {
   "display_name": "Python 3 (ipykernel)",
   "language": "python",
   "name": "python3"
  },
  "language_info": {
   "codemirror_mode": {
    "name": "ipython",
    "version": 3
   },
   "file_extension": ".py",
   "mimetype": "text/x-python",
   "name": "python",
   "nbconvert_exporter": "python",
   "pygments_lexer": "ipython3",
   "version": "3.10.9"
  }
 },
 "nbformat": 4,
 "nbformat_minor": 5
}
