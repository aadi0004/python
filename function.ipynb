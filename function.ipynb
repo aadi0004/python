{
 "cells": [
  {
   "cell_type": "code",
   "execution_count": 1,
   "id": "37c23723-e977-46e5-a5f6-36340ba2e20d",
   "metadata": {},
   "outputs": [],
   "source": [
    "#function"
   ]
  },
  {
   "cell_type": "code",
   "execution_count": 12,
   "id": "572b1a13-ee77-4343-a6b7-cf491b95fbbd",
   "metadata": {},
   "outputs": [
    {
     "name": "stdout",
     "output_type": "stream",
     "text": [
      "asd 100 12\n",
      "asd\n",
      "asd\n"
     ]
    }
   ],
   "source": [
    "x=12 # Global variable (everywhere can be used )\n",
    "def func():\n",
    "    global x  # globallly changes \n",
    "    y=100  #local vairable can not use outside the loop\n",
    "    print(\"asd\",y,x)\n",
    "    x=\"asd\"\n",
    "    print(x)\n",
    "func()\n",
    "print(x)\n",
    "# print(y) give error"
   ]
  },
  {
   "cell_type": "code",
   "execution_count": 34,
   "id": "1edb735b-9b28-4191-bf5c-fbe9b122e378",
   "metadata": {},
   "outputs": [],
   "source": [
    "def greeting(user):\n",
    "    user=['asd',0]\n",
    "    print(\"hello welcome\",user)\n",
    "    "
   ]
  },
  {
   "cell_type": "code",
   "execution_count": 17,
   "id": "714eeac1-daf5-43fd-b991-cf831a6f8ccb",
   "metadata": {},
   "outputs": [
    {
     "name": "stdout",
     "output_type": "stream",
     "text": [
      "hello welcome asd\n",
      "name:  tushar\n"
     ]
    }
   ],
   "source": [
    "\n",
    "name='tushar'\n",
    "greeting(name)\n",
    "print(\"name: \",name)"
   ]
  },
  {
   "cell_type": "code",
   "execution_count": 36,
   "id": "ea671fd7-8005-400a-9a2f-253157a46ad2",
   "metadata": {},
   "outputs": [
    {
     "name": "stdout",
     "output_type": "stream",
     "text": [
      "hello welcome ['asd', 0]\n",
      "user:  ['tushar']\n"
     ]
    }
   ],
   "source": [
    "\n",
    "user=['tushar']\n",
    "greeting(user)\n",
    "print(\"user: \",user)"
   ]
  },
  {
   "cell_type": "code",
   "execution_count": 37,
   "id": "f1c250bb-e3fd-40fa-a4e6-5d6dbf61067e",
   "metadata": {},
   "outputs": [],
   "source": [
    "# python m agr memory addres badlta h to immutable data type >> int ,number,float,complex,str,bool,tupl\n",
    "# if memory address is same than mutable  >> list , dict, set\n"
   ]
  },
  {
   "cell_type": "code",
   "execution_count": 38,
   "id": "a3a29f4e-c7b3-491b-90b8-4da6b0dd95a4",
   "metadata": {},
   "outputs": [],
   "source": [
    "# type of argument passing in function\n",
    "def func(x,y,z):\n",
    "    print(f\"x => {x}, y => {y}, z => {z}\")"
   ]
  },
  {
   "cell_type": "code",
   "execution_count": 42,
   "id": "3fca6992-0a82-40b3-9b6b-c0a751d0f841",
   "metadata": {},
   "outputs": [
    {
     "name": "stdout",
     "output_type": "stream",
     "text": [
      "x => 1, y => 2, z => 4\n",
      "x => 1, y => 4, z => 2\n",
      "x => 1, y => 4, z => 34\n"
     ]
    }
   ],
   "source": [
    "\n",
    "\n",
    "#1. positional argument\n",
    "func(1,2,4)  \n",
    "\n",
    "#2. keyword argument\n",
    "func(x=1,z=2,y=4)  \n",
    "\n",
    "#3. default argument\n",
    "def func(x,y,z=34):\n",
    "    print(f\"x => {x}, y => {y}, z => {z}\")\n",
    "func(x=1,y=4)  \n",
    "\n",
    "#4. required argument"
   ]
  },
  {
   "cell_type": "code",
   "execution_count": null,
   "id": "f2570fb1-5356-4809-8033-7aded97be01f",
   "metadata": {},
   "outputs": [],
   "source": []
  }
 ],
 "metadata": {
  "kernelspec": {
   "display_name": "Python 3 (ipykernel)",
   "language": "python",
   "name": "python3"
  },
  "language_info": {
   "codemirror_mode": {
    "name": "ipython",
    "version": 3
   },
   "file_extension": ".py",
   "mimetype": "text/x-python",
   "name": "python",
   "nbconvert_exporter": "python",
   "pygments_lexer": "ipython3",
   "version": "3.12.7"
  }
 },
 "nbformat": 4,
 "nbformat_minor": 5
}
