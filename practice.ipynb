{
 "cells": [
  {
   "cell_type": "code",
   "execution_count": 13,
   "id": "5e0dc16b-ae4e-49bf-bb0e-921c6ed97b6c",
   "metadata": {},
   "outputs": [
    {
     "name": "stdout",
     "output_type": "stream",
     "text": [
      "{'a': 3, 'ab': 2, 'aba': 2, 'abab': 1, 'ababa': 1, 'b': 2, 'ba': 2, 'bab': 1, 'baba': 1}\n"
     ]
    }
   ],
   "source": [
    "str = \"ababa\"\n",
    "freq = {}\n",
    "\n",
    "for i in range(len(str)):\n",
    "    for j in range(i + 1, len(str) + 1):\n",
    "        substr = str[i:j]\n",
    "        if substr in freq:\n",
    "            freq[substr] += 1\n",
    "        else:\n",
    "            freq[substr] = 1\n",
    "\n",
    "print(freq)\n"
   ]
  },
  {
   "cell_type": "code",
   "execution_count": 23,
   "id": "baa3a15f-039f-4c8b-b266-60a6b805e867",
   "metadata": {},
   "outputs": [
    {
     "name": "stdout",
     "output_type": "stream",
     "text": [
      "          "
     ]
    }
   ],
   "source": [
    "for i in range(5):\n",
    "    k=5\n",
    "    for j in  range(k,i):\n",
    "        print(k,end=\"\")\n",
    "        k-=1\n",
    "        \n",
    "    print(\" \",end=\" \")"
   ]
  },
  {
   "cell_type": "code",
   "execution_count": 44,
   "id": "9f8f540f-5f09-4d61-8539-fdd205f84bd3",
   "metadata": {},
   "outputs": [
    {
     "name": "stdout",
     "output_type": "stream",
     "text": [
      "5 4 3 2 1 \n",
      "4 3 2 1 \n",
      "3 2 1 \n",
      "2 1 \n",
      "1 \n"
     ]
    }
   ],
   "source": [
    "for i in range(5):        \n",
    "    k = 5 - i           \n",
    "    for j in range(5 - i):\n",
    "        print(k, end=\" \")\n",
    "        k -= 1\n",
    "    print()                \n"
   ]
  },
  {
   "cell_type": "code",
   "execution_count": 42,
   "id": "5e67ac92-403f-4160-8152-512ebc20ad5a",
   "metadata": {},
   "outputs": [
    {
     "name": "stdout",
     "output_type": "stream",
     "text": [
      "5 4 3 2 1 \n",
      "4 3 2 1 \n",
      "3 2 1 \n",
      "2 1 \n",
      "1 \n"
     ]
    }
   ],
   "source": [
    "for i in range(5):\n",
    "    for k in range(5 - i, 0, -1):\n",
    "        print(k, end=\" \")\n",
    "    print()\n"
   ]
  },
  {
   "cell_type": "code",
   "execution_count": 48,
   "id": "044eea31-e371-4515-ae1c-64408c8d4938",
   "metadata": {},
   "outputs": [
    {
     "name": "stdout",
     "output_type": "stream",
     "text": [
      "To Be oR NoT To Be!\n"
     ]
    }
   ],
   "source": [
    "def ascii_capitalize(s):\n",
    "    result = \"\"\n",
    "    for char in s:\n",
    "        ascii_code = ord(char)  \n",
    "        \n",
    "        if ascii_code % 2 == 0:\n",
    "            if 'a' <= char <= 'z':  \n",
    "                result += chr(ascii_code - (ord('a') - ord('A')))\n",
    "            else:\n",
    "                result += char\n",
    "        else:\n",
    "            if 'A' <= char <= 'Z':  \n",
    "                result += chr(ascii_code + (ord('a') - ord('A')))\n",
    "            else:\n",
    "                result += char\n",
    "    \n",
    "    return result\n",
    "\n",
    "# Test the function\n",
    "print(ascii_capitalize(\"to be or not to be!\"))\n"
   ]
  },
  {
   "cell_type": "code",
   "execution_count": 53,
   "id": "98d5ee65-d05c-46bc-87b4-461aa2eb4f28",
   "metadata": {},
   "outputs": [
    {
     "name": "stdout",
     "output_type": "stream",
     "text": [
      "To Be oR NoT To Be!\n"
     ]
    }
   ],
   "source": [
    "def ascii_capitalize(s):\n",
    "    result = \"\"\n",
    "    for char in s:\n",
    "        if ord(char) % 2 == 0:\n",
    "            result += char.upper()  \n",
    "        else:\n",
    "            result += char.lower() \n",
    "    return result\n",
    "\n",
    "print(ascii_capitalize(\"to be or not to be!\"))\n"
   ]
  },
  {
   "cell_type": "code",
   "execution_count": 59,
   "id": "d5313be1-2d88-4546-b823-c3a96d8ed5d8",
   "metadata": {},
   "outputs": [
    {
     "name": "stdout",
     "output_type": "stream",
     "text": [
      "[7]\n",
      "[0, 0.77, 2]\n"
     ]
    }
   ],
   "source": [
    "def find_unique(numbers):\n",
    "    unique_numbers = []\n",
    "    for num in numbers:\n",
    "        if numbers.count(num) == 1:  \n",
    "            unique_numbers.append(num)\n",
    "    return unique_numbers\n",
    "\n",
    "print(find_unique([3, 3, 3, 7, 3, 3]))   \n",
    "print(find_unique([0, 1, 0.77, 1, 2]))  \n"
   ]
  },
  {
   "cell_type": "code",
   "execution_count": 58,
   "id": "fb338774-22a9-46f4-9f28-dda5bac5fd99",
   "metadata": {},
   "outputs": [
    {
     "name": "stdout",
     "output_type": "stream",
     "text": [
      "0\n"
     ]
    }
   ],
   "source": [
    "def find_unique(numbers):\n",
    "    unique_numbers = []\n",
    "    for num in numbers:\n",
    "        if numbers.count(num) == 1:  \n",
    "            return num\n",
    "            # unique_numbers.append(num)\n",
    " \n",
    "\n",
    "# print(find_unique([3, 3, 3, 7, 3, 3]))   \n",
    "print(find_unique([0, 1, 0.77, 1, 2]))  \n"
   ]
  },
  {
   "cell_type": "code",
   "execution_count": 61,
   "id": "8227fd18-f7a7-4041-87fd-6156b13ec82d",
   "metadata": {},
   "outputs": [
    {
     "name": "stdout",
     "output_type": "stream",
     "text": [
      "65700\n"
     ]
    }
   ],
   "source": [
    "def get_total_budget(people):\n",
    "    total_budget = 0\n",
    "    for person in people:\n",
    "        total_budget += person['budget']\n",
    "    return total_budget\n",
    "\n",
    "get_budget = [\n",
    "    { 'name': 'John', 'age': 21, 'budget': 23000 },\n",
    "    { 'name': 'Steve', 'age': 32, 'budget': 40000 },\n",
    "    { 'name': 'Martin', 'age': 16, 'budget': 2700 }\n",
    "]\n",
    "\n",
    "print(get_total_budget(get_budget))  # Output: 65700\n"
   ]
  },
  {
   "cell_type": "code",
   "execution_count": null,
   "id": "0aa8b419-1115-4ae3-95fb-d93211094a77",
   "metadata": {},
   "outputs": [],
   "source": []
  },
  {
   "cell_type": "code",
   "execution_count": 26,
   "id": "052de06f-a695-4b10-a4c4-a0631bff100f",
   "metadata": {},
   "outputs": [],
   "source": [
    "class chairBlueprint:\n",
    "    color='blue'  # Class variable\n",
    "    price=1000\n",
    "\n",
    "    def info(self):\n",
    "        print(self.price, self.color)"
   ]
  },
  {
   "cell_type": "code",
   "execution_count": 27,
   "id": "e7bd424e-1501-41f9-bdb3-db942ad13233",
   "metadata": {},
   "outputs": [
    {
     "data": {
      "text/plain": [
       "'blue'"
      ]
     },
     "execution_count": 27,
     "metadata": {},
     "output_type": "execute_result"
    }
   ],
   "source": [
    "a=chairBlueprint() # a is object\n",
    "a.color"
   ]
  },
  {
   "cell_type": "code",
   "execution_count": 28,
   "id": "8a62b23e-e7cf-4161-8c75-52a07a0e34a0",
   "metadata": {},
   "outputs": [
    {
     "name": "stdout",
     "output_type": "stream",
     "text": [
      "blue\n"
     ]
    }
   ],
   "source": [
    "print(chairBlueprint.color)"
   ]
  },
  {
   "cell_type": "code",
   "execution_count": 30,
   "id": "3f4939c7-22e4-4213-b244-12379087cd06",
   "metadata": {},
   "outputs": [
    {
     "data": {
      "text/plain": [
       "1000"
      ]
     },
     "execution_count": 30,
     "metadata": {},
     "output_type": "execute_result"
    }
   ],
   "source": [
    "b=chairBlueprint()\n",
    "b.price"
   ]
  },
  {
   "cell_type": "code",
   "execution_count": null,
   "id": "77fe9c97-0dbc-4e5e-aa8e-0d0603c7b10f",
   "metadata": {},
   "outputs": [],
   "source": []
  },
  {
   "cell_type": "code",
   "execution_count": 15,
   "id": "fc3d2df6-a7d0-44fb-8433-e3a1b4f999f2",
   "metadata": {},
   "outputs": [],
   "source": [
    "class chairBlueprint:\n",
    "    # constructor\n",
    "    def __init__(self):  # self is a variable that hold memory for an object\n",
    "        print(\"function is called\")\n",
    "        "
   ]
  },
  {
   "cell_type": "code",
   "execution_count": 16,
   "id": "f8ff9b64-290e-4057-9b6c-247200e365e5",
   "metadata": {},
   "outputs": [
    {
     "name": "stdout",
     "output_type": "stream",
     "text": [
      "function is called\n"
     ]
    },
    {
     "data": {
      "text/plain": [
       "<__main__.chairBlueprint at 0x285a0560740>"
      ]
     },
     "execution_count": 16,
     "metadata": {},
     "output_type": "execute_result"
    }
   ],
   "source": [
    "chairBlueprint()"
   ]
  },
  {
   "cell_type": "code",
   "execution_count": 17,
   "id": "5e963507-e4fa-4472-8aae-ebe95bf44e56",
   "metadata": {},
   "outputs": [
    {
     "name": "stdout",
     "output_type": "stream",
     "text": [
      "function is called\n",
      "<__main__.chairBlueprint object at 0x00000285A05342F0>\n"
     ]
    }
   ],
   "source": [
    "a=chairBlueprint()\n",
    "print(a)"
   ]
  },
  {
   "cell_type": "code",
   "execution_count": 22,
   "id": "4fe17110-c056-43b9-b1c0-c8d4cf994ad4",
   "metadata": {},
   "outputs": [],
   "source": [
    "class chairBlueprint:\n",
    "    \n",
    "    def __init__(self,x1, x2): \n",
    "        self.color=x1\n",
    "        self.price=x2\n",
    "        "
   ]
  },
  {
   "cell_type": "code",
   "execution_count": 23,
   "id": "51c856c6-0209-4ef8-aabf-8a2569023b16",
   "metadata": {},
   "outputs": [],
   "source": [
    "b=chairBlueprint(\"red\",200)"
   ]
  },
  {
   "cell_type": "code",
   "execution_count": 24,
   "id": "466774be-41a7-40e7-96ab-6403119071d6",
   "metadata": {},
   "outputs": [
    {
     "data": {
      "text/plain": [
       "'red'"
      ]
     },
     "execution_count": 24,
     "metadata": {},
     "output_type": "execute_result"
    }
   ],
   "source": [
    "b.color"
   ]
  },
  {
   "cell_type": "code",
   "execution_count": 25,
   "id": "1e04d463-8bff-42d7-b6a8-092a88ac1119",
   "metadata": {},
   "outputs": [
    {
     "data": {
      "text/plain": [
       "200"
      ]
     },
     "execution_count": 25,
     "metadata": {},
     "output_type": "execute_result"
    }
   ],
   "source": [
    "b.price"
   ]
  },
  {
   "cell_type": "code",
   "execution_count": null,
   "id": "d27f2693-78ab-465d-8416-14ce798ca64d",
   "metadata": {},
   "outputs": [],
   "source": [
    "s id , name , grade "
   ]
  },
  {
   "cell_type": "code",
   "execution_count": 31,
   "id": "cabcd3e2-7392-4835-91cc-7d4dc7be678c",
   "metadata": {},
   "outputs": [],
   "source": [
    "class student:\n",
    "    def __init__(self,sid,sname,sgrade):\n",
    "        self.sid=sid\n",
    "        self.sname=sname\n",
    "        self.sgrade=sgrade"
   ]
  },
  {
   "cell_type": "code",
   "execution_count": 32,
   "id": "8ce67b07-4043-41a6-874b-1b39df8456e5",
   "metadata": {},
   "outputs": [],
   "source": [
    "b=student(12,'rahul',8.5)"
   ]
  },
  {
   "cell_type": "code",
   "execution_count": 33,
   "id": "6ae63442-7cec-43cb-bc8d-7d26f60e1f2d",
   "metadata": {},
   "outputs": [
    {
     "data": {
      "text/plain": [
       "12"
      ]
     },
     "execution_count": 33,
     "metadata": {},
     "output_type": "execute_result"
    }
   ],
   "source": [
    "b.sid"
   ]
  },
  {
   "cell_type": "code",
   "execution_count": 34,
   "id": "12219a88-416c-41c9-829a-b30b0387a207",
   "metadata": {},
   "outputs": [],
   "source": [
    "class asd:\n",
    "    def __init__(self):\n",
    "        print(\"hello\")\n",
    "\n",
    "    def __init__(self):\n",
    "        print(\"hii\")"
   ]
  },
  {
   "cell_type": "code",
   "execution_count": 35,
   "id": "72549c1c-f0d7-4b90-aef2-4dd9a9df727b",
   "metadata": {},
   "outputs": [
    {
     "name": "stdout",
     "output_type": "stream",
     "text": [
      "hii\n"
     ]
    },
    {
     "data": {
      "text/plain": [
       "<__main__.asd at 0x285a0681610>"
      ]
     },
     "execution_count": 35,
     "metadata": {},
     "output_type": "execute_result"
    }
   ],
   "source": [
    "a=asd()\n",
    "a"
   ]
  },
  {
   "cell_type": "code",
   "execution_count": null,
   "id": "4aaa7dc9-eaef-42be-a551-ff8a2b0b1a3e",
   "metadata": {},
   "outputs": [],
   "source": [
    "# namespace in python \n",
    "# inheritance , sigle level multiple and multilevel "
   ]
  }
 ],
 "metadata": {
  "kernelspec": {
   "display_name": "Python 3 (ipykernel)",
   "language": "python",
   "name": "python3"
  },
  "language_info": {
   "codemirror_mode": {
    "name": "ipython",
    "version": 3
   },
   "file_extension": ".py",
   "mimetype": "text/x-python",
   "name": "python",
   "nbconvert_exporter": "python",
   "pygments_lexer": "ipython3",
   "version": "3.12.7"
  }
 },
 "nbformat": 4,
 "nbformat_minor": 5
}
