{
 "cells": [
  {
   "cell_type": "code",
   "execution_count": 1,
   "id": "de44f1ae",
   "metadata": {},
   "outputs": [],
   "source": [
    "# f=open( filename,mode)"
   ]
  },
  {
   "cell_type": "code",
   "execution_count": 2,
   "id": "3b16e06e",
   "metadata": {},
   "outputs": [],
   "source": [
    "# #where the following mode is supported \n",
    "\n",
    "# r:  open an esiting file for a read operation\n",
    "    \n",
    "# w:  open an existing file for a write operation\n",
    "#     if the file already contains some data then it will be overridden but if the file is not present then it creates the file as well\n",
    "        \n",
    "# a: open an existing file for append operation it won't override existing data.\n",
    "            \n",
    "# r+ : to read and write data into the file. this mode does not override the existing data\n",
    "#       BUT you can modify the data starting from the beginning of the file\n",
    "                \n",
    "# w+:  to write and read data. it overwrites the previous file if one exists.\n",
    "#      it will turncate the file to zero length or create a file if it does not exists\n",
    "                    \n",
    "# a+:  to append and read data from the file . it won't override existing data"
   ]
  },
  {
   "cell_type": "markdown",
   "id": "3abd92a3",
   "metadata": {},
   "source": [
    "## Example 1: The open command will open the Python file in the read mode and the for loop will print each line present in the file."
   ]
  },
  {
   "cell_type": "code",
   "execution_count": 3,
   "id": "56c3eef8",
   "metadata": {},
   "outputs": [],
   "source": [
    "# #a file named 'tree' will be opened with the reading mode\n",
    "#  file =open('hell.txt','r')\n",
    "    \n",
    "# this will print every line one by one in the file \n",
    "# for each in file :\n",
    "#     print(each)"
   ]
  },
  {
   "cell_type": "markdown",
   "id": "83b6f1c9",
   "metadata": {},
   "source": [
    "## Example 2: In this example, we will extract a string that contains all characters in the Python file then we can use file.read() ."
   ]
  },
  {
   "cell_type": "code",
   "execution_count": 5,
   "id": "a8a9c9c0",
   "metadata": {},
   "outputs": [],
   "source": [
    "# file=open('hell.txt','r')\n",
    "# print(file(file.read()))"
   ]
  },
  {
   "cell_type": "markdown",
   "id": "f90cbca0",
   "metadata": {},
   "source": [
    "## \\Example 3: In this example, we will see how we can read a file using the with statement in Python."
   ]
  },
  {
   "cell_type": "code",
   "execution_count": null,
   "id": "f3c1d067",
   "metadata": {},
   "outputs": [],
   "source": [
    "with open('hell.txt') as file:\n",
    "    data=file.read()\n",
    "    \n",
    "print(data)"
   ]
  },
  {
   "cell_type": "markdown",
   "id": "b616f917",
   "metadata": {},
   "source": [
    "## Example 4: Another way to read a file is to call a certain number of characters like in the following code the interpreter will read the first five characters of stored data and return it as a string:"
   ]
  },
  {
   "cell_type": "code",
   "execution_count": null,
   "id": "fecc87d8",
   "metadata": {},
   "outputs": [],
   "source": [
    "file=open('hell.txt','r')\n",
    "print(file.read(5))"
   ]
  },
  {
   "cell_type": "markdown",
   "id": "0e1a22c4",
   "metadata": {},
   "source": [
    "## Example 5: We can also split lines while reading files in Python. The split() function splits the variable when space is encountered. You can also split using any characters as you wish."
   ]
  },
  {
   "cell_type": "code",
   "execution_count": null,
   "id": "d70bc549",
   "metadata": {},
   "outputs": [],
   "source": [
    "with open ('hell.txt','r') as file:\n",
    "    data=file.readlines()\n",
    "    for line in data:\n",
    "        word=line.split()\n",
    "        print(word)"
   ]
  },
  {
   "cell_type": "markdown",
   "id": "6dd916e1",
   "metadata": {},
   "source": [
    "## Example 6: In this example, we will see how the write mode and the write() function is used to write in a file. The close() command terminates all the resources in use and frees the system of this particular program."
   ]
  },
  {
   "cell_type": "code",
   "execution_count": null,
   "id": "ed4e4e8c",
   "metadata": {},
   "outputs": [],
   "source": [
    "file=open('dell.txt','w')\n",
    "file.write('this is the write commend ')\n",
    "file.write('it allow us to write in a particular filw')\n",
    "file.close()"
   ]
  },
  {
   "cell_type": "markdown",
   "id": "0cc2ac88",
   "metadata": {},
   "source": [
    "## Example 7: we can also use the written statement along with the with() function"
   ]
  },
  {
   "cell_type": "code",
   "execution_count": null,
   "id": "db5a0899",
   "metadata": {},
   "outputs": [],
   "source": [
    "with open('file.txt','w') as f:\n",
    "    f.write('Hello world')"
   ]
  },
  {
   "cell_type": "markdown",
   "id": "d1697899",
   "metadata": {},
   "source": [
    "## Example 8: For this example we will use the python file created in the previous example"
   ]
  },
  {
   "cell_type": "code",
   "execution_count": null,
   "id": "4a857936",
   "metadata": {},
   "outputs": [],
   "source": [
    "file=open('sell.txt','a')\n",
    "file.write('add this line ')\n",
    "file.close()"
   ]
  }
 ],
 "metadata": {
  "kernelspec": {
   "display_name": "Python 3 (ipykernel)",
   "language": "python",
   "name": "python3"
  },
  "language_info": {
   "codemirror_mode": {
    "name": "ipython",
    "version": 3
   },
   "file_extension": ".py",
   "mimetype": "text/x-python",
   "name": "python",
   "nbconvert_exporter": "python",
   "pygments_lexer": "ipython3",
   "version": "3.10.9"
  }
 },
 "nbformat": 4,
 "nbformat_minor": 5
}
