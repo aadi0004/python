{
 "cells": [
  {
   "cell_type": "code",
   "execution_count": 1,
   "id": "5b70d39c",
   "metadata": {},
   "outputs": [],
   "source": [
    "# list ===> \n",
    "# 1. identification =[]\n",
    "# 2. mutable data type ===> we can change or updete our value at a run time.\n",
    "# 3. indexing start from 0 and length start from 1\n",
    "# 4. this is a container in which we can store or assign the values"
   ]
  },
  {
   "cell_type": "code",
   "execution_count": 2,
   "id": "6a1df180",
   "metadata": {},
   "outputs": [
    {
     "data": {
      "text/plain": [
       "list"
      ]
     },
     "execution_count": 2,
     "metadata": {},
     "output_type": "execute_result"
    }
   ],
   "source": [
    "a=['sam',23,34,'rahul']\n",
    "type(a)"
   ]
  },
  {
   "cell_type": "code",
   "execution_count": 3,
   "id": "909026f8",
   "metadata": {},
   "outputs": [
    {
     "name": "stdout",
     "output_type": "stream",
     "text": [
      "sam\n",
      "23\n",
      "34\n",
      "rahul\n"
     ]
    }
   ],
   "source": [
    "#mutable\n",
    "print(a[0])\n",
    "print(a[1])\n",
    "print(a[2])\n",
    "print(a[3])"
   ]
  },
  {
   "cell_type": "code",
   "execution_count": 4,
   "id": "1acd5f9d",
   "metadata": {},
   "outputs": [
    {
     "name": "stdout",
     "output_type": "stream",
     "text": [
      "sam\n",
      "23\n",
      "34\n",
      "rahul\n"
     ]
    }
   ],
   "source": [
    "for i in range(len(a)):\n",
    "    print(a[i])"
   ]
  },
  {
   "cell_type": "code",
   "execution_count": 5,
   "id": "0132571d",
   "metadata": {},
   "outputs": [
    {
     "name": "stdout",
     "output_type": "stream",
     "text": [
      "sam 23 34 rahul "
     ]
    }
   ],
   "source": [
    "for i in range(len(a)):\n",
    "    print(a[i],end=\" \")"
   ]
  },
  {
   "cell_type": "code",
   "execution_count": 6,
   "id": "e0020b7c",
   "metadata": {},
   "outputs": [
    {
     "data": {
      "text/plain": [
       "['sam', 23, 34, 'rahul']"
      ]
     },
     "execution_count": 6,
     "metadata": {},
     "output_type": "execute_result"
    }
   ],
   "source": [
    "a"
   ]
  },
  {
   "cell_type": "code",
   "execution_count": 8,
   "id": "90ae7fd8",
   "metadata": {},
   "outputs": [
    {
     "data": {
      "text/plain": [
       "['sam', 23, 'mohit', 'rahul']"
      ]
     },
     "execution_count": 8,
     "metadata": {},
     "output_type": "execute_result"
    }
   ],
   "source": [
    "a[2]='mohit'\n",
    "a"
   ]
  },
  {
   "cell_type": "code",
   "execution_count": 10,
   "id": "4f8e6317",
   "metadata": {},
   "outputs": [
    {
     "name": "stdout",
     "output_type": "stream",
     "text": [
      "2\n"
     ]
    }
   ],
   "source": [
    "# #functions in list \n",
    "# 1. index()\n",
    "a=['sam', 23, 34, 'rahul']\n",
    "print(a.index(34))"
   ]
  },
  {
   "cell_type": "code",
   "execution_count": 12,
   "id": "0ddcf7e6",
   "metadata": {},
   "outputs": [
    {
     "data": {
      "text/plain": [
       "['sam', 23, 34, 'rahul', 'rohit']"
      ]
     },
     "execution_count": 12,
     "metadata": {},
     "output_type": "execute_result"
    }
   ],
   "source": [
    "# 2. len()\n",
    "len(a)\n",
    "\n",
    "# 3. Append()\n",
    "a.append('rohit')\n",
    "a"
   ]
  },
  {
   "cell_type": "code",
   "execution_count": 13,
   "id": "db7ef607",
   "metadata": {},
   "outputs": [
    {
     "data": {
      "text/plain": [
       "['sam', 23, 'shiv', 34, 'rahul']"
      ]
     },
     "execution_count": 13,
     "metadata": {},
     "output_type": "execute_result"
    }
   ],
   "source": [
    "#insert(index,object) ===>\n",
    "a=['sam', 23, 34, 'rahul']\n",
    "a.insert(2,'shiv')\n",
    "a"
   ]
  },
  {
   "cell_type": "code",
   "execution_count": 14,
   "id": "17fd93f6",
   "metadata": {},
   "outputs": [
    {
     "data": {
      "text/plain": [
       "1"
      ]
     },
     "execution_count": 14,
     "metadata": {},
     "output_type": "execute_result"
    }
   ],
   "source": [
    "#count()\n",
    "a.count(23)"
   ]
  },
  {
   "cell_type": "code",
   "execution_count": 15,
   "id": "26e33f39",
   "metadata": {},
   "outputs": [
    {
     "data": {
      "text/plain": [
       "['sam', 23, 34]"
      ]
     },
     "execution_count": 15,
     "metadata": {},
     "output_type": "execute_result"
    }
   ],
   "source": [
    "#pop() ===> delete the elemnet from the last indexing\n",
    "a=['sam', 23, 34, 'rahul']\n",
    "a.pop()\n",
    "a"
   ]
  },
  {
   "cell_type": "code",
   "execution_count": 16,
   "id": "82d1c509",
   "metadata": {},
   "outputs": [
    {
     "data": {
      "text/plain": [
       "['sam', 23]"
      ]
     },
     "execution_count": 16,
     "metadata": {},
     "output_type": "execute_result"
    }
   ],
   "source": [
    "a.pop()\n",
    "a"
   ]
  },
  {
   "cell_type": "code",
   "execution_count": 17,
   "id": "72629449",
   "metadata": {},
   "outputs": [
    {
     "data": {
      "text/plain": [
       "['sam', 34, 'rahul']"
      ]
     },
     "execution_count": 17,
     "metadata": {},
     "output_type": "execute_result"
    }
   ],
   "source": [
    "#remove() ===> it will remove the element\n",
    "a=['sam', 23, 34, 'rahul']\n",
    "a.remove(23)\n",
    "a"
   ]
  },
  {
   "cell_type": "markdown",
   "id": "74f06450",
   "metadata": {},
   "source": [
    "### how can we create a user definded list ?\n"
   ]
  },
  {
   "cell_type": "code",
   "execution_count": 18,
   "id": "e3bda8ae",
   "metadata": {},
   "outputs": [
    {
     "name": "stdout",
     "output_type": "stream",
     "text": [
      "enter size :3\n",
      "enter item :23\n",
      "enter item :23\n",
      "enter item :12\n",
      "[23, 23, 12]\n"
     ]
    }
   ],
   "source": [
    "a=[]\n",
    "size=int(input(\"enter size :\"))\n",
    "for i in range(size):\n",
    "    val=int(input(\"enter item :\"))\n",
    "    a.append(val)\n",
    "print(a)"
   ]
  },
  {
   "cell_type": "code",
   "execution_count": null,
   "id": "048fdfba",
   "metadata": {},
   "outputs": [],
   "source": []
  }
 ],
 "metadata": {
  "kernelspec": {
   "display_name": "Python 3 (ipykernel)",
   "language": "python",
   "name": "python3"
  },
  "language_info": {
   "codemirror_mode": {
    "name": "ipython",
    "version": 3
   },
   "file_extension": ".py",
   "mimetype": "text/x-python",
   "name": "python",
   "nbconvert_exporter": "python",
   "pygments_lexer": "ipython3",
   "version": "3.10.9"
  }
 },
 "nbformat": 4,
 "nbformat_minor": 5
}
