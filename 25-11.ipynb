{
 "cells": [
  {
   "cell_type": "code",
   "execution_count": 17,
   "id": "08facc51",
   "metadata": {},
   "outputs": [
    {
     "name": "stdout",
     "output_type": "stream",
     "text": [
      "valid\n"
     ]
    }
   ],
   "source": [
    "data=\"{()}\"\n",
    "mylist=[]\n",
    "x=0\n",
    "for char in data:\n",
    "    if char in \"[({\":\n",
    "        mylist.append(char)\n",
    "    elif(mylist):\n",
    "        if(char==\"}\" and mylist.pop()!=\"{\"):\n",
    "            x=1\n",
    "            break\n",
    "        elif(char==\"]\" and mylist.pop()!=\"[\"):\n",
    "            x=1\n",
    "            break\n",
    "        elif(char==\")\" and mylist.pop()!=\"(\"):\n",
    "            x=1\n",
    "            break\n",
    "    else:\n",
    "        x=1\n",
    "        break\n",
    "\n",
    "if(x==0 and len(mylist)==0):\n",
    "    print(\"valid\")\n",
    "else:\n",
    "    print(\"not valid\")"
   ]
  },
  {
   "cell_type": "code",
   "execution_count": 21,
   "id": "50d9d0e2",
   "metadata": {},
   "outputs": [
    {
     "name": "stdout",
     "output_type": "stream",
     "text": [
      "4\n"
     ]
    }
   ],
   "source": [
    "lst=[34,45,4,5,4,56,5]\n",
    "mini=lst[0]\n",
    "for i in lst:\n",
    "    if i<mini:\n",
    "        mini=i\n",
    "print(mini)"
   ]
  },
  {
   "cell_type": "code",
   "execution_count": null,
   "id": "4ef63d32",
   "metadata": {},
   "outputs": [],
   "source": [
    "lst=[34,45,4,5,4,56,5]\n",
    "min=lst[0]\n",
    "for i in range(len(lst)):\n",
    "    if lst[i]<min:\n",
    "        \n",
    "        "
   ]
  },
  {
   "cell_type": "code",
   "execution_count": 22,
   "id": "051a257c",
   "metadata": {},
   "outputs": [
    {
     "name": "stdout",
     "output_type": "stream",
     "text": [
      "56\n"
     ]
    }
   ],
   "source": [
    "lst=[34,45,4,5,4,56,5]\n",
    "maxx=lst[0]\n",
    "for i in lst:\n",
    "    if i>maxx:\n",
    "        maxx=i\n",
    "print(maxx)"
   ]
  },
  {
   "cell_type": "code",
   "execution_count": 29,
   "id": "6b0bc56d",
   "metadata": {},
   "outputs": [
    {
     "name": "stdout",
     "output_type": "stream",
     "text": [
      "65\n"
     ]
    }
   ],
   "source": [
    "lst=[23,34,45,32,145,65]\n",
    "h=0\n",
    "sh=0\n",
    "for i in range(len(lst)):\n",
    "    if(h<lst[i]):\n",
    "        sh=h\n",
    "        h=lst[i]\n",
    "    elif(lst[i]>sh and lst[i]!=h):\n",
    "        sh=lst[i]\n",
    "print(sh)"
   ]
  },
  {
   "cell_type": "code",
   "execution_count": 36,
   "id": "70b1f453",
   "metadata": {},
   "outputs": [
    {
     "name": "stdout",
     "output_type": "stream",
     "text": [
      "[23, 32, 34, 43, 43, 43, 45, 65, 145]\n"
     ]
    }
   ],
   "source": [
    "lst=[23,34,45,32,145,65,43,43,43]\n",
    "for i in range(len(lst)):\n",
    "    for j in range(i+1,len(lst)):\n",
    "        if lst[j]<=lst[i]:\n",
    "            lst[i],lst[j]=lst[j],lst[i]\n",
    "print(lst)"
   ]
  },
  {
   "cell_type": "code",
   "execution_count": 42,
   "id": "d0ded02d",
   "metadata": {},
   "outputs": [
    {
     "name": "stdout",
     "output_type": "stream",
     "text": [
      "10\n",
      "20\n"
     ]
    }
   ],
   "source": [
    "lst=[10,10,20,20,34]\n",
    "di={}\n",
    "for i in lst:\n",
    "    if i not in di:\n",
    "        di[i]=None\n",
    "    else:\n",
    "        print(i)\n",
    "        "
   ]
  },
  {
   "cell_type": "code",
   "execution_count": 54,
   "id": "34ec1d74",
   "metadata": {},
   "outputs": [
    {
     "name": "stdout",
     "output_type": "stream",
     "text": [
      "10\n",
      "20\n",
      "20\n"
     ]
    }
   ],
   "source": [
    "lst=[10,10,20,20,20,34]\n",
    "for i in range(len(lst)):\n",
    "    for j in range(i+1,len(lst)):\n",
    "        if(lst[i]==lst[j]):\n",
    "            print(lst[i])\n",
    "            break"
   ]
  },
  {
   "cell_type": "code",
   "execution_count": null,
   "id": "d8954b0d",
   "metadata": {},
   "outputs": [],
   "source": []
  }
 ],
 "metadata": {
  "kernelspec": {
   "display_name": "Python 3 (ipykernel)",
   "language": "python",
   "name": "python3"
  },
  "language_info": {
   "codemirror_mode": {
    "name": "ipython",
    "version": 3
   },
   "file_extension": ".py",
   "mimetype": "text/x-python",
   "name": "python",
   "nbconvert_exporter": "python",
   "pygments_lexer": "ipython3",
   "version": "3.10.9"
  }
 },
 "nbformat": 4,
 "nbformat_minor": 5
}
