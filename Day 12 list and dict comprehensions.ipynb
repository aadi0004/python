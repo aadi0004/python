{
 "cells": [
  {
   "cell_type": "code",
   "execution_count": 1,
   "id": "79d6fa5e",
   "metadata": {},
   "outputs": [],
   "source": [
    "# #list comprehension\n",
    "# list comprehensions in python provides a concise way to create lists\n",
    "# they are more readable and efficient than traditional for loops\n",
    "# #syntex-  [ expression for item in iterable if condition]"
   ]
  },
  {
   "cell_type": "markdown",
   "id": "c0b162e1",
   "metadata": {},
   "source": [
    "## 1. create a list of square"
   ]
  },
  {
   "cell_type": "code",
   "execution_count": 3,
   "id": "52ed45a9",
   "metadata": {},
   "outputs": [
    {
     "name": "stdout",
     "output_type": "stream",
     "text": [
      "[1, 4, 9, 16, 25]\n"
     ]
    }
   ],
   "source": [
    "sp=[x**2 for x in range(1,6)]\n",
    "print(sp)"
   ]
  },
  {
   "cell_type": "markdown",
   "id": "a34a3fff",
   "metadata": {},
   "source": [
    "## 2. filter even numbers"
   ]
  },
  {
   "cell_type": "code",
   "execution_count": 6,
   "id": "43a0609c",
   "metadata": {},
   "outputs": [
    {
     "name": "stdout",
     "output_type": "stream",
     "text": [
      "[0, 2, 4, 6, 8]\n"
     ]
    }
   ],
   "source": [
    "even=[i for i in range(10) if i%2==0 ]\n",
    "print(even)"
   ]
  },
  {
   "cell_type": "markdown",
   "id": "c7592b4e",
   "metadata": {},
   "source": [
    "## 3. convert strings to uppercase"
   ]
  },
  {
   "cell_type": "code",
   "execution_count": 8,
   "id": "65da1f67",
   "metadata": {},
   "outputs": [
    {
     "name": "stdout",
     "output_type": "stream",
     "text": [
      "['SHIV', 'RAM', 'SHYAM', 'RAJU']\n"
     ]
    }
   ],
   "source": [
    "names=['shiv','ram','shyam','raju']\n",
    "upp=[name.upper() for name in names]\n",
    "print(upp)"
   ]
  },
  {
   "cell_type": "markdown",
   "id": "b96b1c10",
   "metadata": {},
   "source": [
    "## 4. flatten a nested list"
   ]
  },
  {
   "cell_type": "code",
   "execution_count": 10,
   "id": "c53f7a2c",
   "metadata": {},
   "outputs": [
    {
     "name": "stdout",
     "output_type": "stream",
     "text": [
      "[1, 2, 3, 4, 4, 5]\n"
     ]
    }
   ],
   "source": [
    "mat=[[1,2],[3,4],[4,5]]\n",
    "flatten=[num for i in mat for num in i]\n",
    "print(flatten)"
   ]
  },
  {
   "cell_type": "markdown",
   "id": "777b5d31",
   "metadata": {},
   "source": [
    "## 5. generate a list of tuples"
   ]
  },
  {
   "cell_type": "code",
   "execution_count": 11,
   "id": "56dbebcf",
   "metadata": {},
   "outputs": [
    {
     "name": "stdout",
     "output_type": "stream",
     "text": [
      "[(0, 0), (0, 1), (0, 2), (0, 3), (1, 0), (1, 1), (1, 2), (1, 3), (2, 0), (2, 1), (2, 2), (2, 3), (3, 0), (3, 1), (3, 2), (3, 3)]\n"
     ]
    }
   ],
   "source": [
    "pairs=[(x,y) for x in range(4) for y in range(4)]\n",
    "print(pairs)"
   ]
  },
  {
   "cell_type": "markdown",
   "id": "ebc2a891",
   "metadata": {},
   "source": [
    "###  traditional way to list comprehension"
   ]
  },
  {
   "cell_type": "code",
   "execution_count": 12,
   "id": "b2023521",
   "metadata": {},
   "outputs": [
    {
     "name": "stdout",
     "output_type": "stream",
     "text": [
      "[1, 4, 9, 16, 25]\n"
     ]
    }
   ],
   "source": [
    "squares=[]\n",
    "for x in range(1,6):\n",
    "    squares.append(x**2)\n",
    "print(squares)"
   ]
  },
  {
   "cell_type": "code",
   "execution_count": 2,
   "id": "9bb4b644",
   "metadata": {},
   "outputs": [
    {
     "name": "stdout",
     "output_type": "stream",
     "text": [
      "[1, 4, 9, 16, 25]\n"
     ]
    }
   ],
   "source": [
    "squares=[x**2 for x in range(1,6)]\n",
    "print(squares)"
   ]
  },
  {
   "cell_type": "code",
   "execution_count": 1,
   "id": "03d64aca",
   "metadata": {},
   "outputs": [
    {
     "name": "stdout",
     "output_type": "stream",
     "text": [
      "[0, 2, 4, 6, 8]\n"
     ]
    }
   ],
   "source": [
    "#ex 2          ###old method\n",
    "even=[]\n",
    "for x in range(10):\n",
    "    if x%2==0:\n",
    "        even.append(x)\n",
    "print(even)"
   ]
  },
  {
   "cell_type": "code",
   "execution_count": 4,
   "id": "99051ab0",
   "metadata": {},
   "outputs": [
    {
     "name": "stdout",
     "output_type": "stream",
     "text": [
      "[0, 2, 4, 6, 8]\n"
     ]
    }
   ],
   "source": [
    "evens=[x for x in range(10) if x%2==0]\n",
    "print(evens)"
   ]
  },
  {
   "cell_type": "code",
   "execution_count": null,
   "id": "9dfd0192",
   "metadata": {},
   "outputs": [],
   "source": []
  },
  {
   "cell_type": "code",
   "execution_count": null,
   "id": "60d59a02",
   "metadata": {},
   "outputs": [],
   "source": []
  },
  {
   "cell_type": "markdown",
   "id": "cf55b911",
   "metadata": {},
   "source": [
    "##  dict comprehensions"
   ]
  },
  {
   "cell_type": "markdown",
   "id": "5659cdad",
   "metadata": {},
   "source": [
    "###  1. create a dictionary of squares"
   ]
  },
  {
   "cell_type": "code",
   "execution_count": 4,
   "id": "2ccab97d",
   "metadata": {},
   "outputs": [
    {
     "name": "stdout",
     "output_type": "stream",
     "text": [
      "{1: 1, 2: 4, 3: 9, 4: 16, 5: 25, 6: 36, 7: 49, 8: 64, 9: 81}\n"
     ]
    }
   ],
   "source": [
    "squares_dict={x : x**2 for x in range(1,10)}\n",
    "print(squares_dict)"
   ]
  },
  {
   "cell_type": "markdown",
   "id": "14f217e3",
   "metadata": {},
   "source": [
    "### 2. filter even numbers"
   ]
  },
  {
   "cell_type": "code",
   "execution_count": 5,
   "id": "b9958f95",
   "metadata": {},
   "outputs": [
    {
     "name": "stdout",
     "output_type": "stream",
     "text": [
      "{2: 4, 4: 16, 6: 36, 8: 64}\n"
     ]
    }
   ],
   "source": [
    "even={x:x**2 for x in range(1,10) if x%2==0}\n",
    "print(even)"
   ]
  },
  {
   "cell_type": "markdown",
   "id": "0fd98804",
   "metadata": {},
   "source": [
    "### 3. reverse a dictionary"
   ]
  },
  {
   "cell_type": "markdown",
   "id": "4196e5c3",
   "metadata": {},
   "source": [
    "swapping keys and values in existing dictionary"
   ]
  },
  {
   "cell_type": "code",
   "execution_count": 7,
   "id": "6df63602",
   "metadata": {},
   "outputs": [
    {
     "name": "stdout",
     "output_type": "stream",
     "text": [
      "{12: 'a', 23: 'b', 24: 'c'}\n"
     ]
    }
   ],
   "source": [
    "a={'a':12,'b':23,'c':24}\n",
    "reverse={x:y for y,x in a.items()}\n",
    "print(reverse)"
   ]
  },
  {
   "cell_type": "markdown",
   "id": "e67a762e",
   "metadata": {},
   "source": [
    "### 4. convert list to dictionary with length"
   ]
  },
  {
   "cell_type": "markdown",
   "id": "f7918493",
   "metadata": {},
   "source": [
    "converting list to dict where keys are string and the values are the lenght of each string"
   ]
  },
  {
   "cell_type": "code",
   "execution_count": 9,
   "id": "9b0e714d",
   "metadata": {},
   "outputs": [
    {
     "name": "stdout",
     "output_type": "stream",
     "text": [
      "{'ram': 3, 'shyam': 5, 'shiv': 4, 'suresh': 6}\n"
     ]
    }
   ],
   "source": [
    "words=['ram','shyam','shiv','suresh']\n",
    "c={x:len(x) for x in words}\n",
    "print(c)"
   ]
  },
  {
   "cell_type": "markdown",
   "id": "ec2f7913",
   "metadata": {},
   "source": [
    "### 5. Dictionary of conditional values"
   ]
  },
  {
   "cell_type": "markdown",
   "id": "18409f20",
   "metadata": {},
   "source": [
    "keys are numbers and values are even or odd depending on the number"
   ]
  },
  {
   "cell_type": "code",
   "execution_count": 10,
   "id": "b1f49b45",
   "metadata": {},
   "outputs": [
    {
     "name": "stdout",
     "output_type": "stream",
     "text": [
      "{1: 'odd', 2: 'even', 3: 'odd', 4: 'even', 5: 'odd'}\n"
     ]
    }
   ],
   "source": [
    "even={x:('even' if x%2==0 else 'odd') for x in range(1,6)}\n",
    "print(even)"
   ]
  },
  {
   "cell_type": "code",
   "execution_count": null,
   "id": "2d2e2105",
   "metadata": {},
   "outputs": [],
   "source": []
  },
  {
   "cell_type": "markdown",
   "id": "ad7f26af",
   "metadata": {},
   "source": [
    "## Types of arguments"
   ]
  },
  {
   "cell_type": "markdown",
   "id": "dd91958e",
   "metadata": {},
   "source": [
    "### 1. required arguments"
   ]
  },
  {
   "cell_type": "markdown",
   "id": "1ea028be",
   "metadata": {},
   "source": [
    "these are the arguments that must be passed to the function in the correct position"
   ]
  },
  {
   "cell_type": "code",
   "execution_count": 14,
   "id": "a6e42b19",
   "metadata": {},
   "outputs": [
    {
     "data": {
      "text/plain": [
       "5"
      ]
     },
     "execution_count": 14,
     "metadata": {},
     "output_type": "execute_result"
    }
   ],
   "source": [
    "def add(a,b):\n",
    "    return a+b\n",
    "add(2,3)"
   ]
  },
  {
   "cell_type": "markdown",
   "id": "136c806a",
   "metadata": {},
   "source": [
    "### 2. default argument"
   ]
  },
  {
   "cell_type": "markdown",
   "id": "250e56cc",
   "metadata": {},
   "source": [
    "default argument are those that take default values if no values is provided during the function call if an argument is not passed . python uses the default value"
   ]
  },
  {
   "cell_type": "code",
   "execution_count": 17,
   "id": "56ab44ec",
   "metadata": {},
   "outputs": [
    {
     "name": "stdout",
     "output_type": "stream",
     "text": [
      "hello, sam!\n",
      "goodbye, sam!\n"
     ]
    }
   ],
   "source": [
    "def great(name,msg='hello'):\n",
    "    return f\"{msg}, {name}!\"\n",
    "print(great('sam'))\n",
    "print(great('sam','goodbye'))"
   ]
  },
  {
   "cell_type": "markdown",
   "id": "b0fe4047",
   "metadata": {},
   "source": [
    "### 3. keyword argument"
   ]
  },
  {
   "cell_type": "markdown",
   "id": "bede63e6",
   "metadata": {},
   "source": [
    "these allow you to pass arguments by explicity specifying their names, making the code more readable . the order of the arguments deoes not matter as long as you preovide "
   ]
  },
  {
   "cell_type": "code",
   "execution_count": 19,
   "id": "68987e96",
   "metadata": {},
   "outputs": [
    {
     "name": "stdout",
     "output_type": "stream",
     "text": [
      "'Name: aadi ,'Age :20, 'Grade:' B\n",
      "'Name: aadi ,'Age :20, 'Grade:' B\n"
     ]
    }
   ],
   "source": [
    "def student_info(name,age,grade):\n",
    "    return f\"'Name: {name} ,'Age :{age}, 'Grade:' {grade}\"\n",
    "print(student_info(name='aadi',age=20,grade='B'))\n",
    "print(student_info(age=20,name='aadi',grade='B'))"
   ]
  },
  {
   "cell_type": "markdown",
   "id": "f0942dec",
   "metadata": {},
   "source": [
    "### 4. Variable length arguments : *args"
   ]
  },
  {
   "cell_type": "markdown",
   "id": "912adffa",
   "metadata": {},
   "source": [
    "*args allows you to pass a variable number of positional arguments to a function inside the function . 8args is treated as a tuple"
   ]
  },
  {
   "cell_type": "code",
   "execution_count": 21,
   "id": "c2e3c7dc",
   "metadata": {},
   "outputs": [
    {
     "name": "stdout",
     "output_type": "stream",
     "text": [
      "6\n",
      "36\n"
     ]
    }
   ],
   "source": [
    "def multiply(*args):\n",
    "    prod=1\n",
    "    for i in args:\n",
    "        prod=prod*i\n",
    "    return prod\n",
    "print(multiply(2,3))\n",
    "print(multiply(2,3,6))"
   ]
  },
  {
   "cell_type": "markdown",
   "id": "bc745fe7",
   "metadata": {},
   "source": [
    "### 5. Variable length keyword arguments: **kwargs"
   ]
  },
  {
   "cell_type": "markdown",
   "id": "25ddaaa2",
   "metadata": {},
   "source": [
    "kwargs allows you to pass a variable number of keyword arguments to a function ."
   ]
  },
  {
   "cell_type": "code",
   "execution_count": 25,
   "id": "de5937fe",
   "metadata": {},
   "outputs": [
    {
     "name": "stdout",
     "output_type": "stream",
     "text": [
      "name: same\n",
      "age: 20\n",
      "cituy: jaipur\n"
     ]
    }
   ],
   "source": [
    "def print_info(**kwargs):\n",
    "    for key,value in kwargs.items():\n",
    "        print(f\"{key}: {value}\")\n",
    "print_info(name='same',age=20,cituy='jaipur')"
   ]
  },
  {
   "cell_type": "code",
   "execution_count": null,
   "id": "0ac81f92",
   "metadata": {},
   "outputs": [],
   "source": []
  }
 ],
 "metadata": {
  "kernelspec": {
   "display_name": "Python 3 (ipykernel)",
   "language": "python",
   "name": "python3"
  },
  "language_info": {
   "codemirror_mode": {
    "name": "ipython",
    "version": 3
   },
   "file_extension": ".py",
   "mimetype": "text/x-python",
   "name": "python",
   "nbconvert_exporter": "python",
   "pygments_lexer": "ipython3",
   "version": "3.10.9"
  }
 },
 "nbformat": 4,
 "nbformat_minor": 5
}
