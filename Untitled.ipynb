{
 "cells": [
  {
   "cell_type": "code",
   "execution_count": 10,
   "id": "67f0aaad",
   "metadata": {},
   "outputs": [
    {
     "name": "stdout",
     "output_type": "stream",
     "text": [
      "5\n"
     ]
    }
   ],
   "source": [
    "price = [7,1,5,3,6,4]  \n",
    "max1=0\n",
    "for i in range(len(price)):\n",
    "    for j in range(i+1,len(price)):\n",
    "        if(price[j]-price[i]>max1):\n",
    "            max1=price[j]-price[i]\n",
    "#             print(max1)\n",
    "#             print(price[j])\n",
    "print(max1)"
   ]
  },
  {
   "cell_type": "code",
   "execution_count": 28,
   "id": "1baafafb",
   "metadata": {},
   "outputs": [
    {
     "name": "stdout",
     "output_type": "stream",
     "text": [
      "7\n"
     ]
    }
   ],
   "source": [
    "mylist = [7,1,5,3,6,4]  \n",
    "profit=0\n",
    "min_price=mylist[0]\n",
    "\n",
    "for i in range(len(price)):\n",
    "    profit_margin=mylist[i]\n",
    "    \n",
    "    profit=max(profit,profit_margin)\n",
    "#     print(min_price, mylist[i])\n",
    "    min_price=min(min_price,mylist[i])\n",
    "print(profit)"
   ]
  },
  {
   "cell_type": "code",
   "execution_count": 30,
   "id": "93eac42c",
   "metadata": {},
   "outputs": [],
   "source": [
    "# using while loop do this"
   ]
  },
  {
   "cell_type": "code",
   "execution_count": null,
   "id": "c324fd2d",
   "metadata": {},
   "outputs": [],
   "source": []
  }
 ],
 "metadata": {
  "kernelspec": {
   "display_name": "Python 3 (ipykernel)",
   "language": "python",
   "name": "python3"
  },
  "language_info": {
   "codemirror_mode": {
    "name": "ipython",
    "version": 3
   },
   "file_extension": ".py",
   "mimetype": "text/x-python",
   "name": "python",
   "nbconvert_exporter": "python",
   "pygments_lexer": "ipython3",
   "version": "3.10.9"
  }
 },
 "nbformat": 4,
 "nbformat_minor": 5
}
