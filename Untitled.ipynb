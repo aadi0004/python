{
 "cells": [
  {
   "cell_type": "code",
   "execution_count": 1,
   "id": "0888e955-0e82-402c-b373-e47f6ead9cf0",
   "metadata": {},
   "outputs": [],
   "source": [
    "# function\n",
    "# variable length and keyword variable\n",
    "def func(*x):\n",
    "    print(\"x=> \",x)"
   ]
  },
  {
   "cell_type": "code",
   "execution_count": 2,
   "id": "74ea1c58-2f2f-4eab-9ce9-e375599abb15",
   "metadata": {},
   "outputs": [
    {
     "name": "stdout",
     "output_type": "stream",
     "text": [
      "x=>  (10, 20)\n",
      "x=>  ()\n",
      "x=>  (2, 43, 5, 3)\n"
     ]
    }
   ],
   "source": [
    "func(10,20)\n",
    "func()\n",
    "func(2,43,5,3)"
   ]
  },
  {
   "cell_type": "code",
   "execution_count": 4,
   "id": "942dbd76-31dc-414d-8d5d-0ec5d3812b1e",
   "metadata": {},
   "outputs": [],
   "source": [
    "def func(**x):  # keyword variable length argument\n",
    "    print(\"x=> \",x)"
   ]
  },
  {
   "cell_type": "code",
   "execution_count": 6,
   "id": "f925bc9d-76e1-41f5-ac32-bee26874b4f8",
   "metadata": {},
   "outputs": [
    {
     "name": "stdout",
     "output_type": "stream",
     "text": [
      "x=>  {'age': 23, 'salary': 3444}\n",
      "x=>  {}\n",
      "x=>  {'age': 13, 'salary': 1000}\n"
     ]
    }
   ],
   "source": [
    "func(age=23,salary=3444)\n",
    "func()\n",
    "func(age=13,salary=1000)\n"
   ]
  },
  {
   "cell_type": "code",
   "execution_count": 9,
   "id": "f903563b-6d72-43c0-b372-d4af93bfc8b5",
   "metadata": {},
   "outputs": [],
   "source": [
    "def func(x):\n",
    "    print(\"x=> \",x)\n",
    "    return x+10\n",
    "    "
   ]
  },
  {
   "cell_type": "code",
   "execution_count": 11,
   "id": "7356f811-95cf-4a88-af3e-e65dc3e0d629",
   "metadata": {},
   "outputs": [
    {
     "name": "stdout",
     "output_type": "stream",
     "text": [
      "x=>  23\n",
      "out =>  33\n"
     ]
    }
   ],
   "source": [
    "out= func(23)\n",
    "print(\"out => \",out) ## without return function only print \"None\""
   ]
  },
  {
   "cell_type": "code",
   "execution_count": 12,
   "id": "1d3e8a2b-15db-4cfa-8c4b-85954d3c886b",
   "metadata": {},
   "outputs": [],
   "source": [
    "def func(x,y):\n",
    "    print(\"x,y\",x,y)\n",
    "    c= x+y\n",
    "    print(\"c\",c)"
   ]
  },
  {
   "cell_type": "code",
   "execution_count": 13,
   "id": "3b52a5e8-f2b2-4ab2-b2f0-8cb7f160bb82",
   "metadata": {},
   "outputs": [
    {
     "name": "stdout",
     "output_type": "stream",
     "text": [
      "x,y 15 25\n",
      "c 40\n",
      "None\n"
     ]
    }
   ],
   "source": [
    "out=func(15,25)\n",
    "print(out)"
   ]
  },
  {
   "cell_type": "code",
   "execution_count": 14,
   "id": "e4e4a0d2-bd71-4f3a-b8f2-92a5d0a0820f",
   "metadata": {},
   "outputs": [],
   "source": [
    "# First class func\n",
    "\n",
    "# if we can save a function into variable then it is first class function\n",
    "# if function is return then fcf\n",
    "# if func is stored in list,tuple,dict , so that also fsf\n",
    "# # function as an argument "
   ]
  },
  {
   "cell_type": "code",
   "execution_count": 18,
   "id": "df76278e-94a1-40e3-8903-82e24009c9f7",
   "metadata": {},
   "outputs": [
    {
     "name": "stdout",
     "output_type": "stream",
     "text": [
      "x <function func at 0x0000024F46A14E00> <function func at 0x0000024F46A14E00>\n",
      "Hello\n",
      "Hello\n"
     ]
    }
   ],
   "source": [
    "def func():\n",
    "    print(\"Hello\")\n",
    "\n",
    "x=func\n",
    "print(\"x\",x,func)\n",
    "x()\n",
    "func()"
   ]
  },
  {
   "cell_type": "code",
   "execution_count": 22,
   "id": "47ce6d6e-18e7-4616-adb5-dbacb73fc244",
   "metadata": {},
   "outputs": [
    {
     "name": "stdout",
     "output_type": "stream",
     "text": [
      "5\n",
      "a= 10 b= None\n"
     ]
    }
   ],
   "source": [
    "def add_two(x,y):\n",
    "    print(x+y)\n",
    "\n",
    "def three_num(a,b):\n",
    "    print(\"a=\",a, \"b=\" ,b)\n",
    "    \n",
    "three_num(10, add_two(2,3))"
   ]
  },
  {
   "cell_type": "code",
   "execution_count": 23,
   "id": "fdddcc7c-fcd0-489d-ac0b-47cc8a432fcd",
   "metadata": {},
   "outputs": [
    {
     "name": "stdout",
     "output_type": "stream",
     "text": [
      "a= 10 b= 5\n"
     ]
    }
   ],
   "source": [
    "def add_two(x,y):\n",
    "    return (x+y)\n",
    "\n",
    "def three_num(a,b):\n",
    "    print(\"a=\",a, \"b=\" ,b)\n",
    "    \n",
    "three_num(10, add_two(2,3))"
   ]
  },
  {
   "cell_type": "code",
   "execution_count": 27,
   "id": "3ed11736-d6ab-4db6-8d31-234cd6a8a8cd",
   "metadata": {},
   "outputs": [
    {
     "name": "stdout",
     "output_type": "stream",
     "text": [
      "a= 10 b= <function add_two at 0x0000024F4774AA20> 8\n"
     ]
    }
   ],
   "source": [
    "def add_two(x,y):\n",
    "    return (x+y)\n",
    "\n",
    "def three_num(a,b):\n",
    "    print(\"a=\",a, \"b=\" ,b, b(2,6))\n",
    "    \n",
    "three_num(10, add_two)"
   ]
  },
  {
   "cell_type": "code",
   "execution_count": 28,
   "id": "17d76b4e-681d-43df-a038-ea014fc3d509",
   "metadata": {},
   "outputs": [],
   "source": [
    "# if we can pass a func as an argument to any function then it is high order fun\n",
    "# sare high order func first class hote h \n",
    "# # but sare first class function high order nhi hote"
   ]
  },
  {
   "cell_type": "code",
   "execution_count": null,
   "id": "3326315f-b630-419a-a2d9-392535dd1306",
   "metadata": {},
   "outputs": [],
   "source": []
  }
 ],
 "metadata": {
  "kernelspec": {
   "display_name": "Python 3 (ipykernel)",
   "language": "python",
   "name": "python3"
  },
  "language_info": {
   "codemirror_mode": {
    "name": "ipython",
    "version": 3
   },
   "file_extension": ".py",
   "mimetype": "text/x-python",
   "name": "python",
   "nbconvert_exporter": "python",
   "pygments_lexer": "ipython3",
   "version": "3.12.7"
  }
 },
 "nbformat": 4,
 "nbformat_minor": 5
}
