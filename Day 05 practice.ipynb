{
 "cells": [
  {
   "cell_type": "code",
   "execution_count": 1,
   "id": "b185762a",
   "metadata": {},
   "outputs": [
    {
     "name": "stdout",
     "output_type": "stream",
     "text": [
      "enter stop if you want to stop no\n",
      "products\n",
      " 1. pen 2.pencil \n",
      "enter product name pen\n",
      "enter product quantity 23\n",
      "enter stop if you want to stop stop\n"
     ]
    }
   ],
   "source": [
    "inp=input(\"enter stop if you want to stop \")\n",
    "\n",
    "q=23\n",
    "sum=0\n",
    "sum1=0\n",
    "while(inp != 'stop'):    \n",
    "    while(sum<q):\n",
    "        print('products\\n 1. pen 2.pencil ')\n",
    "        a=input('enter product name ')\n",
    "        b=int(input('enter product quantity '))\n",
    "        if(a=='pen' and sum<=23):\n",
    "            sum=sum+b\n",
    "        elif(a=='pencil' and sum1<=23):\n",
    "            sum1=sum1+b\n",
    "        \n",
    "        if(sum>q or sum1>q):\n",
    "            print(\"reorder the product\")\n",
    "        inp=input(\"enter stop if you want to stop \")\n",
    "        if(inp=='stop'):\n",
    "            print(\"stoped\")\n",
    "            break\n",
    "\n",
    "        \n",
    "        \n",
    "    \n"
   ]
  },
  {
   "cell_type": "code",
   "execution_count": null,
   "id": "4aefa515",
   "metadata": {},
   "outputs": [],
   "source": [
    "\"\"\"Q.2 Write a Python program that takes a list of student scores as input and calculates the average \n",
    "score. If any student scores below 40, display a message saying \"Fail\" for that student. Also, find \n",
    "and print the highest and lowest scores.\"\"\"\n"
   ]
  },
  {
   "cell_type": "code",
   "execution_count": 3,
   "id": "9ff52fbf",
   "metadata": {},
   "outputs": [
    {
     "name": "stdout",
     "output_type": "stream",
     "text": [
      "enter total sub 5\n",
      "enter score90\n",
      "enter score89\n",
      "enter score87\n",
      "enter score80\n",
      "enter score87\n",
      "[90, 89, 87, 80, 87]\n",
      "average is:  86.6\n",
      "pass\n",
      "max is 90\n",
      "min is 80\n"
     ]
    }
   ],
   "source": [
    "a=int(input(\"enter total sub \"))\n",
    "b=a\n",
    "li=[]\n",
    "m=0\n",
    "while(a>0):\n",
    "    l=int(input(\"enter score\"))\n",
    "    if(l>m):\n",
    "        m1=l\n",
    "        m=m+l\n",
    "    li.append(l)\n",
    "    a-=1\n",
    "\n",
    "print(li)\n",
    "sum=0\n",
    "for i in li:\n",
    "    sum=sum+i\n",
    "avg=sum/b\n",
    "print('average is: ',avg)\n",
    "if(avg<40):\n",
    "        print('fail')\n",
    "else:\n",
    "        print('pass')\n",
    "\n",
    "print('max is',m1)\n",
    "print('min is',min(li))\n",
    "\n"
   ]
  },
  {
   "cell_type": "markdown",
   "id": "342b62b8",
   "metadata": {},
   "source": [
    ".3 Write a Python program for an ATM that allows users to withdraw money in multiples of 100. The ATM only has a limited number of bills of denominations: 100, 500, and 2000. The program should keep track of available bills and prompt the user if the amount they request exceeds the available bills or is not a multiple of 100."
   ]
  },
  {
   "cell_type": "code",
   "execution_count": 14,
   "id": "23e353e1",
   "metadata": {},
   "outputs": [
    {
     "name": "stdout",
     "output_type": "stream",
     "text": [
      "enter amount 678\n",
      "can not widrawl\n",
      "not multiple of 100\n"
     ]
    }
   ],
   "source": [
    "am=int(input('enter amount ' ))\n",
    "\n",
    "if(am%100==0 or am%500==0 or am%1000==0):\n",
    "    print(\"widrawled\",am)\n",
    "else:\n",
    "    print(\"can not widrawl\")\n",
    "    print(\"not multiple of 100\")"
   ]
  },
  {
   "cell_type": "markdown",
   "id": "d071a427",
   "metadata": {},
   "source": [
    " Q.4  You are designing a loan approval system for a bank. Write a Python program that takes the user’s salary, credit score, and years of employment as input. The loan is approved if the salary is above $50,000, the credit score is above 700, and the user has been employed for at least 2 years."
   ]
  },
  {
   "cell_type": "code",
   "execution_count": 15,
   "id": "da444d9a",
   "metadata": {},
   "outputs": [
    {
     "name": "stdout",
     "output_type": "stream",
     "text": [
      "enter salery 567890\n",
      "enter credit score 6789\n",
      "enter years of employment 7\n",
      "loan is approved\n"
     ]
    }
   ],
   "source": [
    "s=int(input('enter salery '))\n",
    "c=int(input('enter credit score '))\n",
    "y=int(input('enter years of employment '))\n",
    "if(s>50000 and c>700 and y>=2):\n",
    "    print(\"loan is approved\")\n",
    "else:\n",
    "    print(\"loan not approved\")"
   ]
  },
  {
   "cell_type": "markdown",
   "id": "f23dae37",
   "metadata": {},
   "source": [
    " Q.5 Write a Python program to manage a parking lot system where each parking slot can accommodate only one vehicle. The parking lot has a maximum capacity of n vehicles. The program should track the current number of parked vehicles and display a message when the parking lot is full."
   ]
  },
  {
   "cell_type": "code",
   "execution_count": 21,
   "id": "9b01bf01",
   "metadata": {},
   "outputs": [
    {
     "name": "stdout",
     "output_type": "stream",
     "text": [
      "enter capacity 34\n",
      "enter parked vehicle 23\n",
      "enter y if you want to park q\n",
      "parking is not full\n"
     ]
    }
   ],
   "source": [
    "n=int(input(\"enter capacity \"))\n",
    "p=int(input('enter parked vehicle '))\n",
    "while(p<n):\n",
    "    s=input('enter y if you want to park ')\n",
    "    if(s=='y'):\n",
    "        p=p+1\n",
    "        print('parked')\n",
    "    else:\n",
    "        break\n",
    "    \n",
    "if(n==p):    \n",
    "    print('parking is full')\n",
    "else:\n",
    "    print('parking is not full')\n",
    "    \n"
   ]
  },
  {
   "cell_type": "markdown",
   "id": "5ecde092",
   "metadata": {},
   "source": [
    "Q.6  Write a Python program for an airline reservation system. The program should accept passenger details and continuously ask if there are more passengers to add. If the flight is full (with a maximum number of seats), display a \"Flight Full\" message.\n"
   ]
  },
  {
   "cell_type": "code",
   "execution_count": 1,
   "id": "f29084ab",
   "metadata": {},
   "outputs": [
    {
     "name": "stdout",
     "output_type": "stream",
     "text": [
      "want to add y or n y\n",
      "enter name t\n",
      "enter age 5\n",
      "you can add more\n",
      "want to add y or n y\n",
      "enter name t\n",
      "enter age 45\n",
      "you can add more\n",
      "want to add y or n y\n",
      "enter name g\n",
      "enter age 5\n",
      "you can add more\n",
      "want to add y or n y\n",
      "enter name gg\n",
      "enter age 56\n",
      "you can add more\n",
      "want to add y or n y\n",
      "enter name fkmg\n",
      "enter age 45\n",
      "seat full\n"
     ]
    }
   ],
   "source": [
    "max=4\n",
    "s=input('want to add y or n ')\n",
    "a=0\n",
    "while(s=='y'):\n",
    "        s=input('enter name ')\n",
    "        s=int(input('enter age '))\n",
    "    \n",
    "        a=a+1\n",
    "        if(a>max):\n",
    "            print(\"seat full\")\n",
    "            break\n",
    "        else:\n",
    "            print(\"you can add more\")\n",
    "        s=input('want to add y or n ')\n",
    "        if(s!='y'):\n",
    "            break\n",
    "        \n",
    "            \n",
    "            \n",
    "\n",
    "    \n",
    "\n"
   ]
  },
  {
   "cell_type": "markdown",
   "id": "706afbf7",
   "metadata": {},
   "source": [
    " Q.7  Write a Python program to help a user track their monthly budget. The program should continuously accept expense amounts from the user until they type \"done\". It should then calculate the total expenses and compare them with a predefined monthly budget. Display if the user is over or under budget."
   ]
  },
  {
   "cell_type": "code",
   "execution_count": 6,
   "id": "2eccff1a",
   "metadata": {},
   "outputs": [
    {
     "name": "stdout",
     "output_type": "stream",
     "text": [
      "enter done if done r\n",
      "enter expences 234\n",
      "enter done if done done\n",
      "total is 234\n",
      "overbudget\n"
     ]
    }
   ],
   "source": [
    "i=input('enter done if done ')\n",
    "sum1=0\n",
    "b=200\n",
    "while(i!='done'):\n",
    "    \n",
    "    e=int(input('enter expences '))\n",
    "    sum1=sum1+e\n",
    "    i=input('enter done if done ')\n",
    "    if(i!='done'):\n",
    "        continue\n",
    "    else:\n",
    "        break\n",
    "        \n",
    "        \n",
    "print('total is',sum1) \n",
    "\n",
    "if(b<sum1):\n",
    "    print(\"overbudget\")\n",
    "else:\n",
    "    print(\"underbudget\")\n",
    "    "
   ]
  },
  {
   "cell_type": "markdown",
   "id": "f1c1f2ac",
   "metadata": {},
   "source": [
    "Q.8 Write a Python program for a restaurant ordering system. The program should display a menu with food items and prices. It should continuously accept customer orders until the user types \"done\". The program should then calculate the total bill and apply a 10% discount if the total bill exceeds $100.\n",
    "    "
   ]
  },
  {
   "cell_type": "code",
   "execution_count": 12,
   "id": "0c65f738",
   "metadata": {},
   "outputs": [
    {
     "name": "stdout",
     "output_type": "stream",
     "text": [
      "enter done or not3\n",
      "1.burger=20 \n",
      "2. pasta=40 \n",
      "3. pizza=60\n",
      "enter 1,2,or 3 for order 3\n",
      "pizza ordered\n",
      "enter done or not3\n",
      "1.burger=20 \n",
      "2. pasta=40 \n",
      "3. pizza=60\n",
      "enter 1,2,or 3 for order 3\n",
      "pizza ordered\n",
      "enter done or notdone\n",
      "\n",
      "\n",
      "10% discount\n",
      "total is 108.0\n"
     ]
    }
   ],
   "source": [
    "a=input(\"enter done or not\")\n",
    "price=0\n",
    "while(a!='done'):\n",
    "    \n",
    "        print(\"1.burger=20 \\n2. pasta=40 \\n3. pizza=60\")\n",
    "        b=int(input('enter 1,2,or 3 for order '))\n",
    "        if(b==1):\n",
    "            print('burger ordered')\n",
    "            price=price+20\n",
    "        elif(b==2):\n",
    "            print('pasta ordered')\n",
    "            price=price+40\n",
    "        elif(b==3):\n",
    "            print('pizza ordered')\n",
    "            price=price+60\n",
    "        else:\n",
    "            break\n",
    "        a=input(\"enter done or not\")\n",
    "        if(a=='done'):\n",
    "            break\n",
    "print(\"\\n\")\n",
    "\n",
    "            \n",
    "if(price>100):\n",
    "    print(\"10% discount\")\n",
    "    print('total is',price-(price*0.1))\n",
    "else:\n",
    "    print('total is',price)\n",
    "\n",
    "\n",
    "\n",
    "    \n",
    "            \n",
    "            \n",
    "        \n",
    "    "
   ]
  },
  {
   "cell_type": "markdown",
   "id": "c2510924",
   "metadata": {},
   "source": [
    "Q.9  Write a Python program for a library book management system. The system should allow a librarian to continuously input the number of borrowed books. When a user tries to borrow a book, the system checks whether the total borrowed books have reached a certain threshold (e.g., 50). If the limit is reached, the system should display a message saying \"No more books can be borrowed\".\n"
   ]
  },
  {
   "cell_type": "code",
   "execution_count": 3,
   "id": "75ea554c",
   "metadata": {},
   "outputs": [
    {
     "name": "stdout",
     "output_type": "stream",
     "text": [
      "enter number of book borrowed90\n",
      "you can not borrow more books\n"
     ]
    }
   ],
   "source": [
    "a=int(input('enter number of book borrowed'))\n",
    "limit=50\n",
    "while(a<limit):\n",
    "    c=input(\"y for borrow\")\n",
    "    if(c=='y'):\n",
    "        i=int(input('how many book'))\n",
    "        a=a+i\n",
    "    else:\n",
    "        \n",
    "        break\n",
    "    if(a>limit):\n",
    "        print(\"limit reached\")\n",
    "        break\n",
    "if(a>limit):\n",
    "    print(\"you can not borrow more books\")\n",
    "\n",
    "    "
   ]
  },
  {
   "cell_type": "markdown",
   "id": "697bb9de",
   "metadata": {},
   "source": [
    "\n",
    "#Q.10 Write a Python program for an e-commerce website where users can input the total cart value. Based on the value, different discount rates are applied:\n",
    "\n",
    " If the value is above $500, apply a 20% discount.\n",
    "# If the value is between $200 and $500, apply a 10% discount.\n",
    "# If the value is below $200, no discount is applied. The program should calculate and print the final price after applying the discount."
   ]
  },
  {
   "cell_type": "code",
   "execution_count": 7,
   "id": "fd1e09ba",
   "metadata": {},
   "outputs": [
    {
     "name": "stdout",
     "output_type": "stream",
     "text": [
      "enter total value $324\n",
      "after 10% dicsount total  291.6\n"
     ]
    }
   ],
   "source": [
    "total=int(input('enter total value $'))\n",
    "if(total>500):\n",
    "    print('after 20% dicsount total ',total-(total*0.2))\n",
    "elif(total>=200 and total<=500):\n",
    "    print('after 10% dicsount total ',total-(total*0.1))\n",
    "elif(total<200):\n",
    "    print('no dicsount total ',total)"
   ]
  },
  {
   "cell_type": "code",
   "execution_count": null,
   "id": "5a702341",
   "metadata": {},
   "outputs": [],
   "source": []
  },
  {
   "cell_type": "markdown",
   "id": "a55977eb",
   "metadata": {},
   "source": [
    "Q.11  Write a Python program to calculate the year-end bonus for employees. The bonus is based on performance ratings and years of service:\n",
    "\n",
    " Employees with a rating above 4 and service years greater than 5 get a 20% bonus on their salary.\n",
    " Employees with a rating between 3 and 4 get a 10% bonus if they have more than 2 years of service.\n",
    "All others get a 5% bonus. The program should take the employee's salary, rating, and years of service as input and output the final bonus amount."
   ]
  },
  {
   "cell_type": "code",
   "execution_count": 8,
   "id": "72bba84c",
   "metadata": {},
   "outputs": [
    {
     "name": "stdout",
     "output_type": "stream",
     "text": [
      "enter salary 23460\n",
      "enter rating 4\n",
      "enter year of service 3\n",
      "bonous is 2346.0\n"
     ]
    }
   ],
   "source": [
    "s=int(input('enter salary '))\n",
    "r=int(input('enter rating '))\n",
    "y=int(input('enter year of service '))\n",
    "\n",
    "if(r>4 and y>5):\n",
    "    print('20% bonous is',s*0.2)\n",
    "elif(r>=3 and r<=4):\n",
    "    print('10% bonous is',s*0.1)\n",
    "elif(y>2):\n",
    "    print('5% bonous is',s*0.05)"
   ]
  },
  {
   "cell_type": "markdown",
   "id": "3a25c87d",
   "metadata": {},
   "source": [
    "Q.12  Write a Python program for a car rental system. The user can choose different cars (economy, sedan, or SUV), and each type has a daily rental rate. The program should continuously accept car type and rental days as input until the user enters \"stop\". After that, the total rental cost should be calculated, and a 15% discount should be applied if the total rental duration exceeds 7 days."
   ]
  },
  {
   "cell_type": "code",
   "execution_count": null,
   "id": "161efc4a",
   "metadata": {},
   "outputs": [],
   "source": []
  },
  {
   "cell_type": "code",
   "execution_count": 1,
   "id": "0c84a94b",
   "metadata": {},
   "outputs": [
    {
     "name": "stdout",
     "output_type": "stream",
     "text": [
      "enter stop if want's to stopm\n",
      "1. economy \n",
      "2. sedan \n",
      "3. suv\n",
      "enter car typesuv\n",
      "enter total days 9\n",
      "22500\n",
      "dis 19125.0\n",
      "enter stop if want's to stopj\n",
      "1. economy \n",
      "2. sedan \n",
      "3. suv\n",
      "enter car typesedan\n",
      "enter total days 7\n",
      "enter stop if want's to stopstop\n",
      "price 14000\n",
      "total price  33125.0\n"
     ]
    }
   ],
   "source": [
    "s=input(\"enter stop if want's to stop\")\n",
    "a=0\n",
    "while(s!='stop'):\n",
    "        print(\"1. economy \\n2. sedan \\n3. suv\")\n",
    "        type=input('enter car type')\n",
    "        days=int(input('enter total days '))\n",
    "        \n",
    "        if(type=='economy'):\n",
    "            price=1000*days  \n",
    "        elif(type=='sedan'):\n",
    "            price=2000*days\n",
    "        elif(type=='suv'):\n",
    "            price=2500*days\n",
    "            print(price)\n",
    "        else:\n",
    "            price=0\n",
    "            print(\"wrong input\")\n",
    "            \n",
    "        if(days>7):\n",
    "            price=price-(price*0.15)\n",
    "            print(\"dis\",price)\n",
    "        a=price+a \n",
    "        \n",
    "        s=input(\"enter stop if want's to stop\")\n",
    "        if(s=='stop'):\n",
    "            break\n",
    "        \n",
    "print('price',price)\n",
    "print('total price ',a)"
   ]
  },
  {
   "cell_type": "markdown",
   "id": "0b664f65",
   "metadata": {},
   "source": [
    "Q.13 Write a Python program for a fitness tracker that records daily steps walked. The program should continuously accept the number of steps for each day of the week. At the end of the week, calculate the total number of steps, the average number of steps per day, and display a message if the average steps are below 5,000 (suggesting more exercise is needed).\n"
   ]
  },
  {
   "cell_type": "code",
   "execution_count": 11,
   "id": "016babc6",
   "metadata": {},
   "outputs": [
    {
     "name": "stdout",
     "output_type": "stream",
     "text": [
      "enter total step for the day0 89\n",
      "enter total step for the day1 98\n",
      "enter total step for the day2 89\n",
      "enter total step for the day3 98\n",
      "enter total step for the day4 89\n",
      "enter total step for the day5 98\n",
      "enter total step for the day6 789\n",
      "[89, 98, 89, 98, 89, 98, 789]\n",
      "\n",
      "total steps of week 1350\n",
      "average for per day 192\n",
      "suggesting more exercise is needed\n"
     ]
    }
   ],
   "source": [
    "li=[]\n",
    "sum=0\n",
    "for i in range(7):\n",
    "    step=int(input(f\"enter total step for the day{i} \"))\n",
    "    li.append(step)\n",
    "    sum=sum+step\n",
    "    \n",
    "print(li)\n",
    "print('\\ntotal steps of week',sum)\n",
    "c=sum/7\n",
    "c=int(c)\n",
    "print('average for per day',c)\n",
    "if(c<5000):\n",
    "    print(\"suggesting more exercise is needed\")\n",
    "else:\n",
    "    print(\"good\")\n",
    "    "
   ]
  },
  {
   "cell_type": "markdown",
   "id": "6ccd2729",
   "metadata": {},
   "source": [
    "Q.14  A shopping mall wants to analyze foot traffic for a given week. Write a Python program to take the number of visitors for each day of the week. The program should calculate the total number of visitors, the day with the highest number of visitors, and check if the total number of visitors exceeds a predefined threshold (say 10,000). If it does, display a warning message."
   ]
  },
  {
   "cell_type": "code",
   "execution_count": 14,
   "id": "4af88ec8",
   "metadata": {
    "scrolled": true
   },
   "outputs": [
    {
     "name": "stdout",
     "output_type": "stream",
     "text": [
      "enter num of visitors 234567\n",
      "enter num of visitors 3456\n",
      "enter num of visitors 3456\n",
      "enter num of visitors 23456\n",
      "enter num of visitors 23456\n",
      "enter num of visitors 3456\n",
      "enter num of visitors 23456\n",
      "total visitors 315303\n",
      "max visitors 234567\n",
      "warning\n"
     ]
    }
   ],
   "source": [
    "li=[]\n",
    "max=0\n",
    "for i in range(7):\n",
    "    s=int(input('enter num of visitors '))\n",
    "    if(s>max):\n",
    "        max=s\n",
    "        \n",
    "    li.append(s)\n",
    "sum=0\n",
    "for i in li:\n",
    "    sum=sum+i\n",
    "print('total visitors', sum)\n",
    "print('max visitors' ,max)\n",
    "if(max>10000):\n",
    "    print(\"warning\")"
   ]
  },
  {
   "cell_type": "markdown",
   "id": "c2c59f56",
   "metadata": {},
   "source": [
    " Q.15  Write a Python program to handle course enrollment. The program should continuously accept student names and their chosen course until the user types \"done\". If a particular course reaches a predefined maximum capacity (e.g., 30 students), the program should print \"Course Full\" and stop accepting students for that course."
   ]
  },
  {
   "cell_type": "code",
   "execution_count": 14,
   "id": "83fbaad6",
   "metadata": {},
   "outputs": [
    {
     "name": "stdout",
     "output_type": "stream",
     "text": [
      "enter name of student ba\n",
      "enter courseba\n",
      "enter name of student ba\n",
      "enter courseba\n",
      "enter name of student ba\n",
      "enter courseba\n",
      "enter name of student ba\n",
      "enter courseba\n",
      "enter name of student ba\n",
      "enter courseba\n"
     ]
    }
   ],
   "source": [
    "a=25\n",
    "b=25\n",
    "while(a!=30):\n",
    "    name=input(\"enter name of student \")\n",
    "    c=input('enter course')\n",
    "    if(c=='ba'):\n",
    "        a=a+1\n",
    "    elif(c=='bca'):\n",
    "        b=b+1\n",
    "       \n",
    "    else:\n",
    "        print(\"input ba or bca\")\n",
    "        break\n",
    "   \n",
    "\n",
    "if()\n",
    "print(\"course full\")\n",
    "\n",
    "\n",
    "    \n"
   ]
  },
  {
   "cell_type": "code",
   "execution_count": 15,
   "id": "ee5c1658",
   "metadata": {},
   "outputs": [
    {
     "name": "stdout",
     "output_type": "stream",
     "text": [
      "Enter student name (or type 'done' to finish): po\n",
      "Enter course name for po: ba\n",
      "po has been enrolled in ba.\n",
      "Enter student name (or type 'done' to finish): done\n",
      "\n",
      "Enrollment Summary:\n",
      "ba: 1 students\n"
     ]
    }
   ],
   "source": [
    "# Define maximum capacity for courses\n",
    "MAX_CAPACITY = 30\n",
    "\n",
    "# Dictionary to store courses and their enrolled students\n",
    "courses = {}\n",
    "\n",
    "while True:\n",
    "    student_name = input(\"Enter student name (or type 'done' to finish): \")\n",
    "    if student_name.lower() == 'done':\n",
    "        break\n",
    "\n",
    "    course_name = input(f\"Enter course name for {student_name}: \")\n",
    "\n",
    "    # Check if the course is already in the dictionary\n",
    "    if course_name not in courses:\n",
    "        courses[course_name] = []\n",
    "    \n",
    "    # Check if the course has reached the maximum capacity\n",
    "    if len(courses[course_name]) < MAX_CAPACITY:\n",
    "        courses[course_name].append(student_name)\n",
    "        print(f\"{student_name} has been enrolled in {course_name}.\")\n",
    "    else:\n",
    "        print(\"Course Full\")\n",
    "\n",
    "# Print the summary of enrolled students per course\n",
    "print(\"\\nEnrollment Summary:\")\n",
    "for course, students in courses.items():\n",
    "    print(f\"{course}: {len(students)} students\")\n"
   ]
  },
  {
   "cell_type": "code",
   "execution_count": null,
   "id": "e359b4ee",
   "metadata": {},
   "outputs": [],
   "source": []
  }
 ],
 "metadata": {
  "kernelspec": {
   "display_name": "Python 3 (ipykernel)",
   "language": "python",
   "name": "python3"
  },
  "language_info": {
   "codemirror_mode": {
    "name": "ipython",
    "version": 3
   },
   "file_extension": ".py",
   "mimetype": "text/x-python",
   "name": "python",
   "nbconvert_exporter": "python",
   "pygments_lexer": "ipython3",
   "version": "3.10.9"
  }
 },
 "nbformat": 4,
 "nbformat_minor": 5
}
