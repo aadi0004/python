{
 "cells": [
  {
   "cell_type": "code",
   "execution_count": 2,
   "id": "20355f18",
   "metadata": {},
   "outputs": [],
   "source": [
    "#first class function"
   ]
  },
  {
   "cell_type": "code",
   "execution_count": 10,
   "id": "c931ca00",
   "metadata": {},
   "outputs": [
    {
     "name": "stdout",
     "output_type": "stream",
     "text": [
      "2 100\n"
     ]
    }
   ],
   "source": [
    "def square(x):\n",
    "    return (x*x)\n",
    "\n",
    "    \n",
    "def cube(y,z):\n",
    "    print(y,z)\n",
    "    \n",
    "    \n",
    "cube(2,square(10))\n",
    "# print(u)"
   ]
  },
  {
   "cell_type": "code",
   "execution_count": 16,
   "id": "8d48e47e",
   "metadata": {},
   "outputs": [
    {
     "name": "stdout",
     "output_type": "stream",
     "text": [
      "2 <function square at 0x0000016261900550>\n"
     ]
    }
   ],
   "source": [
    "def square(x):\n",
    "    return (x*x)\n",
    "\n",
    "    \n",
    "def cube(y,z):\n",
    "    print(y,z)\n",
    "    \n",
    "    \n",
    "cube(2,square)\n",
    "# print(u)"
   ]
  },
  {
   "cell_type": "code",
   "execution_count": 18,
   "id": "dc1665ff",
   "metadata": {},
   "outputs": [
    {
     "name": "stdout",
     "output_type": "stream",
     "text": [
      "2 4\n"
     ]
    }
   ],
   "source": [
    "def square(x):\n",
    "    return (x*x)\n",
    "\n",
    "    \n",
    "def cube(y,z):\n",
    "#     z(9)\n",
    "    print(y,z(y))\n",
    "    \n",
    "    \n",
    "cube(2,square)\n",
    "# print(u)"
   ]
  },
  {
   "cell_type": "code",
   "execution_count": 19,
   "id": "f19afd3d",
   "metadata": {},
   "outputs": [
    {
     "name": "stdout",
     "output_type": "stream",
     "text": [
      "8\n"
     ]
    }
   ],
   "source": [
    "def square(x):\n",
    "    return (x*x)\n",
    "\n",
    "    \n",
    "def cube(y,z):\n",
    "\n",
    "    print(y*z(y))\n",
    "    \n",
    "    \n",
    "cube(2,square)\n",
    "# print(u)"
   ]
  },
  {
   "cell_type": "markdown",
   "id": "56b6e8e3",
   "metadata": {},
   "source": [
    "# lambda function"
   ]
  },
  {
   "cell_type": "code",
   "execution_count": 22,
   "id": "9bc5db63",
   "metadata": {},
   "outputs": [],
   "source": [
    "# annoymons function\n"
   ]
  },
  {
   "cell_type": "code",
   "execution_count": 32,
   "id": "cfb93ee2",
   "metadata": {},
   "outputs": [
    {
     "data": {
      "text/plain": [
       "12"
      ]
     },
     "execution_count": 32,
     "metadata": {},
     "output_type": "execute_result"
    }
   ],
   "source": [
    "# lambda parameter ,p2,p3: expression\n",
    "\n",
    "out=lambda x:x*2\n",
    "out(6)"
   ]
  },
  {
   "cell_type": "code",
   "execution_count": 37,
   "id": "33a423eb",
   "metadata": {},
   "outputs": [
    {
     "data": {
      "text/plain": [
       "('t', 'g')"
      ]
     },
     "execution_count": 37,
     "metadata": {},
     "output_type": "execute_result"
    }
   ],
   "source": [
    "out= lambda str1,str2:(str1[0],str2[0])\n",
    "out('tushar','goyal')"
   ]
  },
  {
   "cell_type": "code",
   "execution_count": 38,
   "id": "d178d1ef",
   "metadata": {},
   "outputs": [
    {
     "data": {
      "text/plain": [
       "'tg'"
      ]
     },
     "execution_count": 38,
     "metadata": {},
     "output_type": "execute_result"
    }
   ],
   "source": [
    "out= lambda str1,str2:str1[0]+str2[0]\n",
    "out('tushar','goyal')"
   ]
  },
  {
   "cell_type": "markdown",
   "id": "fac326ef",
   "metadata": {},
   "source": [
    "# map"
   ]
  },
  {
   "cell_type": "code",
   "execution_count": 39,
   "id": "8d53a3ff",
   "metadata": {},
   "outputs": [],
   "source": [
    "# map is a genrator function "
   ]
  },
  {
   "cell_type": "code",
   "execution_count": 40,
   "id": "37c8de3f",
   "metadata": {},
   "outputs": [
    {
     "name": "stdout",
     "output_type": "stream",
     "text": [
      "3\n",
      "5\n"
     ]
    }
   ],
   "source": [
    "lst=['hey','hello']\n",
    "gen=map(len,lst)\n",
    "\n",
    "print(next(gen))\n",
    "print(next(gen))"
   ]
  },
  {
   "cell_type": "code",
   "execution_count": 43,
   "id": "841ee9f6",
   "metadata": {},
   "outputs": [
    {
     "data": {
      "text/plain": [
       "[3, 5]"
      ]
     },
     "execution_count": 43,
     "metadata": {},
     "output_type": "execute_result"
    }
   ],
   "source": [
    "lst=['hey','hello']\n",
    "list(map(len,lst))\n"
   ]
  },
  {
   "cell_type": "raw",
   "id": "4d83554f",
   "metadata": {},
   "source": [
    "1. what is doc string in python\n",
    "    A docstring in Python is a string that describes a module, function, class, or method\n",
    "    \n",
    "2. data types in python\n",
    "    Numeric data types: int, float, complex.\n",
    "    String data types: str.\n",
    "    Sequence types: list, tuple, range.\n",
    "    Binary types: bytes, bytearray, memoryview.\n",
    "    Mapping data type: dict.\n",
    "    Boolean type: bool.\n",
    "    Set data types: set\n",
    "    \n",
    "3. pep8, namespace \n",
    "    ~ PEP 8 is Python's official style guide for writing clean, readable, and consistent code.\n",
    "    ~ A namespace is a container that maps names to objects, preventing name conflicts (e.g., local, global, or built-in               namespaces).\n",
    "\n",
    "4. what is interpreted programming language\n",
    "     An interpreted programming language is a language where code is executed line by line by an interpreter, without being         compiled into machine code first.\n",
    "\n",
    "    Examples:\n",
    "    Python, JavaScript, Ruby\n",
    "    \n",
    "5. function vs lambda function\n",
    "### **Function**  \n",
    "- A **function** is a block of reusable code defined using the `def` keyword.  \n",
    "- It can have a name, multiple lines of code, and multiple arguments.  \n",
    "- Example:  \n",
    "  ```python\n",
    "  def add(a, b):\n",
    "      return a + b\n",
    "  print(add(3, 5))  # Output: 8\n",
    "  ```\n",
    "\n",
    "---\n",
    "\n",
    "### **Lambda Function**  \n",
    "    - A **lambda function** is an anonymous, single-line function defined using the `lambda` keyword.  \n",
    "    - It is typically used for short, simple operations.  \n",
    "    - Example:  \n",
    "      ```python\n",
    "      add = lambda a, b: a + b\n",
    "      print(add(3, 5))  # Output: 8\n",
    "      ```\n",
    "\n",
    "    ### Key Differences:\n",
    "    | **Feature**         | **Function**               | **Lambda Function**         |\n",
    "    |----------------------|----------------------------|-----------------------------|\n",
    "    | **Syntax**           | Uses `def` keyword        | Uses `lambda` keyword       |\n",
    "    | **Name**             | Has a name                | Typically anonymous         |\n",
    "    | **Lines of Code**    | Can span multiple lines   | Single expression only      |\n",
    "    | **Readability**      | Easier for complex logic  | Best for simple tasks       |\n",
    "    \n",
    "\n",
    "6. python 2 vs python 3\n",
    "    ### **Python 2 vs Python 3**\n",
    "\n",
    "    | **Feature**               | **Python 2**                            | **Python 3**                           |\n",
    "    |---------------------------|------------------------------------------|-----------------------------------------|\n",
    "    | **Release Year**          | 2000                                    | 2008                                   |\n",
    "    | **End of Support**        | 2020                                    | Actively supported                     |\n",
    "    | **Print Statement**       | `print \"Hello\"`                         | `print(\"Hello\")`                       |\n",
    "    | **Division**              | `/` performs integer division           | `/` performs true division             |\n",
    "    | **Unicode**               | Strings are ASCII by default            | Strings are Unicode by default         |\n",
    "    | **Iterators**             | `range()` returns a list                | `range()` returns an iterator          |\n",
    "    | **Error Handling**        | `except Exception, e:`                  | `except Exception as e:`               |\n",
    "    | **Community Support**     | No longer supported                     | Recommended version for new projects   |\n",
    "\n",
    "### Summary:\n",
    "Python 3 is the future, with better performance, features, and Unicode support. Python 2 is outdated and no longer maintained."
   ]
  },
  {
   "cell_type": "code",
   "execution_count": null,
   "id": "f03658cf",
   "metadata": {},
   "outputs": [],
   "source": []
  },
  {
   "cell_type": "code",
   "execution_count": null,
   "id": "d13e04f6",
   "metadata": {},
   "outputs": [],
   "source": []
  },
  {
   "cell_type": "code",
   "execution_count": null,
   "id": "13c005a6",
   "metadata": {},
   "outputs": [],
   "source": []
  }
 ],
 "metadata": {
  "kernelspec": {
   "display_name": "Python 3 (ipykernel)",
   "language": "python",
   "name": "python3"
  },
  "language_info": {
   "codemirror_mode": {
    "name": "ipython",
    "version": 3
   },
   "file_extension": ".py",
   "mimetype": "text/x-python",
   "name": "python",
   "nbconvert_exporter": "python",
   "pygments_lexer": "ipython3",
   "version": "3.10.9"
  }
 },
 "nbformat": 4,
 "nbformat_minor": 5
}
