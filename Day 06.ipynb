{
 "cells": [
  {
   "cell_type": "code",
   "execution_count": 1,
   "id": "32356caf",
   "metadata": {},
   "outputs": [
    {
     "name": "stdout",
     "output_type": "stream",
     "text": [
      "hello, world\n",
      "\n",
      "hello ,world\n",
      "\n",
      "this is multiline\n",
      "string\n"
     ]
    }
   ],
   "source": [
    "a='hello, world\\n'\n",
    "b=\"hello ,world\\n\"\n",
    "#multiline string\n",
    "c='''this is multiline\n",
    "string'''\n",
    "print(a)\n",
    "print(b)\n",
    "print(c)\n"
   ]
  },
  {
   "cell_type": "markdown",
   "id": "cd12473c",
   "metadata": {},
   "source": [
    "## Step 2. accessing elements by index"
   ]
  },
  {
   "cell_type": "code",
   "execution_count": 2,
   "id": "cec4bfff",
   "metadata": {},
   "outputs": [
    {
     "name": "stdout",
     "output_type": "stream",
     "text": [
      "p\n",
      "t\n",
      "h\n",
      "o\n"
     ]
    }
   ],
   "source": [
    "my_string='python'\n",
    "print(my_string[0])\n",
    "print(my_string[2])\n",
    "print(my_string[3])\n",
    "print(my_string[4])"
   ]
  },
  {
   "cell_type": "markdown",
   "id": "ec01708b",
   "metadata": {},
   "source": [
    "## Step 3. string slicing"
   ]
  },
  {
   "cell_type": "code",
   "execution_count": 3,
   "id": "66e754e5",
   "metadata": {},
   "outputs": [
    {
     "name": "stdout",
     "output_type": "stream",
     "text": [
      "python\n",
      "programing\n",
      "python\n"
     ]
    }
   ],
   "source": [
    "my_string='python programing'\n",
    "print(my_string[0:6])\n",
    "print(my_string[7:])\n",
    "print(my_string[:6])\n",
    "\n"
   ]
  },
  {
   "cell_type": "markdown",
   "id": "337afdd6",
   "metadata": {},
   "source": [
    "## Step 4. string concatenation and REpetition"
   ]
  },
  {
   "cell_type": "code",
   "execution_count": 5,
   "id": "48aba6df",
   "metadata": {},
   "outputs": [
    {
     "name": "stdout",
     "output_type": "stream",
     "text": [
      "hello python\n",
      "hellohellohello\n"
     ]
    }
   ],
   "source": [
    "my_string='hello'\n",
    "my_string1='python'\n",
    "concanated= my_string +\" \" + my_string1\n",
    "repeted=my_string*3\n",
    "print(concanated)\n",
    "print(repeted)"
   ]
  },
  {
   "cell_type": "markdown",
   "id": "8d21c765",
   "metadata": {},
   "source": [
    "## Step 5. checking for substring"
   ]
  },
  {
   "cell_type": "code",
   "execution_count": 6,
   "id": "0f16bcfe",
   "metadata": {},
   "outputs": [
    {
     "name": "stdout",
     "output_type": "stream",
     "text": [
      "True\n",
      "False\n"
     ]
    }
   ],
   "source": [
    "my_string='python programing'\n",
    "print(\"python\" in my_string)\n",
    "print(\"java\" in my_string)"
   ]
  },
  {
   "cell_type": "markdown",
   "id": "0aa4289e",
   "metadata": {},
   "source": [
    "## step 6. string methods"
   ]
  },
  {
   "cell_type": "code",
   "execution_count": 7,
   "id": "10c93287",
   "metadata": {},
   "outputs": [
    {
     "name": "stdout",
     "output_type": "stream",
     "text": [
      "hello\n",
      "HELLO\n"
     ]
    }
   ],
   "source": [
    "# 1. lower() and upper()\n",
    "text='Hello'\n",
    "print(text.lower())\n",
    "print(text.upper())"
   ]
  },
  {
   "cell_type": "code",
   "execution_count": 10,
   "id": "efdb6993",
   "metadata": {},
   "outputs": [
    {
     "name": "stdout",
     "output_type": "stream",
     "text": [
      "hello , world!\n"
     ]
    }
   ],
   "source": [
    "#2. strip() remove whitespace from both end of a string\n",
    "text=' hello , world!'\n",
    "print(text.strip())"
   ]
  },
  {
   "cell_type": "code",
   "execution_count": 11,
   "id": "7bc5fc80",
   "metadata": {},
   "outputs": [
    {
     "name": "stdout",
     "output_type": "stream",
     "text": [
      "i love coding\n"
     ]
    }
   ],
   "source": [
    "# 3. replace()\n",
    "text='i love python'\n",
    "print(text.replace(\"python\",\"coding\"))"
   ]
  },
  {
   "cell_type": "code",
   "execution_count": 12,
   "id": "d6ee5b36",
   "metadata": {},
   "outputs": [
    {
     "name": "stdout",
     "output_type": "stream",
     "text": [
      "['apple, bannna, cherry']\n"
     ]
    }
   ],
   "source": [
    "# 4. split() splits a string with another string\n",
    "text='apple, bannna, cherry'\n",
    "print(text.split(\"  ,\"))"
   ]
  },
  {
   "cell_type": "code",
   "execution_count": 14,
   "id": "27ba9f44",
   "metadata": {},
   "outputs": [
    {
     "name": "stdout",
     "output_type": "stream",
     "text": [
      "apple ,bannana ,cherry\n",
      "['apple', 'bannana', 'cherry']\n"
     ]
    }
   ],
   "source": [
    "#5. join() \n",
    "text=['apple','bannana','cherry']\n",
    "print(' ,'.join(text))\n",
    "print(text)"
   ]
  },
  {
   "cell_type": "markdown",
   "id": "d808c768",
   "metadata": {},
   "source": [
    "## Step 7. string formating"
   ]
  },
  {
   "cell_type": "code",
   "execution_count": 16,
   "id": "65b4cf30",
   "metadata": {},
   "outputs": [
    {
     "name": "stdout",
     "output_type": "stream",
     "text": [
      "my name is sam, and i am 20 years old\n"
     ]
    }
   ],
   "source": [
    "name='sam'\n",
    "age=20\n",
    "print(f\"my name is {name}, and i am {age} years old\")"
   ]
  },
  {
   "cell_type": "code",
   "execution_count": 18,
   "id": "787f9644",
   "metadata": {},
   "outputs": [
    {
     "name": "stdout",
     "output_type": "stream",
     "text": [
      "my name is samer, and i am 23 years old\n"
     ]
    }
   ],
   "source": [
    "#2. uning foramte()\n",
    "name='samer'\n",
    "age=23\n",
    "print(\"my name is {}, and i am {} years old\".format(name,age))"
   ]
  },
  {
   "cell_type": "markdown",
   "id": "72e40857",
   "metadata": {},
   "source": [
    "## step 8. escaping special characters"
   ]
  },
  {
   "cell_type": "code",
   "execution_count": 19,
   "id": "fcf1801b",
   "metadata": {},
   "outputs": [
    {
     "name": "stdout",
     "output_type": "stream",
     "text": [
      "she said, \"hello\"\n",
      "she said, \"hello\"\n"
     ]
    }
   ],
   "source": [
    "quote='she said, \"hello\"'\n",
    "escaped_quote='she said, \\\"hello\\\"'\n",
    "print(quote)\n",
    "print(escaped_quote)"
   ]
  },
  {
   "cell_type": "markdown",
   "id": "b1849d7c",
   "metadata": {},
   "source": [
    "## step 9. multiline string with tripl quotes"
   ]
  },
  {
   "cell_type": "code",
   "execution_count": 20,
   "id": "d8c2242a",
   "metadata": {},
   "outputs": [
    {
     "name": "stdout",
     "output_type": "stream",
     "text": [
      "this is a string\n",
      "that sparks multiple\n",
      "line\n"
     ]
    }
   ],
   "source": [
    "multi_line=\"\"\"this is a string\n",
    "that sparks multiple\n",
    "line\"\"\"\n",
    "print(multi_line)"
   ]
  },
  {
   "cell_type": "markdown",
   "id": "bd06000c",
   "metadata": {},
   "source": [
    "## 10. lenth function "
   ]
  },
  {
   "cell_type": "code",
   "execution_count": 21,
   "id": "e80b6fc1",
   "metadata": {},
   "outputs": [
    {
     "name": "stdout",
     "output_type": "stream",
     "text": [
      "6\n"
     ]
    }
   ],
   "source": [
    "my_string='python'\n",
    "print(len(my_string))"
   ]
  },
  {
   "cell_type": "markdown",
   "id": "601d6a2c",
   "metadata": {},
   "source": [
    "## 11. slicing operator"
   ]
  },
  {
   "cell_type": "code",
   "execution_count": 23,
   "id": "4bc94a60",
   "metadata": {},
   "outputs": [
    {
     "name": "stdout",
     "output_type": "stream",
     "text": [
      "python\n",
      "programing\n",
      "\n"
     ]
    }
   ],
   "source": [
    "my_string='python programing'\n",
    "#slicing to get substring\n",
    "substring1=my_string[0:6]\n",
    "substring2=my_string[7:]\n",
    "substring3=my_string[:0]\n",
    "print(substring1)\n",
    "print(substring2)\n",
    "print(substring3)"
   ]
  },
  {
   "cell_type": "markdown",
   "id": "6ccc3c7e",
   "metadata": {},
   "source": [
    "### 1-10"
   ]
  },
  {
   "cell_type": "code",
   "execution_count": 24,
   "id": "c02ce1ba",
   "metadata": {},
   "outputs": [
    {
     "name": "stdout",
     "output_type": "stream",
     "text": [
      "olleh\n"
     ]
    }
   ],
   "source": [
    "s=\"hello\"\n",
    "print(s[::-1])"
   ]
  },
  {
   "cell_type": "code",
   "execution_count": 26,
   "id": "7a295d9a",
   "metadata": {},
   "outputs": [
    {
     "name": "stdout",
     "output_type": "stream",
     "text": [
      "gram\n"
     ]
    }
   ],
   "source": [
    "s='programing'\n",
    "print(s[3:7])"
   ]
  },
  {
   "cell_type": "code",
   "execution_count": 29,
   "id": "5f375474",
   "metadata": {},
   "outputs": [
    {
     "name": "stdout",
     "output_type": "stream",
     "text": [
      "3\n"
     ]
    }
   ],
   "source": [
    "s='bannana'\n",
    "count=0\n",
    "for i in s:\n",
    "    if(i=='a'):\n",
    "        count=count+1\n",
    "print(count)"
   ]
  },
  {
   "cell_type": "code",
   "execution_count": 30,
   "id": "f0295a1c",
   "metadata": {},
   "outputs": [
    {
     "name": "stdout",
     "output_type": "stream",
     "text": [
      "HELLO WORLD\n"
     ]
    }
   ],
   "source": [
    "s='hello world'\n",
    "print(s.upper())"
   ]
  },
  {
   "cell_type": "code",
   "execution_count": 35,
   "id": "bae4d010",
   "metadata": {},
   "outputs": [
    {
     "name": "stdout",
     "output_type": "stream",
     "text": [
      "yes\n"
     ]
    },
    {
     "data": {
      "text/plain": [
       "True"
      ]
     },
     "execution_count": 35,
     "metadata": {},
     "output_type": "execute_result"
    }
   ],
   "source": [
    "s='hello world'\n",
    "if(s[0:5]=='hello'):\n",
    "    print(\"yes\")\n",
    "else:\n",
    "    print(\"not\")\n",
    "#2. method\n",
    "s.startswith('hello')"
   ]
  },
  {
   "cell_type": "code",
   "execution_count": 2,
   "id": "8269c322",
   "metadata": {},
   "outputs": [
    {
     "name": "stdout",
     "output_type": "stream",
     "text": [
      "first o is at 4 index\n"
     ]
    }
   ],
   "source": [
    "s = \"hello world\"\n",
    "c=0\n",
    "for i in s:\n",
    "    if(i=='o'):\n",
    "        print(f\"first o is at {c} index\")\n",
    "        break\n",
    "    else:\n",
    "        c=c+1"
   ]
  },
  {
   "cell_type": "code",
   "execution_count": 4,
   "id": "62e71d57",
   "metadata": {},
   "outputs": [
    {
     "name": "stdout",
     "output_type": "stream",
     "text": [
      "['apple', 'banana', 'cherry']\n"
     ]
    }
   ],
   "source": [
    "s = \"apple, banana, cherry\"\n",
    "print(s.split(\", \"))"
   ]
  },
  {
   "cell_type": "code",
   "execution_count": 5,
   "id": "784655cd",
   "metadata": {},
   "outputs": [
    {
     "name": "stdout",
     "output_type": "stream",
     "text": [
      "True\n"
     ]
    }
   ],
   "source": [
    "s = \"abc123\"\n",
    "print(s.isalnum())"
   ]
  },
  {
   "cell_type": "code",
   "execution_count": 6,
   "id": "fd96a0b9",
   "metadata": {},
   "outputs": [
    {
     "name": "stdout",
     "output_type": "stream",
     "text": [
      "hello\n"
     ]
    }
   ],
   "source": [
    "s = \" hello \"\n",
    "print(s.strip())"
   ]
  },
  {
   "cell_type": "code",
   "execution_count": 10,
   "id": "55453812",
   "metadata": {},
   "outputs": [
    {
     "name": "stdout",
     "output_type": "stream",
     "text": [
      "Python, is, fun\n"
     ]
    }
   ],
   "source": [
    "a=[\"Python\", \"is\", \"fun\"]\n",
    "print(', '.join(a))\n"
   ]
  },
  {
   "cell_type": "markdown",
   "id": "70aea1b1",
   "metadata": {},
   "source": [
    "### 11-20"
   ]
  },
  {
   "cell_type": "code",
   "execution_count": 7,
   "id": "f1e605c6",
   "metadata": {},
   "outputs": [
    {
     "data": {
      "text/plain": [
       "7"
      ]
     },
     "execution_count": 7,
     "metadata": {},
     "output_type": "execute_result"
    }
   ],
   "source": [
    "s = \"Python is awesome and fun\"\n",
    "a=s.split()\n",
    "m=max(a,key=len)\n",
    "ma=len(m)\n",
    "ma\n"
   ]
  },
  {
   "cell_type": "code",
   "execution_count": 29,
   "id": "a292bc3b",
   "metadata": {},
   "outputs": [
    {
     "name": "stdout",
     "output_type": "stream",
     "text": [
      "[6, 2, 7, 3, 3]\n"
     ]
    }
   ],
   "source": [
    "s = \"Python is awweeme and fun\"\n",
    "a=s.split()\n",
    "li=[]\n",
    "for i in a:\n",
    "    c=len(i)\n",
    "    li.append(c)\n",
    "\n",
    "\n",
    "    \n",
    "print(li)\n",
    "#print(max(li))"
   ]
  },
  {
   "cell_type": "code",
   "execution_count": 35,
   "id": "9379e1b1",
   "metadata": {},
   "outputs": [
    {
     "data": {
      "text/plain": [
       "'orange pie and orange juice'"
      ]
     },
     "execution_count": 35,
     "metadata": {},
     "output_type": "execute_result"
    }
   ],
   "source": [
    "#12. \n",
    "s = \"apple pie and apple juice\"\n",
    "s.replace('apple','orange')"
   ]
  },
  {
   "cell_type": "code",
   "execution_count": 36,
   "id": "e34b7c0e",
   "metadata": {},
   "outputs": [
    {
     "name": "stdout",
     "output_type": "stream",
     "text": [
      "same\n"
     ]
    }
   ],
   "source": [
    "#13.\n",
    "s1='hello'\n",
    "s2='hello'\n",
    "if(s1.lower()==s2.lower()):\n",
    "    print(\"same\")\n",
    "else:\n",
    "    print(\"not\")"
   ]
  },
  {
   "cell_type": "code",
   "execution_count": 40,
   "id": "cee84596",
   "metadata": {},
   "outputs": [
    {
     "data": {
      "text/plain": [
       "'bdfh'"
      ]
     },
     "execution_count": 40,
     "metadata": {},
     "output_type": "execute_result"
    }
   ],
   "source": [
    "#14.\n",
    "s = \"abcdefgh\"\n",
    "s[1::2]"
   ]
  },
  {
   "cell_type": "code",
   "execution_count": 44,
   "id": "a758c51b",
   "metadata": {},
   "outputs": [
    {
     "name": "stdout",
     "output_type": "stream",
     "text": [
      "only digit\n"
     ]
    }
   ],
   "source": [
    "#15.\n",
    "s = \"12345\"\n",
    "if(s.isnumeric()):\n",
    "    print(\"only digit\")\n",
    "else:\n",
    "    print(\"not only digit\")"
   ]
  },
  {
   "cell_type": "code",
   "execution_count": 53,
   "id": "93fa9e67",
   "metadata": {},
   "outputs": [
    {
     "name": "stdout",
     "output_type": "stream",
     "text": [
      "Python Is Fun\n"
     ]
    }
   ],
   "source": [
    "#16.\n",
    "s = \"python is fun\"\n",
    "a=s.split()\n",
    "li=[]\n",
    "for i in a :\n",
    "    li.append(i.capitalize())\n",
    "print(\" \".join(li))"
   ]
  },
  {
   "cell_type": "code",
   "execution_count": 69,
   "id": "5e0e1f82",
   "metadata": {},
   "outputs": [
    {
     "name": "stdout",
     "output_type": "stream",
     "text": [
      "Hello World\n",
      "hll wrld\n"
     ]
    }
   ],
   "source": [
    "#17. \n",
    "s = \"hello world\"\n",
    "li=list(s)\n",
    "for i in s:\n",
    "    if(i=='e' or i=='a' or i=='i' or i=='o' or i=='u'):\n",
    "        li.remove(i)\n",
    "        \n",
    "        \n",
    "print(\"\".join(li))"
   ]
  },
  {
   "cell_type": "code",
   "execution_count": 70,
   "id": "2f5934ca",
   "metadata": {},
   "outputs": [
    {
     "data": {
      "text/plain": [
       "True"
      ]
     },
     "execution_count": 70,
     "metadata": {},
     "output_type": "execute_result"
    }
   ],
   "source": [
    "#18.\n",
    "s = \"Python is fun\"\n",
    "'fun' in s"
   ]
  },
  {
   "cell_type": "code",
   "execution_count": 87,
   "id": "bbc119ae",
   "metadata": {},
   "outputs": [
    {
     "name": "stdout",
     "output_type": "stream",
     "text": [
      "ehlo\n"
     ]
    }
   ],
   "source": [
    "#19.\n",
    "s = \"hello\"\n",
    "a=set(s)\n",
    "print(\"\".join(a))"
   ]
  },
  {
   "cell_type": "code",
   "execution_count": 89,
   "id": "af3ec5bd",
   "metadata": {},
   "outputs": [
    {
     "name": "stdout",
     "output_type": "stream",
     "text": [
      "5\n"
     ]
    }
   ],
   "source": [
    "#20.\n",
    "s = \"Python is a powerful language\"\n",
    "word=1\n",
    "for i in s:\n",
    "    if(i==\" \"):\n",
    "        word=word+1\n",
    "print(word)"
   ]
  },
  {
   "cell_type": "code",
   "execution_count": null,
   "id": "1617f618",
   "metadata": {},
   "outputs": [],
   "source": []
  }
 ],
 "metadata": {
  "kernelspec": {
   "display_name": "Python 3 (ipykernel)",
   "language": "python",
   "name": "python3"
  },
  "language_info": {
   "codemirror_mode": {
    "name": "ipython",
    "version": 3
   },
   "file_extension": ".py",
   "mimetype": "text/x-python",
   "name": "python",
   "nbconvert_exporter": "python",
   "pygments_lexer": "ipython3",
   "version": "3.10.9"
  }
 },
 "nbformat": 4,
 "nbformat_minor": 5
}
