{
 "cells": [
  {
   "cell_type": "markdown",
   "id": "026db442",
   "metadata": {},
   "source": [
    "## 1. understanding Nested loops"
   ]
  },
  {
   "cell_type": "markdown",
   "id": "37a63788",
   "metadata": {},
   "source": [
    "a nested loop means a loop inside another loop . in python, you can use nested loops"
   ]
  },
  {
   "cell_type": "code",
   "execution_count": null,
   "id": "582be2cd",
   "metadata": {},
   "outputs": [],
   "source": [
    "b"
   ]
  },
  {
   "cell_type": "code",
   "execution_count": null,
   "id": "615eca5f",
   "metadata": {},
   "outputs": [],
   "source": []
  },
  {
   "cell_type": "markdown",
   "id": "9b4dd470",
   "metadata": {},
   "source": [
    "### first "
   ]
  },
  {
   "cell_type": "code",
   "execution_count": 2,
   "id": "547753e1",
   "metadata": {},
   "outputs": [
    {
     "name": "stdout",
     "output_type": "stream",
     "text": [
      "*\n",
      "**\n",
      "***\n",
      "****\n",
      "*****\n"
     ]
    }
   ],
   "source": [
    "n=5\n",
    "for i in range(1,n+1):\n",
    "    print('*'*i)"
   ]
  },
  {
   "cell_type": "markdown",
   "id": "11f6a7b8",
   "metadata": {},
   "source": [
    "### 3. Hollow right angle tringle"
   ]
  },
  {
   "cell_type": "code",
   "execution_count": 4,
   "id": "c8910a42",
   "metadata": {},
   "outputs": [
    {
     "name": "stdout",
     "output_type": "stream",
     "text": [
      "*\n",
      "**\n",
      "* *\n",
      "*  *\n",
      "*****\n"
     ]
    }
   ],
   "source": [
    "n=5\n",
    "for i in range(1,n+1):\n",
    "    if(i==1 or i==n):\n",
    "        print('*'*i)    #first or last row\n",
    "    else:\n",
    "        print('*'+ ' '*(i-2) + '*')   ## middle row with spaces"
   ]
  },
  {
   "cell_type": "code",
   "execution_count": null,
   "id": "f1cc394a",
   "metadata": {},
   "outputs": [],
   "source": []
  }
 ],
 "metadata": {
  "kernelspec": {
   "display_name": "Python 3 (ipykernel)",
   "language": "python",
   "name": "python3"
  },
  "language_info": {
   "codemirror_mode": {
    "name": "ipython",
    "version": 3
   },
   "file_extension": ".py",
   "mimetype": "text/x-python",
   "name": "python",
   "nbconvert_exporter": "python",
   "pygments_lexer": "ipython3",
   "version": "3.10.9"
  }
 },
 "nbformat": 4,
 "nbformat_minor": 5
}
