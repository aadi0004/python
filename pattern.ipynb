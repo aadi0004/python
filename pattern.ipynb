{
 "cells": [
  {
   "cell_type": "code",
   "execution_count": 1,
   "id": "edf9db19-a31d-4d44-8657-058a29ec7841",
   "metadata": {},
   "outputs": [
    {
     "name": "stdout",
     "output_type": "stream",
     "text": [
      "2\n",
      "3\n",
      "4\n"
     ]
    }
   ],
   "source": [
    "num =5 \n",
    "for i in range(2,5):\n",
    "    print(i)"
   ]
  },
  {
   "cell_type": "code",
   "execution_count": 3,
   "id": "3ff92d8a-04f7-4819-ad41-7a8fb41e0e76",
   "metadata": {},
   "outputs": [
    {
     "name": "stdout",
     "output_type": "stream",
     "text": [
      "1\n",
      "2\n",
      "3\n",
      "4\n",
      "5\n",
      "6\n",
      "7\n",
      "8\n",
      "9\n",
      "10\n",
      "2\n",
      "4\n",
      "6\n",
      "8\n",
      "10\n",
      "12\n",
      "14\n",
      "16\n",
      "18\n",
      "20\n"
     ]
    }
   ],
   "source": [
    "num =5 \n",
    "for i in range(1,3):\n",
    "    # print(i)\n",
    "    for j in range(1,11):\n",
    "        print(i*j)"
   ]
  },
  {
   "cell_type": "code",
   "execution_count": 4,
   "id": "2bb15639-a975-4445-9ccd-bf3a7c49cbf8",
   "metadata": {},
   "outputs": [
    {
     "name": "stdout",
     "output_type": "stream",
     "text": [
      "1 2 10\n",
      "1 3 11\n",
      "2 2 12\n",
      "2 3 13\n"
     ]
    }
   ],
   "source": [
    "x=10\n",
    "for i in range(1,3):\n",
    "    for j in range(2,4):\n",
    "        print(i,j,x)\n",
    "        x+=1"
   ]
  },
  {
   "cell_type": "code",
   "execution_count": 5,
   "id": "0e985e5e-dd2b-42c7-a96a-a349fada5bac",
   "metadata": {},
   "outputs": [
    {
     "name": "stdout",
     "output_type": "stream",
     "text": [
      "1 2 10\n",
      "1 3 11\n",
      "2 2 10\n",
      "2 3 11\n"
     ]
    }
   ],
   "source": [
    "for i in range(1,3):\n",
    "    x=10\n",
    "\n",
    "    for j in range(2,4):\n",
    "        print(i,j,x)\n",
    "        x+=1"
   ]
  },
  {
   "cell_type": "code",
   "execution_count": 8,
   "id": "ce82019e-e28b-42fe-88f0-0483ba1f6754",
   "metadata": {},
   "outputs": [
    {
     "name": "stdout",
     "output_type": "stream",
     "text": [
      "* * * * \n",
      "* * * * \n",
      "* * * * \n",
      "* * * * \n"
     ]
    }
   ],
   "source": [
    "for i in range(1,5):\n",
    "    for j in range(1,5):\n",
    "        print(\"*\",end=\" \")\n",
    "    print(\"\")"
   ]
  },
  {
   "cell_type": "code",
   "execution_count": 9,
   "id": "2e79517e-5b0c-4601-900f-49cc76fedf86",
   "metadata": {},
   "outputs": [
    {
     "name": "stdout",
     "output_type": "stream",
     "text": [
      "* * * * * \n",
      "* * * * * \n",
      "* * * * * \n",
      "* * * * * \n",
      "* * * * * \n"
     ]
    }
   ],
   "source": [
    "num=5\n",
    "for i in range(1,num+1):\n",
    "    for j in range(1,num+1):\n",
    "        print(\"*\",end=\" \")\n",
    "    print(\"\")"
   ]
  },
  {
   "cell_type": "code",
   "execution_count": 11,
   "id": "9bea0549-3077-4c26-8208-c1afcc21870b",
   "metadata": {},
   "outputs": [
    {
     "name": "stdout",
     "output_type": "stream",
     "text": [
      "1 2 3 4 \n",
      "1 2 3 4 \n",
      "1 2 3 4 \n",
      "1 2 3 4 \n"
     ]
    }
   ],
   "source": [
    "num=4\n",
    "for i in range(1,num+1):\n",
    "    for j in range(1,num+1):\n",
    "        print(j,end=\" \")\n",
    "    print(\"\")"
   ]
  },
  {
   "cell_type": "code",
   "execution_count": 13,
   "id": "c2154cbc-9bff-4277-b827-1c6e305542db",
   "metadata": {},
   "outputs": [
    {
     "name": "stdout",
     "output_type": "stream",
     "text": [
      "1 2 3 \n",
      "1 2 3 \n",
      "1 2 3 \n",
      "1 2 3 \n"
     ]
    }
   ],
   "source": [
    "num=4\n",
    "for i in range(1,num+1):\n",
    "    for j in range(1,num):\n",
    "        print(j,end=\" \")\n",
    "    print(\"\")"
   ]
  },
  {
   "cell_type": "code",
   "execution_count": 23,
   "id": "11337674-072e-46a2-be8b-6505fb8d7767",
   "metadata": {},
   "outputs": [
    {
     "name": "stdout",
     "output_type": "stream",
     "text": [
      "2 3 4 5 \n",
      "2 3 4 5 \n"
     ]
    }
   ],
   "source": [
    "num=2\n",
    "for i in range(1,num+1):\n",
    "    for j in range(2,num+4):\n",
    "        print(j,end=\" \")\n",
    "    print(\"\")"
   ]
  },
  {
   "cell_type": "code",
   "execution_count": 19,
   "id": "3407b941-b796-4cb7-b4cf-d4910d7fc3c3",
   "metadata": {},
   "outputs": [
    {
     "name": "stdout",
     "output_type": "stream",
     "text": [
      "1 2 3 4 \n",
      "5 6 7 8 \n",
      "9 10 11 12 \n"
     ]
    }
   ],
   "source": [
    "a=1\n",
    "num=4\n",
    "for i in range(1,num):\n",
    "    for j in range(1,num+1):\n",
    "        print(a,end=\" \")\n",
    "        a+=1\n",
    "    print()"
   ]
  },
  {
   "cell_type": "code",
   "execution_count": 22,
   "id": "f7261362-b013-436f-83ca-e7de5b44acda",
   "metadata": {},
   "outputs": [
    {
     "name": "stdout",
     "output_type": "stream",
     "text": [
      "4 3 2 1 \n",
      "4 3 2 1 \n",
      "4 3 2 1 \n",
      "4 3 2 1 \n"
     ]
    }
   ],
   "source": [
    "num=4\n",
    "for i in range(1,num+1):\n",
    "    for j in range(num,0,-1):\n",
    "        print(j,end=\" \")\n",
    "    print(\"\")"
   ]
  },
  {
   "cell_type": "code",
   "execution_count": 24,
   "id": "b35abe51-c553-41df-ad81-c20690a6bf75",
   "metadata": {},
   "outputs": [
    {
     "name": "stdout",
     "output_type": "stream",
     "text": [
      "4 3 2 1 \n",
      "4 3 2 1 \n",
      "4 3 2 1 \n",
      "4 3 2 1 \n"
     ]
    }
   ],
   "source": [
    "num=4\n",
    "for i in range(1,num+1):\n",
    "    x=4\n",
    "    for j in range(1,5):\n",
    "        print(x,end=\" \")\n",
    "        x-=1\n",
    "    print(\"\")"
   ]
  },
  {
   "cell_type": "code",
   "execution_count": 31,
   "id": "c4bc4b2f-89fa-4275-bf89-137f81c14635",
   "metadata": {},
   "outputs": [
    {
     "name": "stdout",
     "output_type": "stream",
     "text": [
      "* \n",
      "* * \n",
      "* * * \n",
      "* * * * \n"
     ]
    }
   ],
   "source": [
    "num=4\n",
    "for i in range(1,num+1):\n",
    "    for j in range(i):\n",
    "        print(\"*\",end=\" \")\n",
    "    print(\"\")"
   ]
  },
  {
   "cell_type": "code",
   "execution_count": 43,
   "id": "83043bad-ff2c-437e-9bba-e66e9969c62c",
   "metadata": {},
   "outputs": [
    {
     "name": "stdout",
     "output_type": "stream",
     "text": [
      "* * * * \n",
      "* * * \n",
      "* * \n",
      "* \n"
     ]
    }
   ],
   "source": [
    "num=4\n",
    "for i in range(1,num+1):\n",
    "    for j in range(i,num+1):\n",
    "        print(\"*\",end=\" \")\n",
    "    print(\"\")"
   ]
  },
  {
   "cell_type": "code",
   "execution_count": 72,
   "id": "c5024cb4-0d2f-42ad-bcc0-6add344fd4be",
   "metadata": {},
   "outputs": [
    {
     "name": "stdout",
     "output_type": "stream",
     "text": [
      "1 \n",
      "1 2 \n",
      "1 2 3 \n"
     ]
    }
   ],
   "source": [
    "num=3\n",
    "for i in range(1,num+1):\n",
    "    num=1\n",
    "    for j in range(i):\n",
    "        print(num,end=\" \")\n",
    "        num+=1\n",
    "    print(\"\")"
   ]
  },
  {
   "cell_type": "code",
   "execution_count": 73,
   "id": "1f0d37f4-9d2f-410b-8fe7-c8de54e50631",
   "metadata": {},
   "outputs": [
    {
     "name": "stdout",
     "output_type": "stream",
     "text": [
      "4 \n",
      "4 3 \n",
      "4 3 2 \n"
     ]
    }
   ],
   "source": [
    "num=3\n",
    "for i in range(1,num+1):\n",
    "    num=4\n",
    "    for j in range(i):\n",
    "        print(num,end=\" \")\n",
    "        num-=1\n",
    "    print(\"\")"
   ]
  },
  {
   "cell_type": "code",
   "execution_count": 63,
   "id": "41582a8d-7793-40e8-9323-cc4eef55e4ae",
   "metadata": {},
   "outputs": [
    {
     "name": "stdout",
     "output_type": "stream",
     "text": [
      "1 \n",
      "2 3 \n",
      "4 5 6 \n"
     ]
    }
   ],
   "source": [
    "num=3\n",
    "k=1\n",
    "for i in range(1,num+1):\n",
    "    for j in range(i):\n",
    "        print(k,end=\" \")\n",
    "        k+=1\n",
    "    print(\"\")"
   ]
  },
  {
   "cell_type": "code",
   "execution_count": 64,
   "id": "0ff6edfe-41ca-40eb-8c5a-175175fd5eb5",
   "metadata": {},
   "outputs": [
    {
     "name": "stdout",
     "output_type": "stream",
     "text": [
      "6 \n",
      "5 4 \n",
      "3 2 1 \n"
     ]
    }
   ],
   "source": [
    "num=3\n",
    "k=6\n",
    "for i in range(1,num+1):\n",
    "    for j in range(i):\n",
    "        print(k,end=\" \")\n",
    "        k-=1\n",
    "    print(\"\")"
   ]
  },
  {
   "cell_type": "code",
   "execution_count": 70,
   "id": "a1330972-70e7-4065-a5cc-6603b62ccecc",
   "metadata": {},
   "outputs": [
    {
     "name": "stdout",
     "output_type": "stream",
     "text": [
      "A \n",
      "A B \n",
      "A B C \n"
     ]
    }
   ],
   "source": [
    "num=3\n",
    "for i in range(1,num+1):\n",
    "    k=65\n",
    "\n",
    "    for j in range(i):\n",
    "        print(chr(k),end=\" \")\n",
    "        k+=1\n",
    "    print(\"\")"
   ]
  },
  {
   "cell_type": "code",
   "execution_count": 69,
   "id": "f3af232e-ed4f-4e08-94f0-cd4cc1907dbf",
   "metadata": {},
   "outputs": [
    {
     "name": "stdout",
     "output_type": "stream",
     "text": [
      "A \n",
      "B C \n",
      "D E F \n"
     ]
    }
   ],
   "source": [
    "num=3\n",
    "k=65\n",
    "for i in range(1,num+1):\n",
    "    for j in range(i):\n",
    "        print(chr(k),end=\" \")\n",
    "        k+=1\n",
    "    print(\"\")"
   ]
  },
  {
   "cell_type": "code",
   "execution_count": 83,
   "id": "5c9329df-a528-4046-8550-9226a0d8dc97",
   "metadata": {},
   "outputs": [
    {
     "name": "stdout",
     "output_type": "stream",
     "text": [
      "- - - \n",
      "- - \n",
      "- \n"
     ]
    }
   ],
   "source": [
    "num=3\n",
    "for i in range(1,num+1):\n",
    "    for j in range(i,num+1):\n",
    "        print(\"-\",end=\" \")\n",
    "    print(\"\")"
   ]
  },
  {
   "cell_type": "code",
   "execution_count": 82,
   "id": "31b58085-937c-4707-89cc-0674085d2c74",
   "metadata": {},
   "outputs": [
    {
     "name": "stdout",
     "output_type": "stream",
     "text": [
      "*  \n",
      "* *  \n",
      "* * *  \n",
      "* * * *  \n"
     ]
    }
   ],
   "source": [
    "num=4\n",
    "for i in range(1,num+1):\n",
    "    for j in range(1,i+1):\n",
    "        print(\"*\",end=\" \")\n",
    "    print(\" \")"
   ]
  },
  {
   "cell_type": "code",
   "execution_count": 89,
   "id": "7137574d-afd5-453a-90dd-78fdc8218ae3",
   "metadata": {},
   "outputs": [
    {
     "name": "stdout",
     "output_type": "stream",
     "text": [
      "      *  \n",
      "    * *  \n",
      "  * * *  \n",
      "* * * *  \n"
     ]
    }
   ],
   "source": [
    "num=4\n",
    "for i in range(1,num+1):\n",
    "    for j in range(i,num):\n",
    "        print(\" \",end=\" \")\n",
    "\n",
    "    for k in range(1,i+1):\n",
    "        print(\"*\",end=\" \")\n",
    "    print(\" \")"
   ]
  },
  {
   "cell_type": "code",
   "execution_count": 104,
   "id": "faeb6884-d05d-42f9-9806-bbae975dc7b9",
   "metadata": {},
   "outputs": [
    {
     "name": "stdout",
     "output_type": "stream",
     "text": [
      "* * * * *  \n",
      "  *     *  \n",
      "    *   *  \n",
      "      * *  \n",
      "        *  \n",
      "           \n"
     ]
    }
   ],
   "source": [
    "num=6\n",
    "for i in range(1,num+1):\n",
    "    for j in range(1,i):\n",
    "        print(\" \",end=\" \")\n",
    "\n",
    "    for k in range(i,num):\n",
    "        if(i==1 or i==k or k==num-1):\n",
    "            print(\"*\",end=\" \")\n",
    "        else:\n",
    "            print(\" \",end=\" \")\n",
    "    print(\" \")"
   ]
  },
  {
   "cell_type": "code",
   "execution_count": null,
   "id": "577d460c-02f4-4b66-8e54-2c4f816f1a0b",
   "metadata": {},
   "outputs": [],
   "source": []
  },
  {
   "cell_type": "code",
   "execution_count": null,
   "id": "092aee43-cedb-4669-9dd8-073f58eda161",
   "metadata": {},
   "outputs": [],
   "source": []
  }
 ],
 "metadata": {
  "kernelspec": {
   "display_name": "Python 3 (ipykernel)",
   "language": "python",
   "name": "python3"
  },
  "language_info": {
   "codemirror_mode": {
    "name": "ipython",
    "version": 3
   },
   "file_extension": ".py",
   "mimetype": "text/x-python",
   "name": "python",
   "nbconvert_exporter": "python",
   "pygments_lexer": "ipython3",
   "version": "3.12.7"
  }
 },
 "nbformat": 4,
 "nbformat_minor": 5
}
