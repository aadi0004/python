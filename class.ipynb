{
 "cells": [
  {
   "cell_type": "code",
   "execution_count": 1,
   "id": "b26fff76-2690-4f46-a30d-fc053f03606d",
   "metadata": {},
   "outputs": [],
   "source": [
    "# inheritence\n",
    "# code reusable => code => dusri class"
   ]
  },
  {
   "cell_type": "code",
   "execution_count": 12,
   "id": "4953d0ff-0d3c-4966-a998-836e9834f974",
   "metadata": {},
   "outputs": [],
   "source": [
    "class a:\n",
    "    name='isha' # class variable\n",
    "    def info(self):\n",
    "        print(\"this is a class function\")"
   ]
  },
  {
   "cell_type": "code",
   "execution_count": 13,
   "id": "6be1519c-39ff-402d-bb76-8ad5a637ab1b",
   "metadata": {},
   "outputs": [],
   "source": [
    "class b(a):\n",
    "    def details(self):\n",
    "        print(\"this is a details function\",a.name)"
   ]
  },
  {
   "cell_type": "code",
   "execution_count": 14,
   "id": "294d9a69-1e2f-4458-b8b7-6c3dcd9a8945",
   "metadata": {},
   "outputs": [
    {
     "name": "stdout",
     "output_type": "stream",
     "text": [
      "this is a details function isha\n"
     ]
    }
   ],
   "source": [
    "b1=b()\n",
    "b1.details()"
   ]
  },
  {
   "cell_type": "code",
   "execution_count": 18,
   "id": "5c7fca78-112c-4e0a-bb1a-5fb86655eca1",
   "metadata": {},
   "outputs": [],
   "source": [
    "class Admission:\n",
    "    college='regex'\n",
    "    def __init__(self,name,age,email):\n",
    "        self.name=name\n",
    "        self.age=age\n",
    "        self.email=email"
   ]
  },
  {
   "cell_type": "code",
   "execution_count": 19,
   "id": "4382101d-4298-4977-b2b6-40359d0da83d",
   "metadata": {},
   "outputs": [],
   "source": [
    "class student(Admission):\n",
    "    def __init__(self,name,age,email,phno):\n",
    "        super().__init__(name,age,email)\n",
    "        self.phno=phno"
   ]
  },
  {
   "cell_type": "code",
   "execution_count": 21,
   "id": "1361cf8a-49c4-4176-83e9-1ca439334eb0",
   "metadata": {},
   "outputs": [
    {
     "data": {
      "text/plain": [
       "'regex'"
      ]
     },
     "execution_count": 21,
     "metadata": {},
     "output_type": "execute_result"
    }
   ],
   "source": [
    "s1=student('naina',23,'naina@gmail.com',34355)\n",
    "s1.phno\n",
    "s1.college"
   ]
  },
  {
   "cell_type": "markdown",
   "id": "74710c37-6b51-4026-8b4a-69edb1d84171",
   "metadata": {},
   "source": [
    "# inheritence\n",
    "# mutiple , multilevel\n",
    "# hiearichal inheritence\n",
    "\n",
    "why method overloading does not support in python"
   ]
  },
  {
   "cell_type": "code",
   "execution_count": 22,
   "id": "a60d755b-b055-42c0-97b1-f604ca97e11a",
   "metadata": {},
   "outputs": [],
   "source": [
    "# polymorphism\n",
    "# multiple forms\n",
    "# object , method, operator"
   ]
  },
  {
   "cell_type": "code",
   "execution_count": 23,
   "id": "229c5a25-f944-4b5e-bd9a-00d0459e5306",
   "metadata": {},
   "outputs": [],
   "source": [
    "class parent:\n",
    "    def info(self):\n",
    "        print(\"this is parent class function\")"
   ]
  },
  {
   "cell_type": "code",
   "execution_count": 24,
   "id": "0b3afc28-846b-44a2-8e4e-15d3458fc9ba",
   "metadata": {},
   "outputs": [],
   "source": [
    "class child(parent):\n",
    "    def details(self):\n",
    "        print(\"this is parent class function\")"
   ]
  },
  {
   "cell_type": "code",
   "execution_count": 25,
   "id": "f7686a0b-ba19-448d-b45e-4abb5a0c1f6f",
   "metadata": {},
   "outputs": [],
   "source": [
    "# to achieve polymorphism we have multiple methods\n",
    "# 1. method overloading # does not support in python # by changing parameter while calling function\n",
    "# 2. method overriding ## same function and paramter in parent and child class but logic is different\n",
    " "
   ]
  },
  {
   "cell_type": "code",
   "execution_count": 27,
   "id": "67a14888-fbee-411a-aabd-8d77651753a7",
   "metadata": {},
   "outputs": [
    {
     "name": "stdout",
     "output_type": "stream",
     "text": [
      "this is parent class function\n"
     ]
    }
   ],
   "source": [
    "# 2. overriding\n",
    "class parent:\n",
    "    def info(self):\n",
    "        print(\"this is parent class function\")\n",
    "\n",
    "class child(parent):\n",
    "    def info(self):\n",
    "        print(\"this is parent class function\")\n",
    "\n",
    "c1=child()\n",
    "c1.info()"
   ]
  },
  {
   "cell_type": "code",
   "execution_count": 28,
   "id": "83fcf30f-644f-4619-8326-8379ca814ab8",
   "metadata": {},
   "outputs": [],
   "source": [
    "# operator overloading"
   ]
  },
  {
   "cell_type": "code",
   "execution_count": 36,
   "id": "077674b9-ab37-427d-ba13-a30089bf2e9e",
   "metadata": {},
   "outputs": [],
   "source": [
    "class user:\n",
    "    def __init__(self,num):\n",
    "        self.num=num\n",
    "\n",
    "    def __add__(self,x):\n",
    "        return 'asd'"
   ]
  },
  {
   "cell_type": "code",
   "execution_count": 38,
   "id": "9c09c509-9b4c-42ba-96a6-4b0aa73cbf60",
   "metadata": {},
   "outputs": [
    {
     "data": {
      "text/plain": [
       "'asd'"
      ]
     },
     "execution_count": 38,
     "metadata": {},
     "output_type": "execute_result"
    }
   ],
   "source": [
    "u1=user(1)\n",
    "u2=user(12)\n",
    "u2.num  ## u1 and u2 is object not int\n"
   ]
  },
  {
   "cell_type": "code",
   "execution_count": 35,
   "id": "07c7effe-b71e-4eae-a98b-09258a3562ab",
   "metadata": {},
   "outputs": [],
   "source": [
    "# 1+2 => __add__ (dunder function) if we add 2 underscore before and after\n",
    "# u1+u2 ==> u1.__add__(u2)  # without defining function again it can not run"
   ]
  },
  {
   "cell_type": "code",
   "execution_count": 41,
   "id": "2feefc14-b350-46db-95a3-4dccf9d69e83",
   "metadata": {},
   "outputs": [
    {
     "name": "stdout",
     "output_type": "stream",
     "text": [
      "Child's method\n",
      "Parent's method\n",
      "Grandparent's method\n"
     ]
    }
   ],
   "source": [
    "# multilevel inheritence\n",
    "class Grandparent:\n",
    "    def grandparent_method(self):\n",
    "        print(\"Grandparent's method\")\n",
    "\n",
    "class Parent(Grandparent):\n",
    "    def parent_method(self):\n",
    "        print(\"Parent's method\")\n",
    "\n",
    "class Child(Parent):\n",
    "    def child_method(self):\n",
    "        print(\"Child's method\")\n",
    "\n",
    "obj=Child()\n",
    "obj.child_method()\n",
    "obj.parent_method()\n",
    "obj.grandparent_method()"
   ]
  },
  {
   "cell_type": "code",
   "execution_count": 42,
   "id": "8380e8f0-31ce-4c70-af90-61d7f9da4c47",
   "metadata": {},
   "outputs": [
    {
     "name": "stdout",
     "output_type": "stream",
     "text": [
      "Father's method\n",
      "Mother's method\n"
     ]
    }
   ],
   "source": [
    "class Father:\n",
    "    def father_method(self):\n",
    "        print(\"Father's method\")\n",
    "\n",
    "class Mother:\n",
    "    def mother_method(self):\n",
    "        print(\"Mother's method\")\n",
    "\n",
    "class Child(Father, Mother):  # Inherits from both Father and Mother\n",
    "    pass\n",
    "\n",
    "child = Child()\n",
    "child.father_method()  # Output: Father's method\n",
    "child.mother_method()  # Output: Mother's method"
   ]
  },
  {
   "cell_type": "code",
   "execution_count": 44,
   "id": "2d8e189f-2ddd-4293-ad81-1b0effd8903b",
   "metadata": {},
   "outputs": [],
   "source": [
    "# constructor chaning ## calling constructor one by one\n",
    "# emp class constructor in first class and only one parameter x\n",
    "# manager class , costructor only one parameter y , super func se x nikalo\n",
    "# boss class , constructor , one parameter , call super class\n",
    "\n"
   ]
  },
  {
   "cell_type": "code",
   "execution_count": null,
   "id": "fce6b089-c911-4860-8bb4-61bef2aad594",
   "metadata": {},
   "outputs": [],
   "source": [
    "# encapsulation , uses , abstract class "
   ]
  },
  {
   "cell_type": "code",
   "execution_count": null,
   "id": "70613d9d-6f5d-48b1-95ee-99094749ce8d",
   "metadata": {},
   "outputs": [],
   "source": []
  }
 ],
 "metadata": {
  "kernelspec": {
   "display_name": "Python 3 (ipykernel)",
   "language": "python",
   "name": "python3"
  },
  "language_info": {
   "codemirror_mode": {
    "name": "ipython",
    "version": 3
   },
   "file_extension": ".py",
   "mimetype": "text/x-python",
   "name": "python",
   "nbconvert_exporter": "python",
   "pygments_lexer": "ipython3",
   "version": "3.12.7"
  }
 },
 "nbformat": 4,
 "nbformat_minor": 5
}
