{
 "cells": [
  {
   "cell_type": "code",
   "execution_count": 7,
   "id": "83b9ad3b-b242-4e42-b9ad-936df9750d09",
   "metadata": {},
   "outputs": [
    {
     "name": "stdout",
     "output_type": "stream",
     "text": [
      "The maximum element is: 99\n"
     ]
    }
   ],
   "source": [
    "# 1. Write a Python program to find the maximum element in a list of numbers without max functions\n",
    "# numbers = [10, 20, 4, 45, 99]\n",
    "# The maximum element is: 99\n",
    "\n",
    "numbers = [10, 20, 4, 45, 99]\n",
    "max = 0\n",
    "for i in numbers:\n",
    "    if i>max:\n",
    "        max = i\n",
    "\n",
    "print(f\"The maximum element is: {max}\")"
   ]
  },
  {
   "cell_type": "code",
   "execution_count": 5,
   "id": "3a67c699-b972-492d-b63a-2388385031b5",
   "metadata": {},
   "outputs": [
    {
     "name": "stdout",
     "output_type": "stream",
     "text": [
      "Total of all element : 100\n"
     ]
    }
   ],
   "source": [
    "# 2. Write a Python program to sum all the elements in a list of numbers.\n",
    "# numbers = [10, 20, 30, 40]\n",
    "# The sum of all elements is: 100\n",
    "\n",
    "numbers = [10, 20, 30, 40]\n",
    "sum = 0\n",
    "for i in numbers:\n",
    "    sum = sum+i\n",
    "\n",
    "print(f\"The sum of all element : {sum}\")"
   ]
  },
  {
   "cell_type": "code",
   "execution_count": 45,
   "id": "f816c30d-c03a-435d-b94b-5c345091098f",
   "metadata": {},
   "outputs": [
    {
     "name": "stdout",
     "output_type": "stream",
     "text": [
      "Reversed list: [5, 4, 3, 2, 1]\n"
     ]
    }
   ],
   "source": [
    "# 3. Write a Python program to reverse a list without reverse or slicing operator\n",
    "# numbers = [1, 2, 3, 4, 5]\n",
    "# Reversed list: [5, 4, 3, 2, 1]\n",
    "\n",
    "numbers = [1, 2, 3, 4, 5]\n",
    "reverse_list = []\n",
    "for i in numbers:\n",
    "    reverse_list.insert(0,i)\n",
    "\n",
    "print(f\"Reversed list: {reverse_list}\")"
   ]
  },
  {
   "cell_type": "code",
   "execution_count": 9,
   "id": "d246cce2-fa40-4afd-9628-bc1d7c112753",
   "metadata": {},
   "outputs": [
    {
     "name": "stdout",
     "output_type": "stream",
     "text": [
      "[4, 10, 20, 45, 99]\n"
     ]
    }
   ],
   "source": [
    "# 4. Write a Python program to sort a list in ascending order without sort functions\n",
    "\n",
    "# 1. method - using nested loop\n",
    "numbers = [10, 20, 4, 45, 99]\n",
    "\n",
    "for i in range(0,len(numbers)):\n",
    "    for j in range(i+1,len(numbers)):\n",
    "        if numbers[i] > numbers[j]:\n",
    "            numbers[i],numbers[j] = numbers[j],numbers[i]\n",
    "\n",
    "print(numbers)"
   ]
  },
  {
   "cell_type": "code",
   "execution_count": 11,
   "id": "0bc3ceba-a66d-4f94-95a9-b9b84e676023",
   "metadata": {},
   "outputs": [
    {
     "name": "stdout",
     "output_type": "stream",
     "text": [
      "[4, 10, 20, 45, 99]\n"
     ]
    }
   ],
   "source": [
    "#2. using single loop (two pointer method)\n",
    "\n",
    "numbers = [10, 20, 4, 45, 99]\n",
    "i = 0\n",
    "j = len(numbers)-1\n",
    "\n",
    "while i<j:\n",
    "    if numbers[i] > numbers[j]:\n",
    "        numbers[i],numbers[j] = numbers[j],numbers[i]\n",
    "    j-=1\n",
    "    if i == j:\n",
    "        i+=1\n",
    "        j = len(numbers)-1\n",
    "\n",
    "print(numbers)"
   ]
  },
  {
   "cell_type": "code",
   "execution_count": 3,
   "id": "830f199c-aae4-4190-a41f-c29fc1ff226d",
   "metadata": {},
   "outputs": [
    {
     "name": "stdout",
     "output_type": "stream",
     "text": [
      "List after removing duplicates : [1, 2, 3, 4, 5]\n"
     ]
    }
   ],
   "source": [
    "# 5. Write a Python program to remove duplicates from a list while maintaining the orderof elements.\n",
    "# numbers = [1, 2, 2, 3, 4, 4, 5]\n",
    "# List after removing duplicates: [1, 2, 3, 4, 5]\n",
    "\n",
    "numbers = [1, 2, 2, 3, 4, 4, 5]\n",
    "\n",
    "unique_list = []\n",
    "for i in numbers:\n",
    "    if i not in unique_list:\n",
    "        unique_list.append(i)\n",
    "\n",
    "print(f\"List after removing duplicates : {unique_list}\")"
   ]
  },
  {
   "cell_type": "code",
   "execution_count": 19,
   "id": "1f8e6956-47fe-45ab-833a-cbda2bd6dc01",
   "metadata": {},
   "outputs": [
    {
     "name": "stdout",
     "output_type": "stream",
     "text": [
      "Pairs that add up to 6 : [(1, 5), (2, 4), (3, 3)]\n"
     ]
    }
   ],
   "source": [
    "# 6. Write a Python program to find all pairs of numbers in a list that add up to a specific target sum.\n",
    "# numbers = [1, 2, 3, 4, 3, 5, 6] target_sum = 6\n",
    "# Pairs that add up to 6: [(3, 3), (2, 4), (1, 5)]\n",
    "\n",
    "numbers = [1, 2, 3, 4, 3, 5, 6]\n",
    "\n",
    "i = 0\n",
    "j = len(numbers)-1\n",
    "\n",
    "pair_list = []\n",
    "\n",
    "while i<j:\n",
    "    if numbers[i]+numbers[j]==6:\n",
    "        pair_list.append((numbers[i],numbers[j]))\n",
    "    j-=1\n",
    "    if i == j:\n",
    "        i+=1\n",
    "        j = len(numbers)-1\n",
    "\n",
    "print(f\"Pairs that add up to 6 : {pair_list}\")"
   ]
  },
  {
   "cell_type": "code",
   "execution_count": 4,
   "id": "3cc5d8c7-cbfa-47fa-9d57-050d94310d5c",
   "metadata": {},
   "outputs": [
    {
     "name": "stdout",
     "output_type": "stream",
     "text": [
      "Flattened list: [1, 2, 3, 4, [5, 6], 7, 8]\n"
     ]
    }
   ],
   "source": [
    "# 7. Write a Python program to flatten a nested list (list within lists) into a single list.\n",
    "# nested_list = [1, [2, 3], [4, [5, 6], 7], 8]\n",
    "# Flattened list: [1, 2, 3, 4, 5, 6, 7, 8]\n",
    "\n",
    "nested_list = [1, [2, 3], [4, [5, 6], 7], 8]\n",
    "flattened = []\n",
    "\n",
    "for item in nested_list:\n",
    "    if isinstance(item, list):   \n",
    "        flattened.extend(item)   \n",
    "    else:\n",
    "        flattened.append(item)   \n",
    "\n",
    "print(\"Flattened list:\", flattened)"
   ]
  },
  {
   "cell_type": "code",
   "execution_count": 33,
   "id": "70544191-fe24-4b75-bf77-4da9a0e73038",
   "metadata": {},
   "outputs": [
    {
     "name": "stdout",
     "output_type": "stream",
     "text": [
      "Sum excluding the largest and smallest element: 9\n"
     ]
    }
   ],
   "source": [
    "# 8. Write a Python program to find the sum of the elements in a list, excluding the largest and smallest element. Don’t use max or min functions\n",
    "# numbers = [1, 2, 3, 4, 5]\n",
    "# Sum excluding the largest and smallest element: 9\n",
    "\n",
    "\n",
    "# 1.method \n",
    "numbers = [1, 2, 3, 4, 5]\n",
    "max = 0\n",
    "min = numbers[0]\n",
    "\n",
    "for i in numbers:\n",
    "    if max < i:\n",
    "        max = i\n",
    "    elif min > i:\n",
    "        min = i\n",
    "sum = 0\n",
    "for i in numbers:\n",
    "    sum = sum+i\n",
    "\n",
    "sum = sum-max-min\n",
    "print(f\"Sum excluding the largest and smallest element: {sum}\")"
   ]
  },
  {
   "cell_type": "code",
   "execution_count": 35,
   "id": "b567c69b-d780-4344-a351-85e669000476",
   "metadata": {},
   "outputs": [
    {
     "name": "stdout",
     "output_type": "stream",
     "text": [
      "Sum excluding the largest and smallest element: 26\n"
     ]
    }
   ],
   "source": [
    "# 2. method\n",
    "numbers = [23,12,1,2,3,4,5]\n",
    "\n",
    "numbers.sort()\n",
    "\n",
    "sum = 0\n",
    "\n",
    "for i in range(1,len(numbers)-1):\n",
    "    sum += numbers[i]\n",
    "\n",
    "print(f\"Sum excluding the largest and smallest element: {sum}\")"
   ]
  },
  {
   "cell_type": "code",
   "execution_count": 11,
   "id": "7e374910-2638-4a33-9796-b2f77dc1212a",
   "metadata": {},
   "outputs": [
    {
     "name": "stdout",
     "output_type": "stream",
     "text": [
      "list is palindrome : True\n"
     ]
    }
   ],
   "source": [
    "# 9. Write a Python program to check if a list is a palindrome (reads the same backward as forward) using two pointer approach\n",
    "# numbers = [1, 2, 3, 2, 1]\n",
    "# list is palindrome : True\n",
    "\n",
    "numbers = [1, 2, 3, 3, 2, 1]\n",
    "\n",
    "i = 0\n",
    "j = len(numbers)-1\n",
    "flag = 1\n",
    "while i<=j:\n",
    "    if numbers[i]==numbers[j]:\n",
    "        i+=1\n",
    "        j-=1\n",
    "    else:\n",
    "        flag = 0\n",
    "        break\n",
    "if flag:\n",
    "    print(\"list is palindrome :\",True)\n",
    "else:\n",
    "    print(\"list is palindrome :\",False)"
   ]
  },
  {
   "cell_type": "code",
   "execution_count": 5,
   "id": "ba87c95b-33b3-4593-af2b-cf6856c4410d",
   "metadata": {},
   "outputs": [
    {
     "data": {
      "text/plain": [
       "[1, 2, 3, 4, 5, 6]"
      ]
     },
     "execution_count": 5,
     "metadata": {},
     "output_type": "execute_result"
    }
   ],
   "source": [
    "# 10. Write a function to remove duplicate elements from a list.\n",
    "# numbers = [1, 2, 3, 2, 4, 5, 1, 6]\n",
    "# [1, 2, 3, 4, 5, 6]\n",
    "\n",
    "def remove_duplicate(numbers):\n",
    "    unique_list = []\n",
    "    for i in numbers:\n",
    "        if i not in unique_list:\n",
    "            unique_list.append(i)\n",
    "    return unique_list\n",
    "\n",
    "numbers = [1, 2, 3, 2, 4, 5, 1, 6]\n",
    "remove_duplicate(numbers)"
   ]
  },
  {
   "cell_type": "code",
   "execution_count": 9,
   "id": "c81793ab-cafe-4ade-a3c6-dd57b38f25df",
   "metadata": {},
   "outputs": [
    {
     "name": "stdout",
     "output_type": "stream",
     "text": [
      "[3, 4, 5]\n"
     ]
    }
   ],
   "source": [
    "# 11. Find Common Elements in Two Lists\n",
    "# list1 = [1, 2, 3, 4, 5]\n",
    "# list2 = [3, 4, 5, 6, 7]\n",
    "# Result: [3, 4, 5]\n",
    "\n",
    "# 1. method\n",
    "list1 = [1, 2, 3, 4, 5]\n",
    "list2 = [3, 4, 5, 6, 7]\n",
    "result = []\n",
    "\n",
    "for i in list1:\n",
    "    if i in list2:\n",
    "        result.append(i)\n",
    "\n",
    "print(result)"
   ]
  },
  {
   "cell_type": "code",
   "execution_count": 13,
   "id": "6dc6fba5-1ae5-443c-87f8-3162639296e8",
   "metadata": {},
   "outputs": [
    {
     "name": "stdout",
     "output_type": "stream",
     "text": [
      "[3, 4, 5]\n"
     ]
    }
   ],
   "source": [
    "# 2. method using set\n",
    "\n",
    "set1 = set(list1)\n",
    "set2 = set(list2)\n",
    "\n",
    "result = list(set1&set2)\n",
    "print(result)"
   ]
  },
  {
   "cell_type": "code",
   "execution_count": 29,
   "id": "45f5f251-d6ec-4b5a-9264-5665c8bc0312",
   "metadata": {},
   "outputs": [
    {
     "name": "stdout",
     "output_type": "stream",
     "text": [
      "Longest word in list : strawberry\n"
     ]
    }
   ],
   "source": [
    "# 12. Find the Longest Word in a List\n",
    "# words = [\"apple\", \"banana\", \"strawberry\", \"kiwi\"]\n",
    "# Strawberry\n",
    "\n",
    "words = [\"apple\", \"banana\", \"strawberry\", \"kiwi\"]\n",
    "max = 0\n",
    "\n",
    "for i in words:\n",
    "    if len(i) > max:\n",
    "        longest_word = i\n",
    "        max = len(longest_word)\n",
    "\n",
    "print(f\"Longest word in list : {longest_word}\")"
   ]
  },
  {
   "cell_type": "code",
   "execution_count": 35,
   "id": "68fb62bf-ab3e-4530-9d00-29269b3f69ed",
   "metadata": {},
   "outputs": [
    {
     "name": "stdout",
     "output_type": "stream",
     "text": [
      "32\n",
      "33\n",
      "35\n",
      "36\n",
      "38\n",
      "41\n",
      "42\n",
      "44\n",
      "46\n"
     ]
    }
   ],
   "source": [
    "# 13. Find Missing Number in a List\n",
    "\n",
    "numbers = [34,43,45,47,39,37,31,40]\n",
    "\n",
    "numbers.sort()\n",
    "\n",
    "for i in range(numbers[0],numbers[-1]):\n",
    "    if i not in numbers:\n",
    "        print(i)"
   ]
  },
  {
   "cell_type": "code",
   "execution_count": 47,
   "id": "fa102213-66b6-4415-8bcd-7e5221cdd7c2",
   "metadata": {},
   "outputs": [
    {
     "name": "stdout",
     "output_type": "stream",
     "text": [
      "3\n"
     ]
    }
   ],
   "source": [
    "#14. You are given a list of n-1 numbers in the range 1 to n. One number is missing from the sequence. Find the missing number.\n",
    "# numbers = [1, 2, 4, 5, 6]\n",
    "# 3\n",
    "\n",
    "numbers = [1, 2, 4, 5, 6]\n",
    "\n",
    "for i in range(1,numbers[-1]):\n",
    "    if i not in numbers:\n",
    "        print(i)"
   ]
  },
  {
   "cell_type": "code",
   "execution_count": 73,
   "id": "5be6dd5f-cdce-4900-a33f-f52359babe25",
   "metadata": {},
   "outputs": [
    {
     "data": {
      "text/plain": [
       "1"
      ]
     },
     "execution_count": 73,
     "metadata": {},
     "output_type": "execute_result"
    }
   ],
   "source": [
    "# 15. Find the First Non-Repeating Element Given a list of integers, find the first element that appears only once.\n",
    "# numbers = [4, 5, 1, 2, 0, 4, 5, 2]\n",
    "# Expected Output: 1\n",
    "\n",
    "def first_non_repeat(numbers):\n",
    "\n",
    "    for i in range(len(numbers)):\n",
    "        if numbers[i] not in numbers[i+1:len(numbers)]:\n",
    "            return numbers[i]\n",
    "    \n",
    "\n",
    "numbers = [4, 5, 1, 2, 0, 4, 5, 2]\n",
    "non_repeat(numbers)"
   ]
  },
  {
   "cell_type": "code",
   "execution_count": null,
   "id": "66fb0b48-f422-4633-882d-99ecb16c5d95",
   "metadata": {},
   "outputs": [
    {
     "ename": "SyntaxError",
     "evalue": "invalid syntax (3880844603.py, line 7)",
     "output_type": "error",
     "traceback": [
      "\u001b[1;36m  Cell \u001b[1;32mIn[52], line 7\u001b[1;36m\u001b[0m\n\u001b[1;33m    :\u001b[0m\n\u001b[1;37m    ^\u001b[0m\n\u001b[1;31mSyntaxError\u001b[0m\u001b[1;31m:\u001b[0m invalid syntax\n"
     ]
    }
   ],
   "source": [
    "# 16. Given a list of integers, move all zeros to the end while maintaining the relative order\n",
    "# of non-zero elements. Don’t use any inbuilt functions\n",
    "# numbers = [0, 1, 0, 3, 12]\n",
    "# [1, 3, 12, 0, 0]\n",
    "\n",
    "numbers = [0, 1, 0, 3, 12]\n",
    "\n",
    "\n",
    "\n",
    "print(numbers)"
   ]
  },
  {
   "cell_type": "code",
   "execution_count": 40,
   "id": "7f463858-7a7d-4fbc-8f28-08b3bedbdabd",
   "metadata": {},
   "outputs": [
    {
     "name": "stdout",
     "output_type": "stream",
     "text": [
      "[3, 6, 8]\n"
     ]
    }
   ],
   "source": [
    "# 17. Find Elements Greater Than Their Left Neighbor\n",
    "# numbers = [1, 3, 2, 6, 5, 8, 7]\n",
    "# [3, 6, 8]\n",
    "\n",
    "numbers = [1, 3, 2, 6, 5, 8, 7]\n",
    "mylist = []\n",
    "\n",
    "for i in range(1,len(numbers)):\n",
    "    if numbers[i]>numbers[i-1]:\n",
    "        mylist.append(numbers[i])\n",
    "\n",
    "print(mylist)"
   ]
  },
  {
   "cell_type": "code",
   "execution_count": 48,
   "id": "a4968316-fc6d-4f82-b21c-d7d588fd58fa",
   "metadata": {},
   "outputs": [
    {
     "name": "stdout",
     "output_type": "stream",
     "text": [
      "[(-1, -1, 2), (-1, 0, 1)]\n"
     ]
    }
   ],
   "source": [
    "# 18. Find Triplets That Sum to Zero Given a list of numbers, find all unique triplets (a, b, c) such that a + b + c = 0.\n",
    "# numbers = [-1, 0, 1, 2, -1, -4]\n",
    "# Expected Output: [(-1, -1, 2), (-1, 0, 1)]\n",
    "\n",
    "numbers = [-1, 0, 1, 2, -1, -4]\n",
    "numbers.sort()\n",
    "mylist = []\n",
    "for i in range(len(numbers)-2):\n",
    "    j = i+1\n",
    "    k = len(numbers)-1\n",
    "    while j<k:\n",
    "        if numbers[i]+numbers[j]+numbers[k]==0 and i!=j and j!=k and k!=i:\n",
    "            if (numbers[i],numbers[j],numbers[k]) not in mylist:\n",
    "                mylist.append((numbers[i],numbers[j],numbers[k]))\n",
    "            j = j+1\n",
    "            k = k-1\n",
    "        elif numbers[i]+numbers[j]+numbers[k]<0:\n",
    "            j = j+1\n",
    "        elif numbers[i]+numbers[j]+numbers[k]>0:\n",
    "            k = k-1\n",
    "\n",
    "print(mylist)"
   ]
  },
  {
   "cell_type": "code",
   "execution_count": null,
   "id": "f9ecc5df-2396-453a-b1e6-d271c34727bf",
   "metadata": {},
   "outputs": [],
   "source": []
  }
 ],
 "metadata": {
  "kernelspec": {
   "display_name": "Python 3 (ipykernel)",
   "language": "python",
   "name": "python3"
  },
  "language_info": {
   "codemirror_mode": {
    "name": "ipython",
    "version": 3
   },
   "file_extension": ".py",
   "mimetype": "text/x-python",
   "name": "python",
   "nbconvert_exporter": "python",
   "pygments_lexer": "ipython3",
   "version": "3.12.7"
  }
 },
 "nbformat": 4,
 "nbformat_minor": 5
}
