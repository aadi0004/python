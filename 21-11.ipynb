{
 "cells": [
  {
   "cell_type": "code",
   "execution_count": 2,
   "id": "af87bf56",
   "metadata": {},
   "outputs": [
    {
     "name": "stdout",
     "output_type": "stream",
     "text": [
      "{'total': 4}\n"
     ]
    }
   ],
   "source": [
    "lst=[1,2,34,45]\n",
    "mydict={'total':0}\n",
    "for i in lst:\n",
    "    mydict['total']=mydict['total']+1\n",
    "print(mydict)"
   ]
  },
  {
   "cell_type": "code",
   "execution_count": 13,
   "id": "bff1c4e3",
   "metadata": {},
   "outputs": [
    {
     "name": "stdout",
     "output_type": "stream",
     "text": [
      "{'a': 1, 'e': 2, 'i': 3, 'o': 2}\n"
     ]
    }
   ],
   "source": [
    "a='rahyeteiiioom'\n",
    "mydict={}\n",
    "for i in a:\n",
    "    if i not in mydict :\n",
    "        if i in 'aeiou':\n",
    "            mydict[i]=1\n",
    "    else:\n",
    "        mydict[i]=mydict[i]+1\n",
    "        \n",
    "print(mydict)"
   ]
  },
  {
   "cell_type": "code",
   "execution_count": null,
   "id": "c0ae9d1c",
   "metadata": {},
   "outputs": [],
   "source": []
  }
 ],
 "metadata": {
  "kernelspec": {
   "display_name": "Python 3 (ipykernel)",
   "language": "python",
   "name": "python3"
  },
  "language_info": {
   "codemirror_mode": {
    "name": "ipython",
    "version": 3
   },
   "file_extension": ".py",
   "mimetype": "text/x-python",
   "name": "python",
   "nbconvert_exporter": "python",
   "pygments_lexer": "ipython3",
   "version": "3.10.9"
  }
 },
 "nbformat": 4,
 "nbformat_minor": 5
}
