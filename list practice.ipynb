{
 "cells": [
  {
   "cell_type": "code",
   "execution_count": 9,
   "id": "ff5dc0e4-c737-43e8-8a88-1d2d30bcd6f7",
   "metadata": {},
   "outputs": [
    {
     "name": "stdout",
     "output_type": "stream",
     "text": [
      "[20, 50]\n"
     ]
    }
   ],
   "source": [
    "mylist =[10,20,30,40,20,50,50,20]\n",
    "a=[]\n",
    "for i in range(len(mylist)):\n",
    "    for j in range(i+1,len(mylist)):\n",
    "        if (mylist[i]==mylist[j]):\n",
    "            if mylist[i] not in a:\n",
    "                a.append(mylist[i])\n",
    "print(a)"
   ]
  },
  {
   "cell_type": "code",
   "execution_count": 6,
   "id": "12f8e229-2faf-49eb-8b1c-b95afdf7b9a4",
   "metadata": {},
   "outputs": [
    {
     "name": "stdout",
     "output_type": "stream",
     "text": [
      "20\n"
     ]
    }
   ],
   "source": [
    "mylist =[10,20,30,40,20,50,]\n",
    "\n",
    "for i in range(len(mylist)):\n",
    "    for j in range(i+1,len(mylist)):\n",
    "        if (mylist[i]==mylist[j]):\n",
    "            print(mylist[i])"
   ]
  },
  {
   "cell_type": "code",
   "execution_count": 11,
   "id": "b1741bbc-87db-4358-a085-f67e4452965d",
   "metadata": {},
   "outputs": [
    {
     "name": "stdout",
     "output_type": "stream",
     "text": [
      "palindrome\n"
     ]
    }
   ],
   "source": [
    "mylist =[10,20,30,20,10]\n",
    "a=mylist[::-1]\n",
    "if(mylist==a):\n",
    "    print(\"palindrome\")\n",
    "else:\n",
    "    print(\"Not Palindrome\")\n"
   ]
  },
  {
   "cell_type": "code",
   "execution_count": 1,
   "id": "6836cbca-8623-4afb-b14c-a5519519f035",
   "metadata": {},
   "outputs": [
    {
     "name": "stdout",
     "output_type": "stream",
     "text": [
      "Palindrome\n"
     ]
    }
   ],
   "source": [
    "mylist =[10,20,30,20,10]\n",
    "index=0\n",
    "end=len(mylist)-1\n",
    "a=0\n",
    "while(index<end):\n",
    "    if (mylist[index] != mylist[end]):\n",
    "        a=1\n",
    "        break        \n",
    "    index+=1\n",
    "    end-=1\n",
    "\n",
    "if(a==0):\n",
    "    print(\"Palindrome\")\n",
    "else:\n",
    "    print(\"Not Palindrome\")"
   ]
  },
  {
   "cell_type": "code",
   "execution_count": 3,
   "id": "d430dddc-9c88-4f9c-9d2f-40a1eb4c1737",
   "metadata": {},
   "outputs": [
    {
     "name": "stdout",
     "output_type": "stream",
     "text": [
      "Not Palindrome\n"
     ]
    }
   ],
   "source": [
    "st=\"mama\"\n",
    "index=0\n",
    "end=len(st)-1\n",
    "a=0\n",
    "while(index<end):\n",
    "    if (st[index] != st[end]):\n",
    "        a=1\n",
    "        break        \n",
    "    index+=1\n",
    "    end-=1\n",
    "\n",
    "if(a==0):\n",
    "    print(\"Palindrome\")\n",
    "else:  \n",
    "    print(\"Not Palindrome\")"
   ]
  },
  {
   "cell_type": "code",
   "execution_count": 9,
   "id": "7d79a14e-7b14-4ff7-9ad2-c956d2a046b7",
   "metadata": {},
   "outputs": [
    {
     "name": "stdout",
     "output_type": "stream",
     "text": [
      "[30, 20, 10]\n"
     ]
    }
   ],
   "source": [
    "a=[10,20,30]\n",
    "b=[]\n",
    "for i in range(len(a) ):\n",
    "    b.insert(0,a[i])\n",
    "print(b)\n",
    "    "
   ]
  },
  {
   "cell_type": "code",
   "execution_count": 14,
   "id": "aff74037-2610-4c33-b7e5-850e265ee758",
   "metadata": {},
   "outputs": [
    {
     "name": "stdout",
     "output_type": "stream",
     "text": [
      "[40, 30, 20, 10]\n"
     ]
    }
   ],
   "source": [
    "st=[10,20,30,40]\n",
    "index=0\n",
    "end=len(st)-1\n",
    "a=0\n",
    "while(index<end):\n",
    "    st[index],st[end] = st[end],st[index]\n",
    "    index+=1\n",
    "    end-=1\n",
    "\n",
    "print(st)"
   ]
  },
  {
   "cell_type": "code",
   "execution_count": 13,
   "id": "9596b4d2-c3bd-464d-8572-a501cce3ed40",
   "metadata": {},
   "outputs": [
    {
     "name": "stdout",
     "output_type": "stream",
     "text": [
      "99\n"
     ]
    }
   ],
   "source": [
    "\n",
    "mylist=[10, 20, 4, 45, 99]\n",
    "maxx=mylist[0]\n",
    "for i in range(0,len(mylist)):\n",
    "    if(mylist[i]>maxx):\n",
    "        maxx=mylist[i]\n",
    "\n",
    "print(maxx)"
   ]
  },
  {
   "cell_type": "code",
   "execution_count": 22,
   "id": "04bcb460-4269-4de3-8423-7f99d2a11c62",
   "metadata": {},
   "outputs": [
    {
     "data": {
      "text/plain": [
       "45"
      ]
     },
     "execution_count": 22,
     "metadata": {},
     "output_type": "execute_result"
    }
   ],
   "source": [
    "mylist=[10, 20, 4, 45, 99]\n",
    "mylist=list(set(mylist))\n",
    "a=sorted(mylist)\n",
    "a[-2]"
   ]
  },
  {
   "cell_type": "code",
   "execution_count": 23,
   "id": "12968c39-a767-4ee7-b4bd-5f3ba9a16262",
   "metadata": {},
   "outputs": [
    {
     "name": "stdout",
     "output_type": "stream",
     "text": [
      "392 242\n"
     ]
    }
   ],
   "source": [
    "mylist=[10,20,392,242]\n",
    "max1=mylist[0]\n",
    "smax=0\n",
    "for i in mylist:\n",
    "    if (i> max1):\n",
    "        smax=max1\n",
    "        max1=i\n",
    "    elif(i>smax):\n",
    "        smax=i\n",
    "print(max1,smax)\n"
   ]
  },
  {
   "cell_type": "code",
   "execution_count": 24,
   "id": "1f1b5f26-e296-41e4-96b5-ec3bef338f0e",
   "metadata": {},
   "outputs": [
    {
     "name": "stdout",
     "output_type": "stream",
     "text": [
      "hello\n",
      "tushar\n"
     ]
    }
   ],
   "source": [
    "s=\"hello tushar\"\n",
    "for i in s.split(' '):\n",
    "    print(i)"
   ]
  },
  {
   "cell_type": "code",
   "execution_count": 26,
   "id": "38d175bf-4b71-4eff-918b-c9546565b9d4",
   "metadata": {},
   "outputs": [
    {
     "name": "stdout",
     "output_type": "stream",
     "text": [
      "['hello', 'tushar']\n",
      "hello tushar\n"
     ]
    }
   ],
   "source": [
    "s=\"hello tushar\"\n",
    "x=s.split(\" \")\n",
    "print(x)\n",
    "print(\" \".join(x))"
   ]
  },
  {
   "cell_type": "code",
   "execution_count": 28,
   "id": "21b58542-338e-4de9-a1d8-97dd374d22e6",
   "metadata": {},
   "outputs": [],
   "source": [
    "# 1.   \"heyy\"  >>> [h,he,hey,heyy,e,ey,eyy,y,yy,y]\n",
    "# 2.   [10,2,3,5,7] >>> [10,12,15,20,27]  sum step by step\n",
    "# 3.   [10,20,10,60,7] >>> [20,60,7] unique value\n",
    "# 4.   \"khokho\" , \"abab\"  >>> symmetric or not (first half==secound half)\n",
    "# 5.    "
   ]
  },
  {
   "cell_type": "code",
   "execution_count": 29,
   "id": "12fcbc0d-360d-4d74-b0f1-00d50a99a00b",
   "metadata": {},
   "outputs": [],
   "source": [
    "# what is dict\n",
    "# why we use dict over dict \n",
    "# how to insert/delete element in dict\n"
   ]
  },
  {
   "cell_type": "code",
   "execution_count": null,
   "id": "67ea0a25-66e2-490d-bea1-33a4a95777bb",
   "metadata": {},
   "outputs": [],
   "source": []
  }
 ],
 "metadata": {
  "kernelspec": {
   "display_name": "Python 3 (ipykernel)",
   "language": "python",
   "name": "python3"
  },
  "language_info": {
   "codemirror_mode": {
    "name": "ipython",
    "version": 3
   },
   "file_extension": ".py",
   "mimetype": "text/x-python",
   "name": "python",
   "nbconvert_exporter": "python",
   "pygments_lexer": "ipython3",
   "version": "3.12.7"
  }
 },
 "nbformat": 4,
 "nbformat_minor": 5
}
