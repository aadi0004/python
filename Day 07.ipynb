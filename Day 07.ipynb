{
 "cells": [
  {
   "cell_type": "markdown",
   "id": "e12d8959",
   "metadata": {},
   "source": [
    "## functions in python"
   ]
  },
  {
   "cell_type": "code",
   "execution_count": 1,
   "id": "93a1e76e",
   "metadata": {},
   "outputs": [],
   "source": [
    "# 1. pre defined functions ===> print(),input(),min(),max()\n",
    "# 2. mannually created functions ===>\n",
    "# a. def\n",
    "# b. name of function\n",
    "# c. logic of function\n",
    "# d. call the function"
   ]
  },
  {
   "cell_type": "code",
   "execution_count": 2,
   "id": "2784c841",
   "metadata": {},
   "outputs": [],
   "source": [
    "# #syntex\n",
    "# def name_of_function():\n",
    "#     logics\n",
    "# name_of_function()"
   ]
  },
  {
   "cell_type": "code",
   "execution_count": 3,
   "id": "61f3964b",
   "metadata": {},
   "outputs": [
    {
     "name": "stdout",
     "output_type": "stream",
     "text": [
      "addition is :  35\n"
     ]
    }
   ],
   "source": [
    "#q. add 2 number\n",
    "def add():\n",
    "    a=23\n",
    "    b=12\n",
    "    c=a+b\n",
    "    print('addition is : ',c)\n",
    "add()"
   ]
  },
  {
   "cell_type": "code",
   "execution_count": 4,
   "id": "a91b890a",
   "metadata": {},
   "outputs": [],
   "source": [
    "# #Arguments and parameters\n",
    "# 1). parameters===> These are the value which we supplied when we create a function.\n",
    "\n",
    "# 2). Arguments===> These are the value which we supplied when we call the function"
   ]
  },
  {
   "cell_type": "code",
   "execution_count": 6,
   "id": "da6a90e5",
   "metadata": {},
   "outputs": [
    {
     "name": "stdout",
     "output_type": "stream",
     "text": [
      "addition is :  35\n"
     ]
    }
   ],
   "source": [
    "def add(a,b):\n",
    "    c=a+b\n",
    "    print('addition is : ',c)\n",
    "    \n",
    "p=23\n",
    "q=12\n",
    "add(p,q)  ## here p and q are arguments and a and b are parameters"
   ]
  },
  {
   "cell_type": "code",
   "execution_count": 8,
   "id": "505e4d8f",
   "metadata": {},
   "outputs": [
    {
     "name": "stdout",
     "output_type": "stream",
     "text": [
      "odd\n"
     ]
    }
   ],
   "source": [
    "def oddeven():  ### without Argument and parameters\n",
    "    a=5\n",
    "    if(a%2==0):\n",
    "        print(\"even\")\n",
    "    else:\n",
    "        print(\"odd\")\n",
    "oddeven()"
   ]
  },
  {
   "cell_type": "code",
   "execution_count": 10,
   "id": "3cb74503",
   "metadata": {},
   "outputs": [
    {
     "name": "stdout",
     "output_type": "stream",
     "text": [
      "even\n"
     ]
    }
   ],
   "source": [
    "def oddeven(a):  ### with Argument and parameters\n",
    "    if(a%2==0):\n",
    "        print(\"even\")\n",
    "    else:\n",
    "        print(\"odd\")\n",
    "p=22\n",
    "oddeven(p)"
   ]
  },
  {
   "cell_type": "code",
   "execution_count": 11,
   "id": "8f8dddd9",
   "metadata": {},
   "outputs": [
    {
     "name": "stdout",
     "output_type": "stream",
     "text": [
      "addition is :  35\n"
     ]
    }
   ],
   "source": [
    "#case 1. (no argument and no return)\n",
    "def add():\n",
    "    a=23\n",
    "    b=12\n",
    "    c=a+b\n",
    "    print('addition is : ',c)\n",
    "add()"
   ]
  },
  {
   "cell_type": "code",
   "execution_count": 12,
   "id": "0a39676a",
   "metadata": {},
   "outputs": [
    {
     "name": "stdout",
     "output_type": "stream",
     "text": [
      "addition is :  47\n",
      "addition is :  35\n"
     ]
    }
   ],
   "source": [
    "#case 2. (with argument and no return\n",
    "def add(a,b):\n",
    "    \n",
    "    c=a+b\n",
    "    print('addition is : ',c)\n",
    "p=24\n",
    "q=23\n",
    "add(p,q)\n",
    "add(23,12)"
   ]
  },
  {
   "cell_type": "code",
   "execution_count": 13,
   "id": "b737cd03",
   "metadata": {},
   "outputs": [
    {
     "name": "stdout",
     "output_type": "stream",
     "text": [
      "addition is :  35\n"
     ]
    }
   ],
   "source": [
    "#case 3. (no argument with return\n",
    "def add():\n",
    "    a=23\n",
    "    b=12\n",
    "    c=a+b\n",
    "    return c\n",
    "x=add()\n",
    "print('addition is : ',x)\n"
   ]
  },
  {
   "cell_type": "code",
   "execution_count": 14,
   "id": "48b33add",
   "metadata": {},
   "outputs": [
    {
     "name": "stdout",
     "output_type": "stream",
     "text": [
      "addition is :  79\n"
     ]
    }
   ],
   "source": [
    "#4. (with argument and return)\n",
    "def add(a,b):\n",
    "    c=a+b\n",
    "    return c\n",
    "a=23\n",
    "b=56\n",
    "x=add(a,b)\n",
    "print('addition is : ',x)"
   ]
  },
  {
   "cell_type": "markdown",
   "id": "9cde55b9",
   "metadata": {},
   "source": [
    "### lambda function"
   ]
  },
  {
   "cell_type": "code",
   "execution_count": 19,
   "id": "e16a84ae",
   "metadata": {},
   "outputs": [
    {
     "name": "stdout",
     "output_type": "stream",
     "text": [
      "total value:  32\n",
      "multiplication is :  46\n",
      "total is :  52\n"
     ]
    }
   ],
   "source": [
    "#lambda function===> A lambda can take any number of argument but can only have one expression\n",
    "#syntex : Lambda arguments : expression\n",
    "#ex.1\n",
    "x= lambda a : a**5\n",
    "print(\"total value: \",x(2))\n",
    "\n",
    "#ex 2. \n",
    "x= lambda a,b: a*b\n",
    "print(\"multiplication is : \",x(23,2))\n",
    "\n",
    "#ex 3.\n",
    "x= lambda a,b,c: a*b-c\n",
    "print(\"total is : \",x(23,2,-6))"
   ]
  },
  {
   "cell_type": "code",
   "execution_count": 20,
   "id": "c139e186",
   "metadata": {},
   "outputs": [
    {
     "data": {
      "text/plain": [
       "29"
      ]
     },
     "execution_count": 20,
     "metadata": {},
     "output_type": "execute_result"
    }
   ],
   "source": [
    "x= lambda a,b,c: a**2+b**2+c**2\n",
    "x(2,3,4)"
   ]
  },
  {
   "cell_type": "markdown",
   "id": "aabf339e",
   "metadata": {},
   "source": [
    "### filter function"
   ]
  },
  {
   "cell_type": "code",
   "execution_count": 21,
   "id": "4afdc3c2",
   "metadata": {},
   "outputs": [
    {
     "name": "stdout",
     "output_type": "stream",
     "text": [
      "[34, 18, 25, 34]\n"
     ]
    }
   ],
   "source": [
    "# filter function ===> The filter function returns an iterator where the items are filtered through a function to test , if the item is accepted return true or false\n",
    "#filter(logic,data)\n",
    "\n",
    "ages=[4,34,12,1,18,17,10,25,34]\n",
    "def func(x):\n",
    "    if(x>=18):\n",
    "        return True\n",
    "    else:\n",
    "        return False\n",
    "    \n",
    "kid= list(filter(func,ages))\n",
    "print(kid)"
   ]
  },
  {
   "cell_type": "markdown",
   "id": "b333f855",
   "metadata": {},
   "source": [
    "### map function"
   ]
  },
  {
   "cell_type": "code",
   "execution_count": 28,
   "id": "5c5be6af",
   "metadata": {},
   "outputs": [
    {
     "name": "stdout",
     "output_type": "stream",
     "text": [
      "[3, 23, 3]\n",
      "3\n",
      "[3, 23, 3]\n",
      "3\n"
     ]
    }
   ],
   "source": [
    "# map function===> The map() executes a specified function for each item in a iterable]\n",
    "# the item is sent to the function as parameters.\n",
    "\n",
    "a=[\"3\",\"23\",3]\n",
    "\n",
    "#method-1\n",
    "#print(a)\n",
    "for i in range(len(a)):\n",
    "    a[i]= int(a[i])\n",
    "print(a)\n",
    "print(a[2])\n",
    "\n",
    "#method-2(by using map function)\n",
    "b=list(map(int, a))\n",
    "print(b)\n",
    "print(b[2])\n"
   ]
  },
  {
   "cell_type": "code",
   "execution_count": 29,
   "id": "bd293bcb",
   "metadata": {},
   "outputs": [
    {
     "data": {
      "text/plain": [
       "[3, 5]"
      ]
     },
     "execution_count": 29,
     "metadata": {},
     "output_type": "execute_result"
    }
   ],
   "source": [
    "a=['3','5']\n",
    "a[0]=int(a[0])\n",
    "a[1]=int(a[1])\n",
    "a"
   ]
  },
  {
   "cell_type": "code",
   "execution_count": 30,
   "id": "9e0f100d",
   "metadata": {},
   "outputs": [
    {
     "name": "stdout",
     "output_type": "stream",
     "text": [
      "[1, 4, 9, 16, 25]\n",
      "[1, 4, 9, 16, 25]\n"
     ]
    }
   ],
   "source": [
    "# example\n",
    "a=[1,2,3,4,5]\n",
    "def squ(a):\n",
    "    return a*a\n",
    "\n",
    "square=list(map(squ,a))\n",
    "print(square)\n",
    "\n",
    "a=[1,2,3,4,5]\n",
    "square=list(map(lambda a: a*a ,a))\n",
    "print(square)"
   ]
  },
  {
   "cell_type": "code",
   "execution_count": 31,
   "id": "8e8316fc",
   "metadata": {},
   "outputs": [],
   "source": [
    "# q. write a lambda function that takes two arguents , x and y, and returns x^2 + y^2 . Test it on two numbers.\n",
    "square=list(map(squ,a))\n",
    "print(square)\n",
    "\n",
    "#q. write a py program using map and lambda function to convert a list of string to uppercase.\n",
    "a=['a','b','c']\n",
    "b=list(map(lambda a: a.upper(),a))\n",
    "b\n",
    "\n",
    "#q. write a py program using filter and lambda to filter out all words from a list that are less then 5 characters long.\n",
    "a=['asd','asfg','asddddd']\n",
    "   \n",
    "x=list(filter((lambda x:len(x)<5) ,a))\n",
    "x"
   ]
  },
  {
   "cell_type": "code",
   "execution_count": 48,
   "id": "ecb2e98c",
   "metadata": {},
   "outputs": [
    {
     "data": {
      "text/plain": [
       "['asd', 'asdfg']"
      ]
     },
     "execution_count": 48,
     "metadata": {},
     "output_type": "execute_result"
    }
   ],
   "source": [
    "a=['asd','asdfg','asddddd']\n",
    "def small(x):\n",
    "    if(len(x)<=5):\n",
    "        return True\n",
    "    else:\n",
    "        return False\n",
    "    \n",
    "x=list(filter(small,a))\n",
    "x"
   ]
  },
  {
   "cell_type": "code",
   "execution_count": null,
   "id": "85590911",
   "metadata": {},
   "outputs": [],
   "source": []
  },
  {
   "cell_type": "code",
   "execution_count": null,
   "id": "bf690ff0",
   "metadata": {},
   "outputs": [],
   "source": []
  }
 ],
 "metadata": {
  "kernelspec": {
   "display_name": "Python 3 (ipykernel)",
   "language": "python",
   "name": "python3"
  },
  "language_info": {
   "codemirror_mode": {
    "name": "ipython",
    "version": 3
   },
   "file_extension": ".py",
   "mimetype": "text/x-python",
   "name": "python",
   "nbconvert_exporter": "python",
   "pygments_lexer": "ipython3",
   "version": "3.10.9"
  }
 },
 "nbformat": 4,
 "nbformat_minor": 5
}
