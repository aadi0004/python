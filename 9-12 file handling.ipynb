{
 "cells": [
  {
   "cell_type": "markdown",
   "id": "b6ef1086",
   "metadata": {},
   "source": [
    "##  file handling and exception handling\n"
   ]
  },
  {
   "cell_type": "code",
   "execution_count": 4,
   "id": "5a7d978e",
   "metadata": {},
   "outputs": [
    {
     "name": "stdout",
     "output_type": "stream",
     "text": [
      "Hello, World!\n",
      "This is a test file\n",
      "Appending a new line\n"
     ]
    }
   ],
   "source": [
    "f=open('input.txt','r') \n",
    "print(f.read())\n",
    "f.close()\n"
   ]
  },
  {
   "cell_type": "code",
   "execution_count": 3,
   "id": "2f935f93",
   "metadata": {
    "scrolled": true
   },
   "outputs": [
    {
     "name": "stdout",
     "output_type": "stream",
     "text": [
      "Hello, World!\n",
      "This is a test file\n",
      "Appending a new line\n"
     ]
    }
   ],
   "source": [
    "f=open('input.txt','r') \n",
    "x=(f.read())\n",
    "f.close()\n",
    "print(x)"
   ]
  },
  {
   "cell_type": "code",
   "execution_count": 6,
   "id": "55ed5371",
   "metadata": {},
   "outputs": [
    {
     "name": "stdout",
     "output_type": "stream",
     "text": [
      "3\n"
     ]
    }
   ],
   "source": [
    "f=open('input.txt','w') \n",
    "x=f.write('asd')\n",
    "f.close()\n",
    "print(x)"
   ]
  },
  {
   "cell_type": "code",
   "execution_count": 8,
   "id": "72c54bb9",
   "metadata": {},
   "outputs": [
    {
     "name": "stdout",
     "output_type": "stream",
     "text": [
      "asd123sd\n"
     ]
    }
   ],
   "source": [
    "f=open('input.txt','r+')   # read and write both  , didnot remove old content\n",
    "x=(f.read())\n",
    "f.write(' 123sd')\n",
    "f.close()\n",
    "print(x)"
   ]
  },
  {
   "cell_type": "code",
   "execution_count": 10,
   "id": "99a4fe40",
   "metadata": {},
   "outputs": [
    {
     "name": "stdout",
     "output_type": "stream",
     "text": [
      "\n"
     ]
    }
   ],
   "source": [
    "f=open('input.txt','w+')   # read and write both  ,remove old content\n",
    "f.write(' 123sd')\n",
    "x=(f.read())\n",
    "\n",
    "f.close()\n",
    "print(x)"
   ]
  },
  {
   "cell_type": "code",
   "execution_count": 12,
   "id": "c93bf93b",
   "metadata": {},
   "outputs": [
    {
     "name": "stdout",
     "output_type": "stream",
     "text": [
      " 123sd\n"
     ]
    }
   ],
   "source": [
    "with open('input.txt','r') as f:\n",
    "    x=(f.read())\n",
    "print(x)"
   ]
  },
  {
   "cell_type": "code",
   "execution_count": null,
   "id": "62a32f0e",
   "metadata": {},
   "outputs": [],
   "source": []
  },
  {
   "cell_type": "code",
   "execution_count": 19,
   "id": "adf68739",
   "metadata": {},
   "outputs": [
    {
     "name": "stdout",
     "output_type": "stream",
     "text": [
      " 123sd\n",
      "\n",
      " as\n",
      "\n",
      " asdf\n",
      "\n",
      " asd\n"
     ]
    }
   ],
   "source": [
    "with open('input.txt','r') as f:\n",
    "    for line in f:\n",
    "        print(line)\n"
   ]
  },
  {
   "cell_type": "code",
   "execution_count": 20,
   "id": "355df94a",
   "metadata": {},
   "outputs": [
    {
     "name": "stdout",
     "output_type": "stream",
     "text": [
      "[' 123sd\\n', ' as\\n', ' asdf\\n', ' asd']\n"
     ]
    }
   ],
   "source": [
    "with open('input.txt','r') as f:\n",
    "    print(f.readlines())\n"
   ]
  },
  {
   "cell_type": "code",
   "execution_count": 23,
   "id": "9364664f",
   "metadata": {},
   "outputs": [
    {
     "name": "stdout",
     "output_type": "stream",
     "text": [
      "0\n",
      "6\n"
     ]
    }
   ],
   "source": [
    "f=open('input.txt','w+')   # read and write both  , didnot remove old content\n",
    "x=(f.read())\n",
    "print(f.tell()) # check cursor position\n",
    "f.write(' 123sd')\n",
    "print(f.tell()) # check cursor position\n",
    "\n",
    "f.close()\n",
    "# print(x)"
   ]
  },
  {
   "cell_type": "markdown",
   "id": "30281752",
   "metadata": {},
   "source": [
    "# using csv how to read csv file and write csv data"
   ]
  },
  {
   "cell_type": "code",
   "execution_count": 24,
   "id": "dcd78679",
   "metadata": {},
   "outputs": [],
   "source": [
    "# dsv - delimeter seperated value"
   ]
  },
  {
   "cell_type": "markdown",
   "id": "c0f010ee",
   "metadata": {},
   "source": [
    "# "
   ]
  },
  {
   "cell_type": "markdown",
   "id": "2bd7021c",
   "metadata": {},
   "source": [
    "# exception handling"
   ]
  },
  {
   "cell_type": "code",
   "execution_count": 25,
   "id": "f18f77b5",
   "metadata": {},
   "outputs": [
    {
     "name": "stdout",
     "output_type": "stream",
     "text": [
      "hello\n",
      "error \n"
     ]
    }
   ],
   "source": [
    "try:\n",
    "    print(\"hello\")\n",
    "    num1\n",
    "    print(\"hey\")\n",
    "except:\n",
    "    print(\"error \")"
   ]
  },
  {
   "cell_type": "code",
   "execution_count": 26,
   "id": "cda7267c",
   "metadata": {},
   "outputs": [
    {
     "name": "stdout",
     "output_type": "stream",
     "text": [
      "hello\n",
      "error  can only concatenate str (not \"int\") to str\n"
     ]
    }
   ],
   "source": [
    "try:\n",
    "    print(\"hello\")\n",
    "    num='asd'\n",
    "    num+=12\n",
    "    print(\"hey\")\n",
    "except (NameError,TypeError) as e:\n",
    "    print(\"error \",e)"
   ]
  },
  {
   "cell_type": "code",
   "execution_count": 32,
   "id": "e7eff404",
   "metadata": {},
   "outputs": [
    {
     "name": "stdout",
     "output_type": "stream",
     "text": [
      "hello\n",
      "all errors handled: division by zero\n"
     ]
    }
   ],
   "source": [
    "try:\n",
    "    print(\"hello\")\n",
    "    num='asd'\n",
    "#     num+=12\n",
    "    a=12/0\n",
    "    print(\"hey\")\n",
    "except (NameError,TypeError) as e:\n",
    "    print(\"error \",e)\n",
    "except Exception as x:\n",
    "    print(\"all errors handled:\",x)"
   ]
  },
  {
   "cell_type": "code",
   "execution_count": 36,
   "id": "5b1d8f7b",
   "metadata": {},
   "outputs": [
    {
     "name": "stdout",
     "output_type": "stream",
     "text": [
      "hello\n",
      "divided by 0 error\n",
      "hey\n"
     ]
    }
   ],
   "source": [
    "try:\n",
    "    print(\"hello\")\n",
    "    try:\n",
    "        num=12\n",
    "        num=num/0\n",
    "    except:\n",
    "        print(\"divided by 0 error\")\n",
    "    print(\"hey\")\n",
    "except Exception as e:\n",
    "    print(\"error \",e)"
   ]
  },
  {
   "cell_type": "code",
   "execution_count": 38,
   "id": "3c42e552",
   "metadata": {},
   "outputs": [
    {
     "name": "stdout",
     "output_type": "stream",
     "text": [
      "hello\n",
      "hey\n",
      "done\n"
     ]
    }
   ],
   "source": [
    "try:\n",
    "    print(\"hello\")\n",
    "    num='asd'\n",
    "    num=12\n",
    "    print(\"hey\")\n",
    "except (NameError,TypeError) as e:\n",
    "    print(\"error \",e)\n",
    "finally:\n",
    "    print(\"done\")"
   ]
  },
  {
   "cell_type": "code",
   "execution_count": null,
   "id": "e67c45a3",
   "metadata": {},
   "outputs": [],
   "source": []
  }
 ],
 "metadata": {
  "kernelspec": {
   "display_name": "Python 3 (ipykernel)",
   "language": "python",
   "name": "python3"
  },
  "language_info": {
   "codemirror_mode": {
    "name": "ipython",
    "version": 3
   },
   "file_extension": ".py",
   "mimetype": "text/x-python",
   "name": "python",
   "nbconvert_exporter": "python",
   "pygments_lexer": "ipython3",
   "version": "3.10.9"
  }
 },
 "nbformat": 4,
 "nbformat_minor": 5
}
