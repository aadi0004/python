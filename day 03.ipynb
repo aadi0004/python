{
 "cells": [
  {
   "cell_type": "code",
   "execution_count": 3,
   "id": "f4107b4b",
   "metadata": {},
   "outputs": [
    {
     "name": "stdout",
     "output_type": "stream",
     "text": [
      "enter a number 43\n",
      "positive\n"
     ]
    }
   ],
   "source": [
    "num=int(input('enter a number '))\n",
    "if(num>=0):\n",
    "    print(\"positive\")"
   ]
  },
  {
   "cell_type": "code",
   "execution_count": 7,
   "id": "612a94e0",
   "metadata": {},
   "outputs": [
    {
     "name": "stdout",
     "output_type": "stream",
     "text": [
      "enter a number 0\n",
      "Even\n"
     ]
    }
   ],
   "source": [
    "num=int(input('enter a number '))\n",
    "if(num%2==0):\n",
    "    print(\"Even\")\n",
    "else:\n",
    "    print(\"odd\")"
   ]
  },
  {
   "cell_type": "code",
   "execution_count": 11,
   "id": "c8a8ee1e",
   "metadata": {},
   "outputs": [
    {
     "name": "stdout",
     "output_type": "stream",
     "text": [
      "enter a number -32\n",
      "negative\n"
     ]
    }
   ],
   "source": [
    "num=int(input('enter a number '))\n",
    "if(num>0):\n",
    "    print(\"positive\")\n",
    "elif(num<0):\n",
    "    print(\"negative\")\n",
    "else:\n",
    "    print(\"zero\")"
   ]
  },
  {
   "cell_type": "code",
   "execution_count": 12,
   "id": "148edb97",
   "metadata": {},
   "outputs": [
    {
     "name": "stdout",
     "output_type": "stream",
     "text": [
      "Greater\n"
     ]
    }
   ],
   "source": [
    "x = 10\n",
    "if x > 5:\n",
    "    print(\"Greater\")\n",
    "else:\n",
    "    print(\"Smaller\")\n"
   ]
  },
  {
   "cell_type": "code",
   "execution_count": 21,
   "id": "d05f39e6",
   "metadata": {},
   "outputs": [
    {
     "name": "stdout",
     "output_type": "stream",
     "text": [
      "enter a number 19\n",
      "between\n"
     ]
    }
   ],
   "source": [
    "num=int(input('enter a number '))\n",
    "if(num>=10):\n",
    "    if(num<=20):\n",
    "        print(\"between\")\n",
    "    else:\n",
    "        print(\"not\")\n",
    "else:\n",
    "    print(\"not\")"
   ]
  },
  {
   "cell_type": "code",
   "execution_count": 25,
   "id": "17a0bd0d",
   "metadata": {},
   "outputs": [
    {
     "name": "stdout",
     "output_type": "stream",
     "text": [
      "enter a number 15\n",
      "yes\n"
     ]
    }
   ],
   "source": [
    "num=int(input('enter a number '))\n",
    "if(num%3==0 and num%5==0):\n",
    "    print(\"yes\")\n",
    "else:\n",
    "    print(\"not\")"
   ]
  },
  {
   "cell_type": "code",
   "execution_count": 28,
   "id": "63379bc1",
   "metadata": {},
   "outputs": [
    {
     "name": "stdout",
     "output_type": "stream",
     "text": [
      "enter a number 0\n",
      "positive\n",
      "even\n"
     ]
    }
   ],
   "source": [
    "num=int(input('enter a number '))\n",
    "if(num>=0):\n",
    "    print(\"positive\")\n",
    "    if(num%2==0):\n",
    "        print(\"even\")\n",
    "    else:\n",
    "        print(\"odd\")\n",
    "else:\n",
    "    print(\"not positive\")"
   ]
  },
  {
   "cell_type": "code",
   "execution_count": 29,
   "id": "f8dd0046",
   "metadata": {},
   "outputs": [
    {
     "name": "stdout",
     "output_type": "stream",
     "text": [
      "Smaller\n"
     ]
    }
   ],
   "source": [
    "a = 5\n",
    "b = 10\n",
    "if a < b:\n",
    "    if b > 15:\n",
    "        print(\"Bigger\")\n",
    "    else:\n",
    "        print(\"Smaller\")\n"
   ]
  },
  {
   "cell_type": "code",
   "execution_count": 30,
   "id": "870e75d1",
   "metadata": {},
   "outputs": [
    {
     "name": "stdout",
     "output_type": "stream",
     "text": [
      "enter a number 9\n",
      "positive\n"
     ]
    }
   ],
   "source": [
    "num=int(input('enter a number '))\n",
    "if(num>=0):\n",
    "    print(\"positive\")"
   ]
  },
  {
   "cell_type": "code",
   "execution_count": 43,
   "id": "194614c4",
   "metadata": {},
   "outputs": [
    {
     "name": "stdout",
     "output_type": "stream",
     "text": [
      "enter a number -4\n",
      "not integer\n"
     ]
    }
   ],
   "source": [
    "num=input('enter a number ')\n",
    "if(num.isdigit()):\n",
    "    print(\"integer\")\n",
    "else:\n",
    "    print(\"not integer\")"
   ]
  },
  {
   "cell_type": "code",
   "execution_count": null,
   "id": "9a58ebed",
   "metadata": {},
   "outputs": [],
   "source": []
  }
 ],
 "metadata": {
  "kernelspec": {
   "display_name": "Python 3 (ipykernel)",
   "language": "python",
   "name": "python3"
  },
  "language_info": {
   "codemirror_mode": {
    "name": "ipython",
    "version": 3
   },
   "file_extension": ".py",
   "mimetype": "text/x-python",
   "name": "python",
   "nbconvert_exporter": "python",
   "pygments_lexer": "ipython3",
   "version": "3.10.9"
  }
 },
 "nbformat": 4,
 "nbformat_minor": 5
}
