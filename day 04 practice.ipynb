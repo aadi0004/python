{
 "cells": [
  {
   "cell_type": "code",
   "execution_count": 2,
   "id": "13f89afa",
   "metadata": {},
   "outputs": [
    {
     "name": "stdout",
     "output_type": "stream",
     "text": [
      "enter your age 12\n",
      "cannot vote\n"
     ]
    }
   ],
   "source": [
    "# Q.1 Write a Python program that takes a user's age as input and determines if the person is eligible to vote. \n",
    "age=int(input(\"enter your age \"))\n",
    "if(age>=18 ):\n",
    "    print(\"eligible to vote\")\n",
    "else:\n",
    "    print(\"can not vote\")"
   ]
  },
  {
   "cell_type": "code",
   "execution_count": 9,
   "id": "be58b55f",
   "metadata": {},
   "outputs": [
    {
     "name": "stdout",
     "output_type": "stream",
     "text": [
      "enter total purchase amount $ 293\n",
      "final ammount after 10% discount  263.7\n"
     ]
    }
   ],
   "source": [
    "# Q.2 A store offers a discount of 10% if the total purchase amount exceeds $100.Write a program that asks the user for the total purchase amount and calculatesthe final price after applying the discount if applicable.\n",
    "a=int(input(\"enter total purchase amount $ \"))\n",
    "if(a>100):\n",
    "    print(\"final ammount after 10% discount \",a-(a*0.1))\n",
    "else:\n",
    "    print('total price', a)"
   ]
  },
  {
   "cell_type": "code",
   "execution_count": 15,
   "id": "79df8075",
   "metadata": {},
   "outputs": [
    {
     "name": "stdout",
     "output_type": "stream",
     "text": [
      "enter your age 90\n",
      "ticket price : $8\n"
     ]
    }
   ],
   "source": [
    "# Q.3  A cinema charges different ticket prices based on age:\n",
    "# Children (under 12): $7\n",
    "# Adults (12 to 60): $10\n",
    "# Seniors (above 60): $8\n",
    "# Write a Python program that asks for the user's age and prints the ticket price accordingly.\n",
    "\n",
    "age=int(input('enter your age '))\n",
    "if(age<12):\n",
    "    print(\"ticket price : $7\")\n",
    "elif(age>=12 and age<=60):\n",
    "    print(\"ticket price : $10\")\n",
    "elif(age>60):\n",
    "    print(\"ticket price : $8\")"
   ]
  },
  {
   "cell_type": "code",
   "execution_count": 19,
   "id": "97821c19",
   "metadata": {},
   "outputs": [
    {
     "name": "stdout",
     "output_type": "stream",
     "text": [
      "enter your income 50000\n",
      "enter your credit score 650\n",
      "Not eligible for a loan\n"
     ]
    }
   ],
   "source": [
    "# Q.4  Write a Python program that checks if a person is\n",
    "#  eligible for a loan based on their income and credit score. The person is eligible if their income is above $50,000 and their credit score is above 650.\n",
    "salery=int(input('enter your income '))\n",
    "credit=int(input('enter your credit score '))\n",
    "\n",
    "if(salery>50000):\n",
    "    if(credit>650):\n",
    "        print(\"eligible for a loan\")\n",
    "    else:\n",
    "        print(\"Not eligible for a loan\")\n",
    "else:\n",
    "    print(\"Not eligible for a loan\")"
   ]
  },
  {
   "cell_type": "code",
   "execution_count": 26,
   "id": "d6229f55",
   "metadata": {},
   "outputs": [
    {
     "name": "stdout",
     "output_type": "stream",
     "text": [
      "enter how many times per week you want to visit 0\n",
      "Bronze: $50/month for access 3 times a week\n"
     ]
    }
   ],
   "source": [
    "# Q.5  A gym offers different types of memberships:\n",
    "# Gold: $100/month for unlimited access\n",
    "# Silver: $70/month for access 5 times a week\n",
    "# Bronze: $50/month for access 3 times a week\n",
    "# Write a Python program that asks the user how many times per week they plan to visit the gymand suggests the best membership option.\n",
    "time=int(input('enter how many times per week you want to visit '))\n",
    "if(time>5):\n",
    "    print(\"Gold: $100/month for unlimited access\")\n",
    "elif(time<=3):\n",
    "    print(\"Bronze: $50/month for access 3 times a week\")\n",
    "elif(time<=5):\n",
    "    print(\"Silver: $70/month for access 5 times a week\")\n",
    "\n"
   ]
  },
  {
   "cell_type": "code",
   "execution_count": 4,
   "id": "7bcb5cce",
   "metadata": {},
   "outputs": [
    {
     "name": "stdout",
     "output_type": "stream",
     "text": [
      "enter your order amount 40\n",
      "enter inside or outside the city inside\n",
      "total amount  45\n"
     ]
    }
   ],
   "source": [
    "# Q.6  A company offers free delivery for orders above $50 within the city,but charges $5 for deliveries outside the city. Write a Python program that asks the user for the order amount and location (inside or outside the city) and calculates the total amount including any delivery charges.\n",
    "\n",
    "amount=int(input('enter your order amount '))\n",
    "location=input('enter inside or outside the city ')\n",
    "if(amount>50 and location=='inside' ):\n",
    "    print('free delivery \\ntotal amount ',amount)\n",
    "\n",
    "else:\n",
    "    print('total amount ',amount+5)\n",
    "\n"
   ]
  },
  {
   "cell_type": "code",
   "execution_count": 11,
   "id": "65b998c8",
   "metadata": {},
   "outputs": [
    {
     "name": "stdout",
     "output_type": "stream",
     "text": [
      "enter total hours 9\n",
      "total amount $  26\n"
     ]
    }
   ],
   "source": [
    "# Q.7 A parking lot charges $5 for the first 2 hours and $3 for every additional hour. Write a program that takes the number of hours a vehicle was parked as input and calculates the total parking fee.\n",
    "hour=int(input(\"enter total hours \"))\n",
    "charge=5\n",
    "if(hour<=2):\n",
    "    print('total amount $ ',charge)\n",
    "elif(hour>2):\n",
    "    a=hour-2\n",
    "    print('total amount $ ',charge+(3*a))\n",
    "\n",
    "    "
   ]
  },
  {
   "cell_type": "code",
   "execution_count": null,
   "id": "1492a396",
   "metadata": {},
   "outputs": [],
   "source": []
  }
 ],
 "metadata": {
  "kernelspec": {
   "display_name": "Python 3 (ipykernel)",
   "language": "python",
   "name": "python3"
  },
  "language_info": {
   "codemirror_mode": {
    "name": "ipython",
    "version": 3
   },
   "file_extension": ".py",
   "mimetype": "text/x-python",
   "name": "python",
   "nbconvert_exporter": "python",
   "pygments_lexer": "ipython3",
   "version": "3.10.9"
  }
 },
 "nbformat": 4,
 "nbformat_minor": 5
}
