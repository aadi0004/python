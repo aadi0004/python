{
 "cells": [
  {
   "cell_type": "markdown",
   "id": "f514c2c5",
   "metadata": {},
   "source": [
    "#loop in python\n",
    "1. for loop\n",
    "2. while loop\n"
   ]
  },
  {
   "cell_type": "markdown",
   "id": "2a57481f",
   "metadata": {},
   "source": [
    "### 1. for loop"
   ]
  },
  {
   "cell_type": "code",
   "execution_count": 3,
   "id": "d929cc73",
   "metadata": {},
   "outputs": [
    {
     "name": "stdout",
     "output_type": "stream",
     "text": [
      "1\n",
      "3\n",
      "5\n",
      "7\n"
     ]
    }
   ],
   "source": [
    "#for loop\n",
    "for i in range(1,8,2):\n",
    "    print(i)"
   ]
  },
  {
   "cell_type": "code",
   "execution_count": 6,
   "id": "1003f4bc",
   "metadata": {},
   "outputs": [
    {
     "name": "stdout",
     "output_type": "stream",
     "text": [
      "s\n",
      "a\n",
      "m\n"
     ]
    }
   ],
   "source": [
    "#method 2\n",
    "a='sam'\n",
    "len(a)\n",
    "for i in range(len(a)):\n",
    "    print(a[i])"
   ]
  },
  {
   "cell_type": "code",
   "execution_count": 7,
   "id": "e07d28bc",
   "metadata": {},
   "outputs": [
    {
     "name": "stdout",
     "output_type": "stream",
     "text": [
      "s a m "
     ]
    }
   ],
   "source": [
    "#method 2\n",
    "a='sam'\n",
    "len(a)\n",
    "for i in range(len(a)):\n",
    "    print(a[i], end=' ')"
   ]
  },
  {
   "cell_type": "code",
   "execution_count": 9,
   "id": "8f45f825",
   "metadata": {},
   "outputs": [
    {
     "name": "stdout",
     "output_type": "stream",
     "text": [
      "s\n",
      "a\n",
      "m\n"
     ]
    }
   ],
   "source": [
    "# method 3\n",
    "for i in a:\n",
    "    print(i)"
   ]
  },
  {
   "cell_type": "code",
   "execution_count": 11,
   "id": "d37a7251",
   "metadata": {},
   "outputs": [
    {
     "name": "stdout",
     "output_type": "stream",
     "text": [
      "s a m "
     ]
    }
   ],
   "source": [
    "# method 3\n",
    "for i in a:\n",
    "    print(i,end=' ')"
   ]
  },
  {
   "cell_type": "markdown",
   "id": "c5e2fd1f",
   "metadata": {},
   "source": [
    "### 2. while loop"
   ]
  },
  {
   "cell_type": "markdown",
   "id": "e741862c",
   "metadata": {},
   "source": [
    "1. initilize\n",
    "2. condition\n",
    "3. increment / decrement"
   ]
  },
  {
   "cell_type": "code",
   "execution_count": 1,
   "id": "45a4ea1d",
   "metadata": {},
   "outputs": [
    {
     "name": "stdout",
     "output_type": "stream",
     "text": [
      "1\n",
      "2\n",
      "3\n"
     ]
    }
   ],
   "source": [
    "i=1\n",
    "n=3\n",
    "while (i<=n):\n",
    "    print(i)\n",
    "    i+=1"
   ]
  },
  {
   "cell_type": "markdown",
   "id": "f73d2fc6",
   "metadata": {},
   "source": [
    "#step 1 (i=1, n=3)\n",
    "while (1<=3):\n",
    "    print(i)\n",
    "    i=1+1=2\n",
    "#step 2 (i=2, n=3)\n",
    "while (2<=3):\n",
    "    print(i)\n",
    "    i=2+1=3\n",
    "#step 1 (i=3, n=3)\n",
    "while (3<=3):\n",
    "    print(i)\n",
    "    i=3+1=4\n",
    "#step 1 (i=4, n=3)\n",
    "while (4<=3):\n",
    "    break"
   ]
  },
  {
   "cell_type": "code",
   "execution_count": 5,
   "id": "4e30cc86",
   "metadata": {},
   "outputs": [
    {
     "name": "stdout",
     "output_type": "stream",
     "text": [
      "enter starting value 3\n",
      "enter ending value 5\n",
      "sum is  12\n"
     ]
    }
   ],
   "source": [
    "#2. write a program to add numbers\n",
    "i=int(input(\"enter starting value \"))\n",
    "n=int(input(\"enter ending value \"))\n",
    "sum=0\n",
    "while(i<=n):\n",
    "    sum=sum+i\n",
    "    i+=1\n",
    "print(\"sum is \",sum)\n"
   ]
  },
  {
   "cell_type": "markdown",
   "id": "b2a615fb",
   "metadata": {},
   "source": [
    "\n",
    "#step-1 (i = 1, n = 4, sum = 0 ) \n",
    "while(1<=4):\n",
    "    sum=0+1=1\n",
    "    i=1+1=2\n",
    "\n",
    "#step-2 (1=2, n=4, sum=1) \n",
    "while(2<=4):\n",
    "    sum=1+2 = 3\n",
    "    i= 2+1 =3\n",
    " \n",
    "#step-3 (1=3, n=4, sum=3) \n",
    "while(3<=4):\n",
    "    sum=3+3 = 6\n",
    "    i= 3+1 =4\n",
    "    \n",
    "#step-4 (1=4, n=4, sum=6) \n",
    "while(4<=4):\n",
    "    sum=6+4 = 10\n",
    "    i= 4+1 =5\n",
    "  \n",
    "#step-5 (1=5, n=4, sum=10) \n",
    "while(5<=4):\n",
    "    break"
   ]
  },
  {
   "cell_type": "code",
   "execution_count": 2,
   "id": "f2ebb4f3",
   "metadata": {},
   "outputs": [
    {
     "name": "stdout",
     "output_type": "stream",
     "text": [
      "14\n"
     ]
    }
   ],
   "source": [
    "#digit square sum\n",
    "i=123\n",
    "sum=0\n",
    "while(i>0):\n",
    "    sum=sum + (i%10 )* (i%10)\n",
    "    i=i//10\n",
    "print(sum)"
   ]
  },
  {
   "cell_type": "markdown",
   "id": "2b3d0b85",
   "metadata": {},
   "source": [
    "#step 1 (i=123, sum=0)\n",
    "while (123>0):\n",
    "    sum= 0+ (123%10=3)*(123%10=3)=9\n",
    "    i=123//10=12\n",
    "    \n",
    "#step 2 (i=12, sum=9)\n",
    "while (123>0):\n",
    "    sum= 9+ (12%10=2)*(12%10=2)=4 =13\n",
    "    i=12//10=1\n",
    "    \n",
    "#step 3 (i=1, sum=0)\n",
    "while (123>0):\n",
    "    sum= 13+ (1%10=1)*(1%10=1)=1= 14\n",
    "    i=1//10=0\n",
    "    \n",
    "    \n",
    "sum=14\n",
    "    "
   ]
  },
  {
   "cell_type": "code",
   "execution_count": 13,
   "id": "2f6668bc",
   "metadata": {},
   "outputs": [
    {
     "name": "stdout",
     "output_type": "stream",
     "text": [
      "enter a number 153\n",
      "armstrong number\n"
     ]
    }
   ],
   "source": [
    "i=int(input(\"enter a number \"))\n",
    "sum=0\n",
    "j=i\n",
    "while(i>0):\n",
    "    sum=sum + (i%10 )*(i%10)*(i%10)\n",
    "    i=i//10\n",
    "if (j==sum):\n",
    "    print(\"armstrong number\")\n",
    "else:\n",
    "    print(\"not armstrong\")\n",
    "    \n"
   ]
  },
  {
   "cell_type": "code",
   "execution_count": 34,
   "id": "02f158a5",
   "metadata": {},
   "outputs": [
    {
     "name": "stdout",
     "output_type": "stream",
     "text": [
      "6\n",
      "4\n"
     ]
    }
   ],
   "source": [
    "i=1234\n",
    "sum=0\n",
    "esum=0\n",
    "osum=0\n",
    "while(i>0):\n",
    "    sum= (i%10 )\n",
    "    if (sum%2==0):\n",
    "        esum=esum+sum\n",
    "    else:\n",
    "        osum=osum+sum\n",
    "    i=i//10\n",
    "print(esum)\n",
    "print(osum)"
   ]
  },
  {
   "cell_type": "code",
   "execution_count": 39,
   "id": "11dcab08",
   "metadata": {},
   "outputs": [
    {
     "name": "stdout",
     "output_type": "stream",
     "text": [
      "32321\n"
     ]
    }
   ],
   "source": [
    "# reverse number\n",
    "num=12323\n",
    "rem=0\n",
    "sum=0\n",
    "while(num>0):\n",
    "    rem=num%10\n",
    "    sum=sum*10+rem\n",
    "    num=num//10\n",
    "print(sum)"
   ]
  },
  {
   "cell_type": "code",
   "execution_count": null,
   "id": "03f65fab",
   "metadata": {},
   "outputs": [],
   "source": []
  }
 ],
 "metadata": {
  "kernelspec": {
   "display_name": "Python 3 (ipykernel)",
   "language": "python",
   "name": "python3"
  },
  "language_info": {
   "codemirror_mode": {
    "name": "ipython",
    "version": 3
   },
   "file_extension": ".py",
   "mimetype": "text/x-python",
   "name": "python",
   "nbconvert_exporter": "python",
   "pygments_lexer": "ipython3",
   "version": "3.10.9"
  }
 },
 "nbformat": 4,
 "nbformat_minor": 5
}
