{
 "cells": [
  {
   "cell_type": "raw",
   "id": "b207aab0",
   "metadata": {},
   "source": [
    "oops in python"
   ]
  },
  {
   "cell_type": "raw",
   "id": "ee60c80e",
   "metadata": {},
   "source": [
    "class:  A class is like a blueprint for creating objects or a specific instance of a class .\n",
    "        A class defines atteributes and methods that the object will have\n",
    "    "
   ]
  },
  {
   "cell_type": "code",
   "execution_count": 2,
   "id": "668b3eff",
   "metadata": {},
   "outputs": [
    {
     "name": "stdout",
     "output_type": "stream",
     "text": [
      "mahi salary is : 23000\n",
      "sam salary is : 39000\n"
     ]
    }
   ],
   "source": [
    "class employee():\n",
    "    company='regex'\n",
    "    salary=20000\n",
    "    \n",
    "mahi=employee()\n",
    "sam=employee()\n",
    "mahi.salary=23000\n",
    "sam.salary=39000\n",
    "print(\"mahi salary is :\",mahi.salary)\n",
    "print(\"sam salary is :\",sam.salary)"
   ]
  },
  {
   "cell_type": "code",
   "execution_count": 5,
   "id": "528ab768",
   "metadata": {},
   "outputs": [
    {
     "name": "stdout",
     "output_type": "stream",
     "text": [
      "This is a red Totota with 4 \n",
      "This is a blue honda with 4 \n"
     ]
    }
   ],
   "source": [
    "class car:\n",
    "    wheel=4\n",
    "    \n",
    "    def __init__(self,brand,color):\n",
    "        self.brand=brand\n",
    "        self.color=color\n",
    "        \n",
    "    def describe(self):\n",
    "            return f\"This is a {self.color} {self.brand} with {self.wheel} \"\n",
    "        \n",
    "        \n",
    "car1=car(\"Totota\",'red')\n",
    "car2=car(\"honda\",'blue')\n",
    "\n",
    "print(car1.describe())\n",
    "print(car2.describe())"
   ]
  },
  {
   "cell_type": "code",
   "execution_count": 6,
   "id": "6f37e904",
   "metadata": {},
   "outputs": [
    {
     "name": "stdout",
     "output_type": "stream",
     "text": [
      "color is:  white\n",
      "brand is : suzuki\n"
     ]
    }
   ],
   "source": [
    "class car:\n",
    "    wheel=4\n",
    "    brand='toyota'\n",
    "    color='red'\n",
    "    \n",
    "a=car()\n",
    "a.color='white'\n",
    "a.brand='suzuki'\n",
    "print(\"color is: \",a.color)\n",
    "print(\"brand is :\", a.brand)"
   ]
  },
  {
   "cell_type": "markdown",
   "id": "d1a6f644",
   "metadata": {},
   "source": [
    "## THe init method(constructor)"
   ]
  },
  {
   "cell_type": "code",
   "execution_count": 7,
   "id": "7d8f2870",
   "metadata": {},
   "outputs": [
    {
     "name": "stdout",
     "output_type": "stream",
     "text": [
      "My name is sam and i am 23 years old\n"
     ]
    }
   ],
   "source": [
    "class person:\n",
    "    def __init__(self,name,age):\n",
    "        self.name=name\n",
    "        self.age=age\n",
    "    def introduce(self):\n",
    "        return f\"My name is {self.name} and i am {self.age} years old\"\n",
    "\n",
    "person1=person('sam',23)\n",
    "print(person1.introduce())"
   ]
  },
  {
   "cell_type": "raw",
   "id": "3f677358",
   "metadata": {},
   "source": [
    "Q1. what are getter and setter methods\n",
    "\n",
    "getter:\n",
    "    a method that allows us to get or retrive the value of private variable\n",
    "setter:\n",
    "    A method that allows us to set or change the value of a private variable usually with some chcks or rules .\n",
    "\n",
    "    \n",
    "In python aggregate pro[erty] to make a method as a getter and @attribute.setter to set the setter"
   ]
  },
  {
   "cell_type": "raw",
   "id": "40a64ba2",
   "metadata": {},
   "source": [
    "q2. why do we use them\n",
    "\n",
    "in object oriented programming we keep some attributes private or hidden  from outside the class to protect the data insted of directly use of that attributes we use getter and setter methods and this allows us to control who can assess the data and how the data is updated "
   ]
  },
  {
   "cell_type": "code",
   "execution_count": null,
   "id": "98f0eaee",
   "metadata": {},
   "outputs": [],
   "source": []
  }
 ],
 "metadata": {
  "kernelspec": {
   "display_name": "Python 3 (ipykernel)",
   "language": "python",
   "name": "python3"
  },
  "language_info": {
   "codemirror_mode": {
    "name": "ipython",
    "version": 3
   },
   "file_extension": ".py",
   "mimetype": "text/x-python",
   "name": "python",
   "nbconvert_exporter": "python",
   "pygments_lexer": "ipython3",
   "version": "3.10.9"
  }
 },
 "nbformat": 4,
 "nbformat_minor": 5
}
