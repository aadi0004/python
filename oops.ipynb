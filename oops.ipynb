{
 "cells": [
  {
   "cell_type": "code",
   "execution_count": 1,
   "id": "d193d33f-6623-4420-b08b-f9c76a3a92bd",
   "metadata": {},
   "outputs": [],
   "source": [
    "# oops cconcept\n",
    "# object oriented programing system\n",
    "# object => real time entity => charchterstic and behaviour\n",
    "# object \n",
    "# class : blueprint for an object \n",
    "# class: to define blueprint for an object "
   ]
  },
  {
   "cell_type": "code",
   "execution_count": 10,
   "id": "f5fad5c4-afc4-48ec-b4e1-61f0dddc4738",
   "metadata": {},
   "outputs": [],
   "source": [
    "class houseDesign:\n",
    "    color =\"white\"\n",
    "    room=4\n",
    "\n",
    "    def rent(self):\n",
    "        print(\"House will be for rent\")"
   ]
  },
  {
   "cell_type": "code",
   "execution_count": 11,
   "id": "6983fa0e-d533-457b-ba8f-7c456f45d26e",
   "metadata": {},
   "outputs": [
    {
     "name": "stdout",
     "output_type": "stream",
     "text": [
      "white 4\n",
      "House will be for rent\n"
     ]
    }
   ],
   "source": [
    "a= houseDesign()\n",
    "print(a.color, a.room)\n",
    "a.rent()"
   ]
  },
  {
   "cell_type": "code",
   "execution_count": 20,
   "id": "45ab3906-f0e3-40bb-a561-83485f43a911",
   "metadata": {},
   "outputs": [],
   "source": [
    "class houseDesign:\n",
    "    color =\"white\"\n",
    "    room=4\n",
    "\n",
    "    def rent(self):\n",
    "        print(\"House will be for rent\")"
   ]
  },
  {
   "cell_type": "code",
   "execution_count": 21,
   "id": "b06732be-2965-4b22-b1b7-5bc45b28bd7b",
   "metadata": {},
   "outputs": [
    {
     "name": "stdout",
     "output_type": "stream",
     "text": [
      "white\n",
      "red\n"
     ]
    }
   ],
   "source": [
    "a=houseDesign()\n",
    "print(a.color)\n",
    "a.color='red'\n",
    "print(a.color)"
   ]
  },
  {
   "cell_type": "code",
   "execution_count": 26,
   "id": "b369a9d8-dbed-4955-a4f7-9ac6db34662c",
   "metadata": {},
   "outputs": [
    {
     "name": "stdout",
     "output_type": "stream",
     "text": [
      "white\n"
     ]
    }
   ],
   "source": [
    "a2=houseDesign()\n",
    "print(a2.color)"
   ]
  },
  {
   "cell_type": "code",
   "execution_count": 29,
   "id": "cef9c048-28ec-4bdf-aee7-03f899b2a46f",
   "metadata": {},
   "outputs": [
    {
     "name": "stdout",
     "output_type": "stream",
     "text": [
      "yellow\n"
     ]
    }
   ],
   "source": [
    "houseDesign.color= \"yellow\"\n",
    "print(a2.color)\n"
   ]
  },
  {
   "cell_type": "code",
   "execution_count": null,
   "id": "00201f86-f041-4524-b046-172772f5453e",
   "metadata": {},
   "outputs": [],
   "source": [
    "# this color and room is class variable \n",
    "# assosiated with class "
   ]
  },
  {
   "cell_type": "code",
   "execution_count": 30,
   "id": "1197ad2a-ec1c-4724-bb46-c7334fa07a45",
   "metadata": {},
   "outputs": [],
   "source": [
    "# counstructer => functions\n",
    "# used to initialize memory for an object\n",
    "# default and parametized\n",
    "\n",
    "class HouseDesign:\n",
    "    def __init__(self):\n",
    "        print(\"Constructor ko bulaya\")"
   ]
  },
  {
   "cell_type": "code",
   "execution_count": 36,
   "id": "c449fd7f-d462-47e1-a3a7-fda68ebf0ea3",
   "metadata": {},
   "outputs": [
    {
     "name": "stdout",
     "output_type": "stream",
     "text": [
      "Constructor ko bulaya\n",
      "h1 =>  <__main__.HouseDesign object at 0x000001FFF17E3470>\n"
     ]
    }
   ],
   "source": [
    "h1=HouseDesign()\n",
    "print(\"h1 => \",h1)"
   ]
  },
  {
   "cell_type": "code",
   "execution_count": 37,
   "id": "0d5a64f6-1df3-4d28-bf9f-362f52874295",
   "metadata": {},
   "outputs": [],
   "source": [
    "# self stores current object reference"
   ]
  },
  {
   "cell_type": "code",
   "execution_count": 44,
   "id": "c033f935-ddfd-4f2e-b718-1e11e2e2447e",
   "metadata": {},
   "outputs": [],
   "source": [
    "\n",
    "class HouseDesign:\n",
    "    def __init__(self,x,y):\n",
    "        self.color=x\n",
    "        self.room=y\n",
    "        print(\"Constructor ko bulaya => \", self.color , self.room)"
   ]
  },
  {
   "cell_type": "code",
   "execution_count": 50,
   "id": "658c04f4-bb4b-4cbe-9c7a-77a47e9b4f21",
   "metadata": {},
   "outputs": [
    {
     "name": "stdout",
     "output_type": "stream",
     "text": [
      "Constructor ko bulaya =>  yellow 4\n",
      "yellow\n"
     ]
    }
   ],
   "source": [
    "h1=HouseDesign(\"yellow\",4)\n",
    "print(h1.color)\n",
    "# print(h1,x) # errroe local variable"
   ]
  },
  {
   "cell_type": "code",
   "execution_count": 47,
   "id": "03a388a8-5dbd-4185-a1b8-b20c388c2297",
   "metadata": {},
   "outputs": [
    {
     "name": "stdout",
     "output_type": "stream",
     "text": [
      "Constructor ko bulaya =>  green 2\n"
     ]
    }
   ],
   "source": [
    "h2= HouseDesign(\"green\",2)"
   ]
  },
  {
   "cell_type": "code",
   "execution_count": 51,
   "id": "5797db9d-5e4b-41ba-8d28-d44676121e41",
   "metadata": {},
   "outputs": [],
   "source": [
    "\n",
    "class HouseDesign:\n",
    "    def __init__(self,x,y):\n",
    "        self.color=x\n",
    "        self.room=y\n",
    "        # print(\"Constructor ko bulaya => \", self.color , self.room)\n",
    "\n",
    "    def info(self):\n",
    "        print(f\"House has color {self.color} and room is {self.room}\")\n",
    "        "
   ]
  },
  {
   "cell_type": "code",
   "execution_count": 53,
   "id": "2e953c6b-825f-45bd-9979-f124c2660421",
   "metadata": {},
   "outputs": [
    {
     "name": "stdout",
     "output_type": "stream",
     "text": [
      "House has color yellow and room is 4\n"
     ]
    }
   ],
   "source": [
    "h1=HouseDesign(\"yellow\",4)\n",
    "h1.info()"
   ]
  },
  {
   "cell_type": "markdown",
   "id": "877e3f6e-0150-4392-97a9-aac341b392e0",
   "metadata": {},
   "source": [
    "# inheritence , types of inheritence and class variable vs instance variable  "
   ]
  },
  {
   "cell_type": "code",
   "execution_count": null,
   "id": "b1de3a41-db7a-41ae-8c5a-abb7ffc63255",
   "metadata": {},
   "outputs": [],
   "source": []
  }
 ],
 "metadata": {
  "kernelspec": {
   "display_name": "Python 3 (ipykernel)",
   "language": "python",
   "name": "python3"
  },
  "language_info": {
   "codemirror_mode": {
    "name": "ipython",
    "version": 3
   },
   "file_extension": ".py",
   "mimetype": "text/x-python",
   "name": "python",
   "nbconvert_exporter": "python",
   "pygments_lexer": "ipython3",
   "version": "3.12.7"
  }
 },
 "nbformat": 4,
 "nbformat_minor": 5
}
