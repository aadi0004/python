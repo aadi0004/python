{
 "cells": [
  {
   "cell_type": "code",
   "execution_count": 5,
   "id": "3f6536f7",
   "metadata": {},
   "outputs": [
    {
     "name": "stdout",
     "output_type": "stream",
     "text": [
      "enter first angle: 60\n",
      "enter secound angle: 60\n",
      "enter third angle: 60\n",
      "Triangle\n"
     ]
    }
   ],
   "source": [
    "# 1 Write a program that takes a user input of three angles and will find out whether it can form a triangle or not.\n",
    "a1=int(input(\"enter first angle: \"))\n",
    "a2=int(input(\"enter secound angle: \"))\n",
    "a3=int(input(\"enter third angle: \"))\n",
    "if(a1+a2+a3==180):\n",
    "    print(\"Triangle\")\n",
    "else:\n",
    "    print(\"not a triangle\")"
   ]
  },
  {
   "cell_type": "code",
   "execution_count": 7,
   "id": "c14d137d",
   "metadata": {},
   "outputs": [
    {
     "name": "stdout",
     "output_type": "stream",
     "text": [
      "enter tempreature: 89\n",
      "enter humadity : 90\n",
      "Hot and humid\n"
     ]
    }
   ],
   "source": [
    "#2.\n",
    "temp=int(input(\"enter tempreature: \"))\n",
    "huma=int(input(\"enter humadity : \"))\n",
    "if( temp>=30 and huma>=90 ):\n",
    "    print(\"Hot and humid\")\n",
    "elif( temp>=30 and huma<90 ):\n",
    "    print(\"Hot\")\n",
    "elif( temp<30 and huma>=90 ):\n",
    "    print(\"cool and humid\")\n",
    "elif( temp<30 and huma<90 ):\n",
    "    print(\"cool\")"
   ]
  },
  {
   "cell_type": "code",
   "execution_count": 11,
   "id": "2bd70047",
   "metadata": {},
   "outputs": [
    {
     "name": "stdout",
     "output_type": "stream",
     "text": [
      "enter cost price: 45\n",
      "enter selling price: 765\n",
      "profit\n"
     ]
    }
   ],
   "source": [
    "# 3.Write a program that will take user input of cost price and selling price and determines whether its a loss or a profit\n",
    "cprice=int(input(\"enter cost price: \"))\n",
    "sprice=int(input(\"enter selling price: \"))\n",
    "if(sprice>cprice):\n",
    "    print(\"profit\")\n",
    "elif(sprice<cprice):\n",
    "    print(\"loss\")\n",
    "elif(sprice==cprice):\n",
    "    print(\"no loss no profit\")\n"
   ]
  },
  {
   "cell_type": "code",
   "execution_count": 28,
   "id": "c6b53ba4",
   "metadata": {},
   "outputs": [
    {
     "name": "stdout",
     "output_type": "stream",
     "text": [
      "enter head : 34\n",
      "enter legs : 666\n",
      "The inputs are not valid for chickens and dogs.\n",
      "Chickens: -265, Dogs: 299\n"
     ]
    }
   ],
   "source": [
    "\n",
    "# heads=int(input(\"enter head : \"))\n",
    "# legs=int(input(\"enter legs : \"))\n",
    "# if( legs % 2 != 0):\n",
    "#     print( \"Invalid input: Legs must be an even number.\")\n",
    "\n",
    "# dogs = (legs - 2 * heads) // 2\n",
    "# chickens = heads - dogs\n",
    "\n",
    "#     # Check if the solution is valid\n",
    "# if chickens < 0 or dogs < 0:\n",
    "#     print( \"The inputs are not valid for chickens and dogs.\")\n",
    "\n",
    "# print( f\"Chickens: {chickens}, Dogs: {dogs}\")\n"
   ]
  },
  {
   "cell_type": "code",
   "execution_count": 30,
   "id": "48da91b9",
   "metadata": {},
   "outputs": [
    {
     "name": "stdout",
     "output_type": "stream",
     "text": [
      "enter number: 3\n",
      "not divisible\n"
     ]
    }
   ],
   "source": [
    "# Program to check whether a number is divisible by 5 and 11 or not\n",
    "num=int(input(\"enter number: \"))\n",
    "if(num%5==0 and num%11==0):\n",
    "    print(\"divisible by both 5 and 11\")\n",
    "else:\n",
    "    print(\"not divisible\")"
   ]
  },
  {
   "cell_type": "code",
   "execution_count": 33,
   "id": "22aef2f3",
   "metadata": {},
   "outputs": [
    {
     "name": "stdout",
     "output_type": "stream",
     "text": [
      "enter first angle: 170\n",
      "enter secound angle: 5\n",
      "enter third angle: 5\n",
      "Valid Triangle\n"
     ]
    }
   ],
   "source": [
    "# Write a program to check whether triangle is valid or not if angles are given.\n",
    "a1=int(input(\"enter first angle: \"))\n",
    "a2=int(input(\"enter secound angle: \"))\n",
    "a3=int(input(\"enter third angle: \"))\n",
    "if(a1+a2+a3==180):\n",
    "    print(\"Valid Triangle\")\n",
    "else:\n",
    "    \n",
    "    print(\"not valid triangle\")"
   ]
  },
  {
   "cell_type": "raw",
   "id": "660a2b2f",
   "metadata": {},
   "source": [
    "7. Write a program to check whether triangle is equilateral, scalene or isosceles\n",
    "a. A triangle is said Equilateral Triangle, if all its sides are equal. If a, b, c are\n",
    "three sides of triangle. Then, the triangle is equilateral only if a == b == c\n",
    "b. A triangle is said Isosceles Triangle, if its two sides are equal. If a, b, c are\n",
    "three sides of triangle. Then, the triangle is isosceles if either a == b or a == c\n",
    "or b == c.\n",
    "c. A triangle is said Scalene Triangle, if none of its sides are equal."
   ]
  },
  {
   "cell_type": "code",
   "execution_count": 37,
   "id": "91d4bb6a",
   "metadata": {},
   "outputs": [
    {
     "name": "stdout",
     "output_type": "stream",
     "text": [
      "enter first side: 3\n",
      "enter secound side: 45\n",
      "enter third side: 7\n",
      "Scalene Triangle\n"
     ]
    }
   ],
   "source": [
    "a=int(input(\"enter first side: \"))\n",
    "b=int(input(\"enter secound side: \"))\n",
    "c=int(input(\"enter third side: \"))\n",
    "if(a==b==c):\n",
    "    print(\"Equilateral Triangle\")\n",
    "elif(a == b or a == c or b == c):\n",
    "    print(\"Isosceles Triangle\")\n",
    "else:\n",
    "    print(\"Scalene Triangle\")"
   ]
  },
  {
   "cell_type": "code",
   "execution_count": 45,
   "id": "528f2b99",
   "metadata": {},
   "outputs": [
    {
     "name": "stdout",
     "output_type": "stream",
     "text": [
      "Enter the basic salary of the employee: 9086\n",
      "The gross salary of the employee is: 18172.0\n"
     ]
    }
   ],
   "source": [
    "basic_salary = float(input(\"Enter the basic salary of the employee: \"))\n",
    "\n",
    "if basic_salary <= 10000:\n",
    "        hra = 0.20 * basic_salary   \n",
    "        da = 0.80 * basic_salary    \n",
    "elif 10001 <= basic_salary <= 20000:\n",
    "        hra = 0.25 * basic_salary   \n",
    "        da = 0.90 * basic_salary    \n",
    "else: \n",
    "        hra = 0.30 * basic_salary  \n",
    "        da = 0.95 * basic_salary   \n",
    "\n",
    "gross_salary = basic_salary + hra + da\n",
    "print(f\"The gross salary of the employee is: {gross_salary}\")"
   ]
  },
  {
   "cell_type": "raw",
   "id": "e755fec1",
   "metadata": {},
   "source": [
    "9. Write a program to calculate the total electricity bill based on the following conditions:\n",
    "a. The first 50 unit will be calculated with 2 rs/unit\n",
    "b. The next 100 unit will be calculated with 5 rs/unit\n",
    "c. The next 150 unit will be calculated with 10 rs/unit\n",
    "d. All the other units will be calculated with 15 rs/unit"
   ]
  },
  {
   "cell_type": "code",
   "execution_count": 28,
   "id": "921bbd1a",
   "metadata": {},
   "outputs": [
    {
     "name": "stdout",
     "output_type": "stream",
     "text": [
      "enter unit: 550\n",
      "5850\n"
     ]
    }
   ],
   "source": [
    "unit=int(input(\"enter unit: \"))\n",
    "if(unit<=50):\n",
    "    bill=unit*2.0\n",
    "elif(unit<=150):\n",
    "    bill=((unit-50)*5) + (50*2)\n",
    "elif(unit<=300):\n",
    "    bill=(100*5) + (50*2)+ (unit-150)*10\n",
    "else:\n",
    "    bill=(100*5) + (50*2)+ 150*10 +(unit-300)*15\n",
    "print(bill)"
   ]
  },
  {
   "cell_type": "code",
   "execution_count": null,
   "id": "2221074c",
   "metadata": {},
   "outputs": [],
   "source": [
    "10. Write a program to check whether any year is a leap year or not\n",
    "a. A leap year is exactly divisible by 4 except for century years (years ending\n",
    "with 00). The century year is a leap year only if it is perfectly divisible by 400."
   ]
  },
  {
   "cell_type": "code",
   "execution_count": 39,
   "id": "d460de30",
   "metadata": {},
   "outputs": [
    {
     "name": "stdout",
     "output_type": "stream",
     "text": [
      "enter year: 2022\n",
      "not leap year\n"
     ]
    }
   ],
   "source": [
    "year=int(input(\"enter year: \"))\n",
    "if((year%4==0 and year%100!=0) or year%400==0 ):\n",
    "    print(\"leap year\")\n",
    "else:\n",
    "    print(\"not leap year\")"
   ]
  },
  {
   "cell_type": "code",
   "execution_count": 49,
   "id": "0c535418",
   "metadata": {},
   "outputs": [
    {
     "name": "stdout",
     "output_type": "stream",
     "text": [
      "enter number: 1234\n",
      "4321\n"
     ]
    }
   ],
   "source": [
    "# 11. Write a program that will reverse a four digit number.Also it checks whether the  reverse\n",
    "num=int(input(\"enter number: \"))\n",
    "rem=0\n",
    "sum1=0\n",
    "if(len(str(num))==4):\n",
    "    while(num>0):\n",
    "        rem=num%10\n",
    "        sum1=sum1*10+rem\n",
    "        num=num//10\n",
    "    print(sum1)\n",
    "else:\n",
    "    print(\"please enter 4 digit number\")\n"
   ]
  },
  {
   "cell_type": "code",
   "execution_count": 58,
   "id": "954fc540",
   "metadata": {},
   "outputs": [
    {
     "name": "stdout",
     "output_type": "stream",
     "text": [
      "enter number: 153\n",
      "armstrong number\n"
     ]
    }
   ],
   "source": [
    "# 12. Write a program that will check whether the number is armstrong number or not\n",
    "num=int(input(\"enter number: \"))\n",
    "rem=0\n",
    "sum1=0\n",
    "a=num\n",
    "while(num>0):\n",
    "        rem=num%10\n",
    "        sum1=sum1+rem*rem*rem\n",
    "        num=num//10\n",
    "if(a==sum1):\n",
    "    print(\"armstrong number\")\n",
    "else:\n",
    "    print(\"not armstrong number\")"
   ]
  },
  {
   "cell_type": "code",
   "execution_count": null,
   "id": "955198fa",
   "metadata": {},
   "outputs": [],
   "source": []
  },
  {
   "cell_type": "markdown",
   "id": "94a3c88d",
   "metadata": {},
   "source": [
    "## loops "
   ]
  },
  {
   "cell_type": "code",
   "execution_count": 64,
   "id": "0d4f9337",
   "metadata": {},
   "outputs": [
    {
     "name": "stdout",
     "output_type": "stream",
     "text": [
      "enter number:34\n",
      "1 2 17 34 "
     ]
    }
   ],
   "source": [
    "# 1. Print all factors of a given number provided by the user.\n",
    "num=int(input(\"enter number:\" ))\n",
    "for i in range(1,num+1):\n",
    "    if(num%i==0):\n",
    "        print(i,end=\" \")"
   ]
  },
  {
   "cell_type": "code",
   "execution_count": 69,
   "id": "7d8eb8c5",
   "metadata": {},
   "outputs": [
    {
     "name": "stdout",
     "output_type": "stream",
     "text": [
      "153 armstrong number\n",
      "370 armstrong number\n",
      "371 armstrong number\n",
      "407 armstrong number\n"
     ]
    }
   ],
   "source": [
    "# 2. Print all the armstrong numbers in the range of 100 to 1000 [M]\n",
    "\n",
    "for num in range(100,1000):\n",
    "    rem=0\n",
    "    sum1=0\n",
    "    a=num\n",
    "    while(num>0):\n",
    "            rem=num%10\n",
    "            sum1=sum1+rem*rem*rem\n",
    "            num=num//10\n",
    "    if(a==sum1):\n",
    "        print(sum1,\"armstrong number\")\n"
   ]
  },
  {
   "cell_type": "raw",
   "id": "bb7f40b7",
   "metadata": {},
   "source": [
    "3. The current population of a town is 10000. The population of the town is increasing at\n",
    "the rate of 10% per year. You have to write a program to find out the population at the\n",
    "end of each of the last 10 years. For eg current population is 10000 so the output\n",
    "should be like this:\n",
    "a. 10th year => 10000\n",
    "b. 09th year => 9000\n",
    "c. 08th year => 8100 and so on"
   ]
  },
  {
   "cell_type": "code",
   "execution_count": 81,
   "id": "10fd7f11",
   "metadata": {},
   "outputs": [
    {
     "name": "stdout",
     "output_type": "stream",
     "text": [
      "10 year 10000\n",
      "9 year 9000\n",
      "8 year 8100\n",
      "7 year 7290\n",
      "6 year 6561\n",
      "5 year 5904\n",
      "4 year 5313\n",
      "3 year 4781\n",
      "2 year 4302\n",
      "1 year 3871\n"
     ]
    }
   ],
   "source": [
    "popu=10000\n",
    "for i in range(11,1,-1):\n",
    "    print(i-1, \"year\", popu)\n",
    "    popu=int(popu-(popu*0.1))\n"
   ]
  },
  {
   "cell_type": "code",
   "execution_count": 91,
   "id": "5719a9fd",
   "metadata": {},
   "outputs": [
    {
     "name": "stdout",
     "output_type": "stream",
     "text": [
      "enter number: 23\n",
      "prime\n"
     ]
    }
   ],
   "source": [
    "# 4. Write a program to print whether a given number is prime number or not\n",
    "num=int(input(\"enter number: \"))\n",
    "a=0\n",
    "if(num>1):\n",
    "    for i in range(2,num):\n",
    "        if(num%i==0):\n",
    "            a+=1\n",
    "    if(a!=0):\n",
    "        print(\"not prime\")\n",
    "    else:\n",
    "        print(\"prime\")\n",
    "else:\n",
    "    print(\"enter right input\")"
   ]
  },
  {
   "cell_type": "code",
   "execution_count": 98,
   "id": "9935dc49",
   "metadata": {},
   "outputs": [
    {
     "name": "stdout",
     "output_type": "stream",
     "text": [
      "enter num1 43\n",
      "enter num2 23\n",
      "LCM is: 989\n"
     ]
    }
   ],
   "source": [
    "# 5. User will provide 2 numbers you have to find the by LCM of those 2 numbers\n",
    "num1=int(input(\"enter num1 \"))\n",
    "num2=int(input(\"enter num2 \"))\n",
    "max1=max(num1,num2)\n",
    "while True:\n",
    "    if(max1%num1==0 and max1%num2==0):\n",
    "        print(\"LCM is:\",max1)\n",
    "        break\n",
    "    max1+=1"
   ]
  },
  {
   "cell_type": "code",
   "execution_count": 7,
   "id": "6b7eb6a3",
   "metadata": {},
   "outputs": [
    {
     "name": "stdout",
     "output_type": "stream",
     "text": [
      "1\n"
     ]
    }
   ],
   "source": [
    "# 6. User will provide 2 numbers you have to find the HCF of those 2 numbers\n",
    "num1=5\n",
    "num2=7\n",
    "if(num1<num2):\n",
    "    small=num1\n",
    "else:\n",
    "    small=num2\n",
    "for i in range(1, small+1):\n",
    "        if((num1 % i == 0) and (num2 % i == 0)):\n",
    "            hcf = i \n",
    "print(hcf)"
   ]
  },
  {
   "cell_type": "code",
   "execution_count": 13,
   "id": "19f26250",
   "metadata": {},
   "outputs": [
    {
     "name": "stdout",
     "output_type": "stream",
     "text": [
      "enter n terms: 10\n",
      "55\n"
     ]
    }
   ],
   "source": [
    "# 7. Write a program to find the sum of first n numbers, where n will be provided by the\n",
    "# user. Eg if the user provides n=10 the output should be 55.\n",
    "n=int(input(\"enter n terms: \"))\n",
    "sum1=0\n",
    "for i in range(1,n+1):\n",
    "    sum1=sum1+i\n",
    "print(sum1)"
   ]
  },
  {
   "cell_type": "code",
   "execution_count": 22,
   "id": "310b3fcd",
   "metadata": {},
   "outputs": [
    {
     "name": "stdout",
     "output_type": "stream",
     "text": [
      "enter num1 7\n",
      "enter num2 3\n",
      "21\n"
     ]
    }
   ],
   "source": [
    "# 8. Write a program that can multiply 2 numbers provided by the user without using the ( * multiply) operator\n",
    "num1=int(input(\"enter num1 \"))\n",
    "num2=int(input(\"enter num2 \"))\n",
    "mul=0\n",
    "for i in range(1,num2+1):\n",
    "    mul=num1+mul\n",
    "print(mul)"
   ]
  },
  {
   "cell_type": "code",
   "execution_count": 3,
   "id": "0807f044",
   "metadata": {},
   "outputs": [
    {
     "name": "stdout",
     "output_type": "stream",
     "text": [
      "enter num1 5\n",
      "120\n"
     ]
    }
   ],
   "source": [
    "# 9. Write a program that can find the factorial of a given number provided by the user.\n",
    "num1=int(input(\"enter num1 \"))\n",
    "fact=1\n",
    "while(num1>0):\n",
    "    fact=fact*num1\n",
    "    num1=num1-1\n",
    "print(fact)"
   ]
  },
  {
   "cell_type": "code",
   "execution_count": 6,
   "id": "e1aef44f",
   "metadata": {},
   "outputs": [
    {
     "name": "stdout",
     "output_type": "stream",
     "text": [
      "enter num1 6754\n",
      "4\n"
     ]
    }
   ],
   "source": [
    "# 10. Write a program to count the total number of digits in a number using a while loop.\n",
    "# a. For example, the number is 75869, so the output should be 5.\n",
    "num1=int(input(\"enter num1 \"))\n",
    "sum1=0\n",
    "rem=0\n",
    "c=0\n",
    "while(num1>0):\n",
    "    rem=rem%10\n",
    "    c=c+1\n",
    "    num1=num1//10\n",
    "print(c)"
   ]
  },
  {
   "cell_type": "code",
   "execution_count": 2,
   "id": "967258eb",
   "metadata": {},
   "outputs": [
    {
     "name": "stdout",
     "output_type": "stream",
     "text": [
      "enter number: (0 for exit)6\n",
      "enter number: (0 for exit)7\n",
      "enter number: (0 for exit)0\n",
      "Sum : 13\n",
      "Average : 6.5\n"
     ]
    }
   ],
   "source": [
    "# 11. Write a program that keeps on accepting a number from the user until the user enters\n",
    "# Zero. Display the sum and average of all the numbers.\n",
    "sum1=0\n",
    "c=0\n",
    "while True:\n",
    "    num=int(input(\"enter number: (0 for exit)\"))\n",
    "    if(num==0):\n",
    "        break\n",
    "    sum1=sum1+num\n",
    "    c=c+1\n",
    "print(\"Sum :\", sum1)\n",
    "print(\"Average :\", sum1/c)\n",
    "\n"
   ]
  },
  {
   "cell_type": "code",
   "execution_count": 8,
   "id": "4f8eee25",
   "metadata": {},
   "outputs": [
    {
     "name": "stdout",
     "output_type": "stream",
     "text": [
      "enter num 3\n",
      "3, 6, 9, 12, 15, 18, 21, 24, 27, 30, "
     ]
    }
   ],
   "source": [
    "# 12. Write a program to print multiplication table of a given number For example, num = 2\n",
    "# so the output should be 2,4,6,8....20.\n",
    "num1=int(input(\"enter num \"))\n",
    "for i in range(1,11):\n",
    "    print(i*num1,end=\", \")"
   ]
  },
  {
   "cell_type": "code",
   "execution_count": 9,
   "id": "ac666ed0",
   "metadata": {},
   "outputs": [
    {
     "name": "stdout",
     "output_type": "stream",
     "text": [
      "enter num 5\n",
      "5, 10, 15, 20, 25, 30, 35, 40, 45, 50, \n",
      "done\n"
     ]
    }
   ],
   "source": [
    "# 13. Use else block to display a message “Done” after successful execution of for loop\n",
    "# For example, the following loop will execute without any error.\n",
    "num1=int(input(\"enter num \"))\n",
    "for i in range(1,11):\n",
    "    print(i*num1,end=\", \")\n",
    "else:\n",
    "    print(\"\\ndone\")"
   ]
  },
  {
   "cell_type": "raw",
   "id": "5ac516da",
   "metadata": {},
   "source": [
    "14. Display Fibonacci series up to 10 terms\n",
    "a. The Fibonacci Sequence is a series of numbers. The next number is found by\n",
    "adding up the two numbers before it. The first two numbers are 0 and 1.\n",
    "b. For example, 0, 1, 1, 2, 3, 5, 8, 13, 21. The next number in this series above\n",
    "is 13+21 = 34."
   ]
  },
  {
   "cell_type": "code",
   "execution_count": 19,
   "id": "e32e4dfe",
   "metadata": {},
   "outputs": [
    {
     "name": "stdout",
     "output_type": "stream",
     "text": [
      "enter num 10\n",
      "0 1 2 3 5 8 13 21 34 55 "
     ]
    }
   ],
   "source": [
    "n1,n2=0,1\n",
    "num1=int(input(\"enter num \"))\n",
    "print(0,end=\" \")\n",
    "for i in range(2,num1+1):\n",
    "    num3=n1+n2\n",
    "    n1=n2\n",
    "    n2=num3\n",
    "    print(num3,end=\" \")"
   ]
  },
  {
   "cell_type": "code",
   "execution_count": 26,
   "id": "8705c884",
   "metadata": {},
   "outputs": [
    {
     "name": "stdout",
     "output_type": "stream",
     "text": [
      "(1, 2) (1, 3) (1, 4) (2, 3) (2, 4) (3, 4) "
     ]
    }
   ],
   "source": [
    "# 15. Write a program to print all the unique combinations of two digits from 1 to 4 for ex\n",
    "# (1,2),(2,3)..... [Medium level]\n",
    "for i in range(1,5):\n",
    "    for j in range(i,5):\n",
    "        if(i!=j):\n",
    "            print((i,j),end=\" \")\n"
   ]
  },
  {
   "cell_type": "code",
   "execution_count": null,
   "id": "b6284138",
   "metadata": {},
   "outputs": [],
   "source": []
  }
 ],
 "metadata": {
  "kernelspec": {
   "display_name": "Python 3 (ipykernel)",
   "language": "python",
   "name": "python3"
  },
  "language_info": {
   "codemirror_mode": {
    "name": "ipython",
    "version": 3
   },
   "file_extension": ".py",
   "mimetype": "text/x-python",
   "name": "python",
   "nbconvert_exporter": "python",
   "pygments_lexer": "ipython3",
   "version": "3.10.9"
  }
 },
 "nbformat": 4,
 "nbformat_minor": 5
}
